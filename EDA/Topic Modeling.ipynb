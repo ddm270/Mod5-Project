{
 "cells": [
  {
   "cell_type": "markdown",
   "metadata": {},
   "source": [
    "### 0. Import Libraries and Packages"
   ]
  },
  {
   "cell_type": "code",
   "execution_count": 76,
   "metadata": {},
   "outputs": [],
   "source": [
    "import pandas as pd\n",
    "import numpy as np\n",
    "import sklearn\n",
    "import string\n",
    "import nltk\n",
    "from nltk.corpus import stopwords\n",
    "from nltk import word_tokenize\n",
    "from nltk.stem import WordNetLemmatizer\n",
    "from nltk.stem import PorterStemmer\n",
    "from nltk.tokenize import RegexpTokenizer\n",
    "import matplotlib.pyplot as plt\n",
    "import seaborn as sns\n",
    "from matplotlib import cm\n",
    "from sklearn.feature_extraction.text import CountVectorizer\n",
    "from sklearn.model_selection import GridSearchCV\n",
    "import spacy\n",
    "from spacy.lemmatizer import Lemmatizer\n",
    "from spacy.lookups import Lookups\n",
    "from sklearn.decomposition import LatentDirichletAllocation\n",
    "import pyLDAvis.sklearn\n",
    "\n",
    "%matplotlib inline"
   ]
  },
  {
   "cell_type": "markdown",
   "metadata": {},
   "source": [
    "### 1. Load Metacritic Album Review Data\n"
   ]
  },
  {
   "cell_type": "code",
   "execution_count": 4,
   "metadata": {},
   "outputs": [],
   "source": [
    "df = pd.read_csv('clean_users.csv', engine='python')"
   ]
  },
  {
   "cell_type": "code",
   "execution_count": 5,
   "metadata": {},
   "outputs": [],
   "source": [
    "df1 = pd.read_csv('clean_critics.csv', engine='python')"
   ]
  },
  {
   "cell_type": "code",
   "execution_count": 6,
   "metadata": {},
   "outputs": [],
   "source": [
    "df = df.drop(columns = 'Unnamed: 0')\n",
    "df1 = df1.drop(columns = 'Unnamed: 0')"
   ]
  },
  {
   "cell_type": "code",
   "execution_count": 7,
   "metadata": {},
   "outputs": [
    {
     "data": {
      "text/html": [
       "<div>\n",
       "<style scoped>\n",
       "    .dataframe tbody tr th:only-of-type {\n",
       "        vertical-align: middle;\n",
       "    }\n",
       "\n",
       "    .dataframe tbody tr th {\n",
       "        vertical-align: top;\n",
       "    }\n",
       "\n",
       "    .dataframe thead th {\n",
       "        text-align: right;\n",
       "    }\n",
       "</style>\n",
       "<table border=\"1\" class=\"dataframe\">\n",
       "  <thead>\n",
       "    <tr style=\"text-align: right;\">\n",
       "      <th></th>\n",
       "      <th>title</th>\n",
       "      <th>artist</th>\n",
       "      <th>label</th>\n",
       "      <th>release_date</th>\n",
       "      <th>metascore</th>\n",
       "      <th>user_score</th>\n",
       "      <th>genre</th>\n",
       "      <th>summary</th>\n",
       "      <th>name</th>\n",
       "      <th>date</th>\n",
       "      <th>...</th>\n",
       "      <th>review</th>\n",
       "      <th>clean_review</th>\n",
       "      <th>length</th>\n",
       "      <th>word_count</th>\n",
       "      <th>sentiment</th>\n",
       "      <th>negative</th>\n",
       "      <th>neutral</th>\n",
       "      <th>positive</th>\n",
       "      <th>sent_class</th>\n",
       "      <th>rating_sent</th>\n",
       "    </tr>\n",
       "  </thead>\n",
       "  <tbody>\n",
       "    <tr>\n",
       "      <th>0</th>\n",
       "      <td>Continuum</td>\n",
       "      <td>John Mayer</td>\n",
       "      <td>Sony</td>\n",
       "      <td>2006-09-12</td>\n",
       "      <td>67.0</td>\n",
       "      <td>8.9</td>\n",
       "      <td>Adult Alternative</td>\n",
       "      <td>The singer-songwriter's first album in three y...</td>\n",
       "      <td>ibadukefan</td>\n",
       "      <td>2014-02-02</td>\n",
       "      <td>...</td>\n",
       "      <td>This is John Mayer in the zone.  This is where...</td>\n",
       "      <td>john mayer zone lives kind making rest career ...</td>\n",
       "      <td>441.0</td>\n",
       "      <td>83.0</td>\n",
       "      <td>-0.3761</td>\n",
       "      <td>0.154</td>\n",
       "      <td>0.728</td>\n",
       "      <td>0.118</td>\n",
       "      <td>-1.0</td>\n",
       "      <td>1.0</td>\n",
       "    </tr>\n",
       "    <tr>\n",
       "      <th>1</th>\n",
       "      <td>Continuum</td>\n",
       "      <td>John Mayer</td>\n",
       "      <td>Sony</td>\n",
       "      <td>2006-09-12</td>\n",
       "      <td>67.0</td>\n",
       "      <td>8.9</td>\n",
       "      <td>Adult Alternative</td>\n",
       "      <td>The singer-songwriter's first album in three y...</td>\n",
       "      <td>ToddW</td>\n",
       "      <td>2006-09-27</td>\n",
       "      <td>...</td>\n",
       "      <td>I give Little, Good John kudos for at least t...</td>\n",
       "      <td>give little good john kudos least turning ligh...</td>\n",
       "      <td>575.0</td>\n",
       "      <td>102.0</td>\n",
       "      <td>-0.3651</td>\n",
       "      <td>0.222</td>\n",
       "      <td>0.576</td>\n",
       "      <td>0.202</td>\n",
       "      <td>-1.0</td>\n",
       "      <td>-1.0</td>\n",
       "    </tr>\n",
       "    <tr>\n",
       "      <th>2</th>\n",
       "      <td>Continuum</td>\n",
       "      <td>John Mayer</td>\n",
       "      <td>Sony</td>\n",
       "      <td>2006-09-12</td>\n",
       "      <td>67.0</td>\n",
       "      <td>8.9</td>\n",
       "      <td>Adult Alternative</td>\n",
       "      <td>The singer-songwriter's first album in three y...</td>\n",
       "      <td>ChristopherG.</td>\n",
       "      <td>2007-08-01</td>\n",
       "      <td>...</td>\n",
       "      <td>John Mayer... oh John Mayer. A talented blues...</td>\n",
       "      <td>john mayer oh john mayer talented bluesguitari...</td>\n",
       "      <td>653.0</td>\n",
       "      <td>117.0</td>\n",
       "      <td>0.9371</td>\n",
       "      <td>0.057</td>\n",
       "      <td>0.678</td>\n",
       "      <td>0.266</td>\n",
       "      <td>1.0</td>\n",
       "      <td>-1.0</td>\n",
       "    </tr>\n",
       "    <tr>\n",
       "      <th>3</th>\n",
       "      <td>Continuum</td>\n",
       "      <td>John Mayer</td>\n",
       "      <td>Sony</td>\n",
       "      <td>2006-09-12</td>\n",
       "      <td>67.0</td>\n",
       "      <td>8.9</td>\n",
       "      <td>Adult Alternative</td>\n",
       "      <td>The singer-songwriter's first album in three y...</td>\n",
       "      <td>jfrotylpe532</td>\n",
       "      <td>2012-12-21</td>\n",
       "      <td>...</td>\n",
       "      <td>John Mayer brings a great sounding album as a ...</td>\n",
       "      <td>john mayer brings great sounding matter fact w...</td>\n",
       "      <td>108.0</td>\n",
       "      <td>20.0</td>\n",
       "      <td>0.7964</td>\n",
       "      <td>0.000</td>\n",
       "      <td>0.497</td>\n",
       "      <td>0.503</td>\n",
       "      <td>1.0</td>\n",
       "      <td>1.0</td>\n",
       "    </tr>\n",
       "    <tr>\n",
       "      <th>4</th>\n",
       "      <td>Continuum</td>\n",
       "      <td>John Mayer</td>\n",
       "      <td>Sony</td>\n",
       "      <td>2006-09-12</td>\n",
       "      <td>67.0</td>\n",
       "      <td>8.9</td>\n",
       "      <td>Adult Alternative</td>\n",
       "      <td>The singer-songwriter's first album in three y...</td>\n",
       "      <td>ErinY</td>\n",
       "      <td>2006-09-12</td>\n",
       "      <td>...</td>\n",
       "      <td>It is great to have John Mayer back. This alb...</td>\n",
       "      <td>great john mayer back definitely best really s...</td>\n",
       "      <td>123.0</td>\n",
       "      <td>22.0</td>\n",
       "      <td>0.9001</td>\n",
       "      <td>0.000</td>\n",
       "      <td>0.389</td>\n",
       "      <td>0.611</td>\n",
       "      <td>1.0</td>\n",
       "      <td>1.0</td>\n",
       "    </tr>\n",
       "  </tbody>\n",
       "</table>\n",
       "<p>5 rows × 21 columns</p>\n",
       "</div>"
      ],
      "text/plain": [
       "       title      artist label release_date  metascore user_score  \\\n",
       "0  Continuum  John Mayer  Sony   2006-09-12       67.0        8.9   \n",
       "1  Continuum  John Mayer  Sony   2006-09-12       67.0        8.9   \n",
       "2  Continuum  John Mayer  Sony   2006-09-12       67.0        8.9   \n",
       "3  Continuum  John Mayer  Sony   2006-09-12       67.0        8.9   \n",
       "4  Continuum  John Mayer  Sony   2006-09-12       67.0        8.9   \n",
       "\n",
       "               genre                                            summary  \\\n",
       "0  Adult Alternative  The singer-songwriter's first album in three y...   \n",
       "1  Adult Alternative  The singer-songwriter's first album in three y...   \n",
       "2  Adult Alternative  The singer-songwriter's first album in three y...   \n",
       "3  Adult Alternative  The singer-songwriter's first album in three y...   \n",
       "4  Adult Alternative  The singer-songwriter's first album in three y...   \n",
       "\n",
       "            name        date  ...  \\\n",
       "0     ibadukefan  2014-02-02  ...   \n",
       "1          ToddW  2006-09-27  ...   \n",
       "2  ChristopherG.  2007-08-01  ...   \n",
       "3   jfrotylpe532  2012-12-21  ...   \n",
       "4          ErinY  2006-09-12  ...   \n",
       "\n",
       "                                              review  \\\n",
       "0  This is John Mayer in the zone.  This is where...   \n",
       "1   I give Little, Good John kudos for at least t...   \n",
       "2   John Mayer... oh John Mayer. A talented blues...   \n",
       "3  John Mayer brings a great sounding album as a ...   \n",
       "4   It is great to have John Mayer back. This alb...   \n",
       "\n",
       "                                        clean_review length  word_count  \\\n",
       "0  john mayer zone lives kind making rest career ...  441.0        83.0   \n",
       "1  give little good john kudos least turning ligh...  575.0       102.0   \n",
       "2  john mayer oh john mayer talented bluesguitari...  653.0       117.0   \n",
       "3  john mayer brings great sounding matter fact w...  108.0        20.0   \n",
       "4  great john mayer back definitely best really s...  123.0        22.0   \n",
       "\n",
       "   sentiment  negative  neutral  positive  sent_class  rating_sent  \n",
       "0    -0.3761     0.154    0.728     0.118        -1.0          1.0  \n",
       "1    -0.3651     0.222    0.576     0.202        -1.0         -1.0  \n",
       "2     0.9371     0.057    0.678     0.266         1.0         -1.0  \n",
       "3     0.7964     0.000    0.497     0.503         1.0          1.0  \n",
       "4     0.9001     0.000    0.389     0.611         1.0          1.0  \n",
       "\n",
       "[5 rows x 21 columns]"
      ]
     },
     "execution_count": 7,
     "metadata": {},
     "output_type": "execute_result"
    }
   ],
   "source": [
    "df.head()"
   ]
  },
  {
   "cell_type": "code",
   "execution_count": 8,
   "metadata": {},
   "outputs": [
    {
     "data": {
      "text/html": [
       "<div>\n",
       "<style scoped>\n",
       "    .dataframe tbody tr th:only-of-type {\n",
       "        vertical-align: middle;\n",
       "    }\n",
       "\n",
       "    .dataframe tbody tr th {\n",
       "        vertical-align: top;\n",
       "    }\n",
       "\n",
       "    .dataframe thead th {\n",
       "        text-align: right;\n",
       "    }\n",
       "</style>\n",
       "<table border=\"1\" class=\"dataframe\">\n",
       "  <thead>\n",
       "    <tr style=\"text-align: right;\">\n",
       "      <th></th>\n",
       "      <th>title</th>\n",
       "      <th>artist</th>\n",
       "      <th>label</th>\n",
       "      <th>release_date</th>\n",
       "      <th>metascore</th>\n",
       "      <th>user_score</th>\n",
       "      <th>genre</th>\n",
       "      <th>summary</th>\n",
       "      <th>name</th>\n",
       "      <th>date</th>\n",
       "      <th>...</th>\n",
       "      <th>clean_review</th>\n",
       "      <th>length</th>\n",
       "      <th>word_count</th>\n",
       "      <th>sentiment</th>\n",
       "      <th>negative</th>\n",
       "      <th>neutral</th>\n",
       "      <th>positive</th>\n",
       "      <th>sent_class</th>\n",
       "      <th>rating_sent</th>\n",
       "      <th>sp_lm</th>\n",
       "    </tr>\n",
       "  </thead>\n",
       "  <tbody>\n",
       "    <tr>\n",
       "      <th>0</th>\n",
       "      <td>The Wanting</td>\n",
       "      <td>Glenn Jones</td>\n",
       "      <td>Thrill Jockey</td>\n",
       "      <td>2011-09-13</td>\n",
       "      <td>77.0</td>\n",
       "      <td>tbd</td>\n",
       "      <td>Adult Alternative</td>\n",
       "      <td>The fourth solo acoustic album for the guitari...</td>\n",
       "      <td>Mojo</td>\n",
       "      <td>2011-09-27</td>\n",
       "      <td>...</td>\n",
       "      <td>best dreams oct p</td>\n",
       "      <td>103.0</td>\n",
       "      <td>8.0</td>\n",
       "      <td>0.7845</td>\n",
       "      <td>0.000</td>\n",
       "      <td>0.225</td>\n",
       "      <td>0.775</td>\n",
       "      <td>1.0</td>\n",
       "      <td>1.0</td>\n",
       "      <td>good dream oct p</td>\n",
       "    </tr>\n",
       "    <tr>\n",
       "      <th>1</th>\n",
       "      <td>The Wanting</td>\n",
       "      <td>Glenn Jones</td>\n",
       "      <td>Thrill Jockey</td>\n",
       "      <td>2011-09-13</td>\n",
       "      <td>77.0</td>\n",
       "      <td>tbd</td>\n",
       "      <td>Adult Alternative</td>\n",
       "      <td>The fourth solo acoustic album for the guitari...</td>\n",
       "      <td>Boston Globe</td>\n",
       "      <td>2011-09-22</td>\n",
       "      <td>...</td>\n",
       "      <td>jones furthers exploratory path hes committed ...</td>\n",
       "      <td>351.0</td>\n",
       "      <td>43.0</td>\n",
       "      <td>0.9274</td>\n",
       "      <td>0.078</td>\n",
       "      <td>0.493</td>\n",
       "      <td>0.428</td>\n",
       "      <td>1.0</td>\n",
       "      <td>1.0</td>\n",
       "      <td>jones further exploratory path   s commit tran...</td>\n",
       "    </tr>\n",
       "    <tr>\n",
       "      <th>2</th>\n",
       "      <td>The Wanting</td>\n",
       "      <td>Glenn Jones</td>\n",
       "      <td>Thrill Jockey</td>\n",
       "      <td>2011-09-13</td>\n",
       "      <td>77.0</td>\n",
       "      <td>tbd</td>\n",
       "      <td>Adult Alternative</td>\n",
       "      <td>The fourth solo acoustic album for the guitari...</td>\n",
       "      <td>AllMusic</td>\n",
       "      <td>2011-09-22</td>\n",
       "      <td>...</td>\n",
       "      <td>jones performances compositions years touched ...</td>\n",
       "      <td>372.0</td>\n",
       "      <td>56.0</td>\n",
       "      <td>0.4767</td>\n",
       "      <td>0.000</td>\n",
       "      <td>0.812</td>\n",
       "      <td>0.188</td>\n",
       "      <td>1.0</td>\n",
       "      <td>1.0</td>\n",
       "      <td>jones performances composition year touch them...</td>\n",
       "    </tr>\n",
       "    <tr>\n",
       "      <th>3</th>\n",
       "      <td>The Wanting</td>\n",
       "      <td>Glenn Jones</td>\n",
       "      <td>Thrill Jockey</td>\n",
       "      <td>2011-09-13</td>\n",
       "      <td>77.0</td>\n",
       "      <td>tbd</td>\n",
       "      <td>Adult Alternative</td>\n",
       "      <td>The fourth solo acoustic album for the guitari...</td>\n",
       "      <td>Drowned In Sound</td>\n",
       "      <td>2011-09-22</td>\n",
       "      <td>...</td>\n",
       "      <td>wanting boasts technical excellence cosy welco...</td>\n",
       "      <td>197.0</td>\n",
       "      <td>20.0</td>\n",
       "      <td>0.8932</td>\n",
       "      <td>0.000</td>\n",
       "      <td>0.457</td>\n",
       "      <td>0.543</td>\n",
       "      <td>1.0</td>\n",
       "      <td>1.0</td>\n",
       "      <td>want boast technical excellence cosy welcoming...</td>\n",
       "    </tr>\n",
       "    <tr>\n",
       "      <th>4</th>\n",
       "      <td>The Wanting</td>\n",
       "      <td>Glenn Jones</td>\n",
       "      <td>Thrill Jockey</td>\n",
       "      <td>2011-09-13</td>\n",
       "      <td>77.0</td>\n",
       "      <td>tbd</td>\n",
       "      <td>Adult Alternative</td>\n",
       "      <td>The fourth solo acoustic album for the guitari...</td>\n",
       "      <td>PopMatters</td>\n",
       "      <td>2011-09-22</td>\n",
       "      <td>...</td>\n",
       "      <td>makes space creates landscape invites</td>\n",
       "      <td>151.0</td>\n",
       "      <td>17.0</td>\n",
       "      <td>0.2732</td>\n",
       "      <td>0.000</td>\n",
       "      <td>0.656</td>\n",
       "      <td>0.344</td>\n",
       "      <td>1.0</td>\n",
       "      <td>1.0</td>\n",
       "      <td>make space create landscape invite</td>\n",
       "    </tr>\n",
       "  </tbody>\n",
       "</table>\n",
       "<p>5 rows × 22 columns</p>\n",
       "</div>"
      ],
      "text/plain": [
       "         title       artist          label release_date  metascore user_score  \\\n",
       "0  The Wanting  Glenn Jones  Thrill Jockey   2011-09-13       77.0        tbd   \n",
       "1  The Wanting  Glenn Jones  Thrill Jockey   2011-09-13       77.0        tbd   \n",
       "2  The Wanting  Glenn Jones  Thrill Jockey   2011-09-13       77.0        tbd   \n",
       "3  The Wanting  Glenn Jones  Thrill Jockey   2011-09-13       77.0        tbd   \n",
       "4  The Wanting  Glenn Jones  Thrill Jockey   2011-09-13       77.0        tbd   \n",
       "\n",
       "               genre                                            summary  \\\n",
       "0  Adult Alternative  The fourth solo acoustic album for the guitari...   \n",
       "1  Adult Alternative  The fourth solo acoustic album for the guitari...   \n",
       "2  Adult Alternative  The fourth solo acoustic album for the guitari...   \n",
       "3  Adult Alternative  The fourth solo acoustic album for the guitari...   \n",
       "4  Adult Alternative  The fourth solo acoustic album for the guitari...   \n",
       "\n",
       "               name        date  ...  \\\n",
       "0              Mojo  2011-09-27  ...   \n",
       "1      Boston Globe  2011-09-22  ...   \n",
       "2          AllMusic  2011-09-22  ...   \n",
       "3  Drowned In Sound  2011-09-22  ...   \n",
       "4        PopMatters  2011-09-22  ...   \n",
       "\n",
       "                                        clean_review length word_count  \\\n",
       "0                                  best dreams oct p  103.0        8.0   \n",
       "1  jones furthers exploratory path hes committed ...  351.0       43.0   \n",
       "2  jones performances compositions years touched ...  372.0       56.0   \n",
       "3  wanting boasts technical excellence cosy welco...  197.0       20.0   \n",
       "4              makes space creates landscape invites  151.0       17.0   \n",
       "\n",
       "   sentiment  negative  neutral  positive  sent_class  rating_sent  \\\n",
       "0     0.7845     0.000    0.225     0.775         1.0          1.0   \n",
       "1     0.9274     0.078    0.493     0.428         1.0          1.0   \n",
       "2     0.4767     0.000    0.812     0.188         1.0          1.0   \n",
       "3     0.8932     0.000    0.457     0.543         1.0          1.0   \n",
       "4     0.2732     0.000    0.656     0.344         1.0          1.0   \n",
       "\n",
       "                                               sp_lm  \n",
       "0                                   good dream oct p  \n",
       "1  jones further exploratory path   s commit tran...  \n",
       "2  jones performances composition year touch them...  \n",
       "3  want boast technical excellence cosy welcoming...  \n",
       "4                 make space create landscape invite  \n",
       "\n",
       "[5 rows x 22 columns]"
      ]
     },
     "execution_count": 8,
     "metadata": {},
     "output_type": "execute_result"
    }
   ],
   "source": [
    "df1.head()"
   ]
  },
  {
   "cell_type": "markdown",
   "metadata": {},
   "source": [
    "### 2. Preprocessing data sets for rap album reviews"
   ]
  },
  {
   "cell_type": "code",
   "execution_count": 9,
   "metadata": {},
   "outputs": [],
   "source": [
    "stopwords_list=stopwords.words('english')+list(string.punctuation)+['album','albums', 'songs', 'song', 'music', 'like', 'one']"
   ]
  },
  {
   "cell_type": "code",
   "execution_count": 10,
   "metadata": {},
   "outputs": [],
   "source": [
    "rap_u = df[df['genre'] == 'Rap']\n",
    "rap_c = df1[df1['genre'] == 'Rap']"
   ]
  },
  {
   "cell_type": "code",
   "execution_count": 11,
   "metadata": {},
   "outputs": [],
   "source": [
    "rap_u = rap_u.reset_index(drop = True)\n",
    "rap_c = rap_c.reset_index(drop = True)"
   ]
  },
  {
   "cell_type": "code",
   "execution_count": 12,
   "metadata": {},
   "outputs": [],
   "source": [
    "rapu_pos = rap_u[rap_u['sent_class'] == 1]\n",
    "rapc_pos = rap_c[rap_c['sent_class'] == 1]"
   ]
  },
  {
   "cell_type": "code",
   "execution_count": 13,
   "metadata": {},
   "outputs": [],
   "source": [
    "rapu_neg = rap_u[rap_u['sent_class'] == -1]\n",
    "rapc_neg = rap_c[rap_c['sent_class'] == -1]"
   ]
  },
  {
   "cell_type": "code",
   "execution_count": 14,
   "metadata": {},
   "outputs": [],
   "source": [
    "clean_rapu_pos = rapu_pos['clean_review']\n",
    "clean_rapc_pos = rapc_pos['clean_review']"
   ]
  },
  {
   "cell_type": "code",
   "execution_count": 15,
   "metadata": {},
   "outputs": [],
   "source": [
    "clean_rapu_neg = rapu_neg['clean_review']\n",
    "clean_rapc_neg = rapc_neg['clean_review']"
   ]
  },
  {
   "cell_type": "markdown",
   "metadata": {},
   "source": [
    "#### Tokenize"
   ]
  },
  {
   "cell_type": "code",
   "execution_count": 16,
   "metadata": {},
   "outputs": [],
   "source": [
    "tokenizer = RegexpTokenizer(r'[a-zA-Z0-9]+')\n",
    "\n"
   ]
  },
  {
   "cell_type": "code",
   "execution_count": 17,
   "metadata": {},
   "outputs": [],
   "source": [
    "#function to remove all stopwords, punctuations & unimportant words from the reviews and make a list\n",
    "def reduce(text):\n",
    "    tokens = tokenizer.tokenize(text) # tokenize every review\n",
    "    removed = [token.lower() for token in tokens if token.lower() not in stopwords_list]\n",
    "    return removed"
   ]
  },
  {
   "cell_type": "code",
   "execution_count": 18,
   "metadata": {},
   "outputs": [],
   "source": [
    "# remove all stopwords, punctuations & unimportant words from the reviews and make a list\n",
    "processed_rapu_pos = list(map(reduce, clean_rapu_pos))"
   ]
  },
  {
   "cell_type": "code",
   "execution_count": 19,
   "metadata": {},
   "outputs": [],
   "source": [
    "processed_rapc_pos = list(map(reduce, clean_rapc_pos))"
   ]
  },
  {
   "cell_type": "code",
   "execution_count": 20,
   "metadata": {},
   "outputs": [],
   "source": [
    "processed_rapu_neg = list(map(reduce, clean_rapu_neg))"
   ]
  },
  {
   "cell_type": "code",
   "execution_count": 21,
   "metadata": {},
   "outputs": [],
   "source": [
    "processed_rapc_neg = list(map(reduce, clean_rapc_neg))"
   ]
  },
  {
   "cell_type": "markdown",
   "metadata": {},
   "source": [
    "#### Lemma - Count Vectorizer"
   ]
  },
  {
   "cell_type": "code",
   "execution_count": 23,
   "metadata": {},
   "outputs": [],
   "source": [
    "def print_top_words(model, feature_names, n_top_words):\n",
    "    for index, topic in enumerate(model.components_):\n",
    "        message = \"\\nTopic #{}:\".format(index)\n",
    "        message += \" \".join([feature_names[i] for i in topic.argsort()[:-n_top_words - 1 :-1]])\n",
    "        print(message)\n",
    "        print(\"=\"*70)"
   ]
  },
  {
   "cell_type": "markdown",
   "metadata": {},
   "source": [
    "### 3. LDA Topic Modeling Rap Albums"
   ]
  },
  {
   "cell_type": "markdown",
   "metadata": {},
   "source": [
    "#### Lemmatize with Spacy"
   ]
  },
  {
   "cell_type": "code",
   "execution_count": 26,
   "metadata": {},
   "outputs": [],
   "source": [
    "nlp = spacy.load('en_core_web_md', disable=['parser', 'ner'])"
   ]
  },
  {
   "cell_type": "code",
   "execution_count": 25,
   "metadata": {},
   "outputs": [],
   "source": [
    "def lemmatization(texts, allowed_postags=['NOUN', 'ADJ', 'VERB', 'ADV']):\n",
    "    \"\"\"https://spacy.io/api/annotation\"\"\"\n",
    "    texts_out = []\n",
    "    for sent in texts:\n",
    "        doc = nlp(\" \".join(sent)) \n",
    "        texts_out.append(\" \".join([token.lemma_ if token.lemma_ not in ['-PRON-'] else '' for token in doc if token.pos_ in allowed_postags]))\n",
    "    return texts_out\n",
    "\n"
   ]
  },
  {
   "cell_type": "markdown",
   "metadata": {},
   "source": [
    "Positive User Reviews"
   ]
  },
  {
   "cell_type": "code",
   "execution_count": 29,
   "metadata": {},
   "outputs": [
    {
     "name": "stdout",
     "output_type": "stream",
     "text": [
      "['know love really enjoy mix beat selection easy love able go start finish want listen solid favorite pressure hit line dark place', 'logic exceed everybodys expectation stop try appease mainstream return great complete great themes lyric logic killer production d ix pretty good track hit line celebration dark place void bad sad see logic retire focus fatherhood respect least smile fact go']\n"
     ]
    }
   ],
   "source": [
    "# Keep only Noun, Adj, Verb, Adverb\n",
    "lemma_review = lemmatization(processed_rapu_pos, allowed_postags=['NOUN', 'ADJ', 'VERB', 'ADV'])\n",
    "\n",
    "print(lemma_review[:2])"
   ]
  },
  {
   "cell_type": "code",
   "execution_count": 114,
   "metadata": {},
   "outputs": [],
   "source": [
    "text3 = lemma_review\n",
    "\n",
    "vectorizer = CountVectorizer(analyzer='word',       \n",
    "                             min_df=5,                         \n",
    "                             stop_words=stopwords_list,             \n",
    "                             lowercase=True,                   \n",
    "                             token_pattern='[a-zA-Z0-9]{3,}',)\n",
    "\n",
    "tv3 = vectorizer.fit_transform(text3)"
   ]
  },
  {
   "cell_type": "code",
   "execution_count": 122,
   "metadata": {},
   "outputs": [
    {
     "name": "stdout",
     "output_type": "stream",
     "text": [
      "Fitting 5 folds for each of 12 candidates, totalling 60 fits\n"
     ]
    },
    {
     "name": "stderr",
     "output_type": "stream",
     "text": [
      "[Parallel(n_jobs=-1)]: Using backend LokyBackend with 8 concurrent workers.\n",
      "[Parallel(n_jobs=-1)]: Done  34 tasks      | elapsed:  8.9min\n",
      "[Parallel(n_jobs=-1)]: Done  60 out of  60 | elapsed: 13.6min finished\n"
     ]
    },
    {
     "data": {
      "text/plain": [
       "GridSearchCV(estimator=LatentDirichletAllocation(), n_jobs=-1,\n",
       "             param_grid={'learning_decay': [0.5, 0.7, 0.9, 1.0],\n",
       "                         'n_components': [3, 4, 5]},\n",
       "             verbose=1)"
      ]
     },
     "execution_count": 122,
     "metadata": {},
     "output_type": "execute_result"
    }
   ],
   "source": [
    "search_params = {'n_components': [3, 4, 5], 'learning_decay': [.5, .7, .9, 1.0]}\n",
    "\n",
    "lda_cv2 = LatentDirichletAllocation()\n",
    "\n",
    "model2 = GridSearchCV(lda_cv2, param_grid=search_params, verbose = 1, n_jobs =-1)\n",
    "\n",
    "model2.fit(tv3)"
   ]
  },
  {
   "cell_type": "code",
   "execution_count": 123,
   "metadata": {
    "scrolled": true
   },
   "outputs": [
    {
     "name": "stdout",
     "output_type": "stream",
     "text": [
      "Best Model's Params:  {'learning_decay': 0.7, 'n_components': 3}\n",
      "Best Log Likelihood Score:  -426236.2096571761\n",
      "Model Perplexity:  1090.1485498825446\n"
     ]
    }
   ],
   "source": [
    "# Best Model\n",
    "best_lda_model = model2.best_estimator_\n",
    "\n",
    "# Model Parameters\n",
    "print(\"Best Model's Params: \", model2.best_params_)\n",
    "\n",
    "# Log Likelihood Score\n",
    "print(\"Best Log Likelihood Score: \", model2.best_score_)\n",
    "\n",
    "# Perplexity\n",
    "print(\"Model Perplexity: \", best_lda_model.perplexity(tv3))"
   ]
  },
  {
   "cell_type": "code",
   "execution_count": 152,
   "metadata": {},
   "outputs": [
    {
     "data": {
      "image/png": "[encoded data removed]",
      "text/plain": [
       "<Figure size 864x576 with 1 Axes>"
      ]
     },
     "metadata": {
      "needs_background": "light"
     },
     "output_type": "display_data"
    }
   ],
   "source": [
    "n_topics = [3, 4, 5]\n",
    "log_likelyhoods_5 = [round(model2.cv_results_['mean_test_score'][index]) for index, gscore in enumerate(model2.cv_results_['params']) if gscore['learning_decay']==0.5]\n",
    "log_likelyhoods_7 = [round(model2.cv_results_['mean_test_score'][index]) for index, gscore in enumerate(model2.cv_results_['params']) if gscore['learning_decay']==0.7]\n",
    "log_likelyhoods_9 = [round(model2.cv_results_['mean_test_score'][index]) for index, gscore in enumerate(model2.cv_results_['params']) if gscore['learning_decay']==0.9]\n",
    "log_likelyhoods_10 = [round(model2.cv_results_['mean_test_score'][index]) for index, gscore in enumerate(model2.cv_results_['params']) if gscore['learning_decay']==1.0]\n",
    "\n",
    "plt.figure(figsize=(12, 8))\n",
    "plt.plot(n_topics, log_likelyhoods_5, label='0.5')\n",
    "plt.plot(n_topics, log_likelyhoods_7, label='0.7')\n",
    "plt.plot(n_topics, log_likelyhoods_9, label='0.9')\n",
    "plt.plot(n_topics, log_likelyhoods_10, label='1.0')\n",
    "plt.title(\"Choosing Optimal LDA Model\")\n",
    "plt.xlabel(\"Num Topics\")\n",
    "plt.ylabel(\"Log Likelyhood Scores\")\n",
    "plt.legend(title='Learning decay', loc='best')\n",
    "plt.show()"
   ]
  },
  {
   "cell_type": "code",
   "execution_count": 142,
   "metadata": {},
   "outputs": [
    {
     "name": "stdout",
     "output_type": "stream",
     "text": [
      "\n",
      "Topics in LDA model: \n",
      "\n",
      "Topic #0:good great sound track love really well rap make year amazing still production beat listen lyric work new bad rapper even artist favorite much nice style also far say pretty definitely hear think show fantastic overall long time hiphop feature\n",
      "======================================================================\n",
      "\n",
      "Topic #1:good well listen hip hop rap great time year make say get hear think ever rapper give love people fan come classic would even artist still first hiphop really new know release beat lyric way work take much track see\n",
      "======================================================================\n",
      "\n",
      "Topic #2:track production good great beat really make well lyric feel project flow rap feature sound listen much come still get time also overall first love even record work verse lot would seem bad hook take think way solid however amazing\n",
      "======================================================================\n"
     ]
    }
   ],
   "source": [
    "n_top_words = 40\n",
    "print(\"\\nTopics in LDA model: \")\n",
    "tv3_feature_names = vectorizer.get_feature_names()\n",
    "print_top_words(best_lda_model, tv3_feature_names, n_top_words)"
   ]
  },
  {
   "cell_type": "code",
   "execution_count": 141,
   "metadata": {},
   "outputs": [
    {
     "name": "stdout",
     "output_type": "stream",
     "text": [
      "Log Likelihood:  -2021755.9530164325\n",
      "Perplexity:  1082.381929199561\n",
      "{'batch_size': 128, 'doc_topic_prior': None, 'evaluate_every': -1, 'learning_decay': 0.7, 'learning_method': 'batch', 'learning_offset': 10.0, 'max_doc_update_iter': 100, 'max_iter': 10, 'mean_change_tol': 0.001, 'n_components': 3, 'n_jobs': None, 'perp_tol': 0.1, 'random_state': 0, 'topic_word_prior': None, 'total_samples': 1000000.0, 'verbose': 0}\n"
     ]
    }
   ],
   "source": [
    "# Log Likelyhood: Higher the better\n",
    "print(\"Log Likelihood: \", lda.score(tv3))\n",
    "\n",
    "# Perplexity: Lower the better. Perplexity = exp(-1. * log-likelihood per word)\n",
    "print(\"Perplexity: \", lda.perplexity(tv3))\n",
    "\n",
    "# See model parameters\n",
    "print(lda.get_params())"
   ]
  },
  {
   "cell_type": "code",
   "execution_count": 77,
   "metadata": {},
   "outputs": [],
   "source": [
    "pyLDAvis.enable_notebook()"
   ]
  },
  {
   "cell_type": "code",
   "execution_count": 143,
   "metadata": {},
   "outputs": [
    {
     "data": {
      "text/html": [
       "\n",
       "<link rel=\"stylesheet\" type=\"text/css\" href=\"https://cdn.rawgit.com/bmabey/pyLDAvis/files/ldavis.v1.0.0.css\">\n",
       "\n",
       "\n",
       "<div id=\"ldavis_el252121403515888800801009958053\"></div>\n",
       "<script type=\"text/javascript\">\n",
       "\n",
       "var ldavis_el252121403515888800801009958053_data = {\"mdsDat\": {\"x\": [-1015.7005615234375, -387.9960021972656, -2184.74560546875], \"y\": [1338.981201171875, -373.316162109375, -60.565799713134766], \"topics\": [1, 2, 3], \"cluster\": [1, 1, 1], \"Freq\": [43.6100435369598, 38.567522758526195, 17.822433704514005]}, \"tinfo\": {\"Term\": [\"good\", \"hip\", \"hop\", \"sound\", \"track\", \"great\", \"love\", \"year\", \"really\", \"ever\", \"people\", \"amazing\", \"production\", \"rap\", \"new\", \"nice\", \"listen\", \"rapper\", \"well\", \"verse\", \"classic\", \"hook\", \"still\", \"overall\", \"feature\", \"make\", \"hear\", \"hiphop\", \"fantastic\", \"favorite\", \"performance\", \"wife\", \"delivery\", \"schoolboy\", \"migo\", \"sharp\", \"oxymoron\", \"bland\", \"mental\", \"chorus\", \"bass\", \"compliment\", \"handful\", \"fade\", \"opening\", \"auto\", \"tackle\", \"switch\", \"absoul\", \"vary\", \"beam\", \"constant\", \"wide\", \"complement\", \"depart\", \"health\", \"instrumentation\", \"paak\", \"simplistic\", \"colorful\", \"memorable\", \"hook\", \"verse\", \"collaborator\", \"sometimes\", \"awkward\", \"banger\", \"value\", \"repetitive\", \"forgettable\", \"dark\", \"rodeo\", \"instrumental\", \"super\", \"enjoyable\", \"clever\", \"drug\", \"replay\", \"project\", \"track\", \"lack\", \"production\", \"feature\", \"lyricism\", \"solid\", \"deliver\", \"focus\", \"flow\", \"feel\", \"overall\", \"provide\", \"beat\", \"catchy\", \"vocal\", \"half\", \"however\", \"lyric\", \"short\", \"really\", \"seem\", \"great\", \"make\", \"record\", \"much\", \"also\", \"well\", \"good\", \"lot\", \"sound\", \"come\", \"first\", \"rap\", \"still\", \"listen\", \"get\", \"even\", \"time\", \"love\", \"work\", \"hip\", \"hop\", \"relapse\", \"reasonable\", \"walk\", \"revival\", \"cube\", \"swag\", \"learn\", \"critic\", \"recovery\", \"arise\", \"shop\", \"kamikaze\", \"award\", \"pitchfork\", \"independent\", \"outkast\", \"castle\", \"quit\", \"massacre\", \"player\", \"envelope\", \"cat\", \"outta\", \"offend\", \"bout\", \"leak\", \"doctor\", \"bitch\", \"dre\", \"blueprint\", \"crap\", \"air\", \"ever\", \"people\", \"root\", \"alternative\", \"doubt\", \"cent\", \"classic\", \"review\", \"sell\", \"generation\", \"true\", \"deserve\", \"decade\", \"game\", \"year\", \"top\", \"listen\", \"hear\", \"time\", \"say\", \"fan\", \"hiphop\", \"give\", \"rapper\", \"real\", \"get\", \"think\", \"well\", \"know\", \"rap\", \"good\", \"release\", \"come\", \"would\", \"make\", \"new\", \"first\", \"artist\", \"great\", \"love\", \"even\", \"still\", \"really\", \"nelly\", \"train\", \"scorpion\", \"ugly\", \"levitate\", \"icon\", \"blurryface\", \"trench\", \"beyonc\", \"pitbull\", \"hotline\", \"sicko\", \"bop\", \"bean\", \"definately\", \"rack\", \"dancehall\", \"arular\", \"disturb\", \"emotionless\", \"edgy\", \"freak\", \"concert\", \"meth\", \"vote\", \"lemonade\", \"skin\", \"cute\", \"gimmick\", \"elevate\", \"fav\", \"pilot\", \"saturation\", \"tech\", \"band\", \"humor\", \"mode\", \"bank\", \"mixture\", \"bomb\", \"juice\", \"female\", \"dance\", \"okay\", \"sexy\", \"grime\", \"hot\", \"good\", \"sound\", \"nice\", \"drake\", \"pop\", \"job\", \"girl\", \"great\", \"love\", \"country\", \"fantastic\", \"boy\", \"amazing\", \"really\", \"playlist\", \"rock\", \"similar\", \"track\", \"new\", \"favorite\", \"style\", \"year\", \"rap\", \"still\", \"make\", \"work\", \"well\", \"bad\", \"far\", \"pretty\", \"lyric\", \"beat\", \"production\", \"rapper\", \"listen\", \"artist\", \"even\", \"much\", \"also\", \"definitely\", \"say\"], \"Freq\": [7163.0, 1343.0, 1333.0, 1957.0, 4410.0, 3926.0, 2002.0, 1835.0, 2407.0, 932.0, 909.0, 1174.0, 2364.0, 2654.0, 1120.0, 433.0, 2621.0, 1320.0, 3216.0, 515.0, 878.0, 458.0, 1598.0, 809.0, 1054.0, 2747.0, 1284.0, 908.0, 400.0, 786.0, 172.9576423722869, 74.67321651628399, 262.2960157398979, 53.8480997498245, 48.894938897621124, 67.46805027788719, 42.955700134831375, 56.58860983866137, 41.94535167192346, 148.1099316433947, 52.426707809826844, 69.84590293869171, 32.98870638707389, 31.01797689259728, 31.911963551640778, 27.077636601919888, 28.012246037012858, 103.27745628785229, 26.061471818624337, 35.697721855246954, 26.986628873000647, 32.73213153917017, 34.64303876327735, 27.903242682899354, 22.109094429299486, 21.139899797463467, 70.15180922685178, 21.13231990356972, 24.008313245882754, 21.128763593869273, 98.80680785907317, 437.21299893416415, 487.8742777966986, 25.91913131541593, 155.02899964755574, 31.57466439681585, 254.8848190120586, 114.10148316893293, 129.0458506798009, 84.78017290512005, 304.9366881079021, 79.30583794466932, 243.83745072619084, 68.10937363370007, 238.93421536404762, 135.94578816948444, 191.70018735398725, 68.60398509578476, 898.0438172346015, 3119.643392672328, 279.2748268367064, 1670.6130708386283, 783.1405405703744, 271.3829979847933, 418.65449859253, 361.047721791663, 159.38672153700688, 859.4012319248075, 988.0192433043723, 569.3381493958293, 147.17176613680493, 1372.4872879451834, 258.2954984151082, 296.23185724175073, 220.60105850382863, 417.9475153397545, 1020.4005731785724, 263.50524319307107, 1154.799239337104, 450.89219297139334, 1499.8253432025233, 1117.9626132226358, 507.7398705703669, 665.4136887727168, 572.0707692349473, 1075.2846361556371, 1652.0934233947894, 467.5254862008762, 739.3353435062411, 604.0050916208588, 539.8793927762819, 788.4936238531872, 595.319771232478, 689.0994793441936, 575.776774371631, 525.2729875239289, 573.6028474204194, 531.9420161447213, 497.86588379709764, 1340.8599308426158, 1330.341392316097, 78.83729426801041, 53.49976168660087, 63.993578948774534, 59.21482745514608, 41.98477710342476, 41.97433468099616, 59.08300878199017, 266.0200211514134, 46.52405555250395, 24.541025489567904, 24.523337884209827, 24.496179103431583, 31.08925709633359, 21.635546370617224, 22.559196454698863, 21.597251778778816, 20.65599778709191, 21.58982465810236, 21.554082814751048, 18.73131928618797, 19.666901407972823, 20.57025808354145, 18.68203206158935, 17.746063913496283, 16.782167897752284, 17.695203199996147, 16.76310901035199, 16.725464161617204, 176.0042591449939, 82.80270210251156, 49.629946218990824, 52.210040767591785, 810.4652995638266, 783.4665942381565, 159.98269820188935, 47.356799563725964, 199.81959307103142, 98.14171178699488, 697.2051406633034, 288.42403523373713, 114.54964353803092, 100.75391069788718, 309.90762561823874, 225.52182126255636, 139.74779460795284, 400.64728753230014, 1196.8559371679314, 431.4335952864561, 1576.2551263661785, 839.7588473516972, 1204.957476287084, 998.4244444929814, 753.6564285384068, 606.8288728226307, 799.6269457169475, 801.5737389872419, 338.0458735344832, 952.9013160588688, 829.7377480152346, 1581.4735026536164, 578.3399625209344, 1316.9261747934981, 2799.138916854157, 550.9379883376182, 715.3110422622458, 649.8275052255751, 1097.0450429194375, 588.520719698528, 611.77088595413, 618.7043263457487, 1227.6733919448334, 791.4450382037923, 619.6255243644696, 613.4841366272126, 604.2720026907078, 48.57677848041616, 34.33692969745341, 23.41142652510768, 22.417056879253472, 21.405855880739054, 23.309029987717768, 19.423238876334867, 19.414752486247593, 20.355889672045038, 18.408063395252572, 18.405946502536224, 17.40585278373098, 16.40040543613183, 16.39871989376271, 19.285251959371596, 16.388396202353345, 15.390496816838322, 15.389713279601526, 16.33773646780981, 15.375710541037803, 17.286623085580842, 14.379901294588432, 14.35824402853095, 13.396514511588366, 14.343483406290002, 15.298562695883188, 13.382496251161923, 13.37538297076128, 14.33035829628251, 13.329856747449229, 98.54534533733526, 31.971604469420914, 40.93639685285351, 34.463551069206844, 117.17452964985917, 24.442175986695826, 34.805067293643674, 109.1806576835703, 24.14295031903579, 44.29134262127789, 41.754949209982684, 63.88928572706681, 93.71960416176356, 21.406616128278674, 30.583689522352838, 28.29360616426399, 131.63234023118275, 2712.757677250957, 881.7312315926201, 237.04868512343236, 35.67475643232503, 165.45629044101688, 123.22787503133883, 92.35508636777087, 1199.3639908985938, 679.2855324885734, 45.43543275228092, 187.6942536891723, 116.30947180772571, 400.32559204236395, 648.0375861030393, 44.05777328188026, 97.68424415706086, 79.71517651128043, 834.904701544177, 327.69292882920917, 257.6765872647919, 233.53168488678745, 434.179543527452, 549.1433806689461, 389.30576822017565, 532.5296603656258, 335.6481246162661, 559.2734241766723, 277.5120728159949, 219.12517526625095, 214.71356793059599, 354.02521908591507, 358.959656258825, 359.0177890798223, 270.4970920974338, 355.9751443125012, 259.2374094642135, 263.9365625270825, 254.5276911550587, 226.90268094072036, 202.92435900223452, 215.34308738991683], \"Total\": [7163.0, 1343.0, 1333.0, 1957.0, 4410.0, 3926.0, 2002.0, 1835.0, 2407.0, 932.0, 909.0, 1174.0, 2364.0, 2654.0, 1120.0, 433.0, 2621.0, 1320.0, 3216.0, 515.0, 878.0, 458.0, 1598.0, 809.0, 1054.0, 2747.0, 1284.0, 908.0, 400.0, 786.0, 174.52526452397652, 75.36874858812737, 264.75049313636583, 54.54194865168602, 49.58361615454725, 68.42607462043462, 43.63313550304331, 57.51948532785793, 42.641194050629544, 150.698089689932, 53.55276912486685, 71.38395166066904, 33.715902861820986, 31.7327236025337, 32.722855240982504, 27.765735374325182, 28.755880188004962, 106.09783650323307, 26.77388756587951, 36.69533065362734, 27.76623149022206, 33.70954100866552, 35.6986896832408, 28.75946782668829, 22.807280634346856, 21.815082010005334, 72.40162302255867, 21.815410902868617, 24.788112802925983, 21.815293965075842, 102.09738838385411, 458.7247654790554, 515.1748081311757, 26.770723371240916, 164.44336502855438, 32.7308137920747, 278.8861880139214, 121.94636338521336, 138.95489512679367, 90.1642731251178, 339.1248537078685, 84.35336736630144, 272.5691860002135, 72.35349996967776, 271.7338771408972, 151.415425268888, 218.5842557172834, 73.296089298377, 1138.1798750555809, 4410.3186045989605, 332.28361405132284, 2364.6067782150376, 1054.3466751302672, 326.1619900541188, 530.8415752856376, 458.5708215578257, 183.93731571925167, 1223.7768142167504, 1493.4536371884515, 809.3314048516585, 168.7758564389436, 2273.67354614262, 326.7518544067392, 388.00380275516284, 273.74972304694734, 606.034145288041, 1911.7358263528247, 347.1135846880888, 2407.108828130851, 724.7823651299658, 3926.8627260459502, 2747.537316507699, 919.0607112678836, 1381.5116378101225, 1115.631180726589, 3216.031562985926, 7163.990017499904, 861.8687455316834, 1957.1272650814071, 1404.2602720681098, 1193.7736826192233, 2654.5631793156313, 1598.1096760798664, 2621.329750022873, 1696.5791447623105, 1408.835074415481, 1952.8242233558037, 2002.672586837087, 1365.1707323529554, 1343.4596556708805, 1333.777556508302, 79.55717654724944, 54.340743998663115, 65.01762706930934, 60.165214351438294, 42.69845540507889, 42.69868785788012, 60.166377405467706, 271.76901868390416, 47.55518688084541, 25.23892803427923, 25.239423053909096, 25.23986058315066, 32.03415708721036, 22.3287611856745, 23.299954757998396, 22.33019473778239, 21.359156606016736, 22.32986079624459, 22.330754842157983, 19.418834517947086, 20.389756575674923, 21.36134814732835, 19.42041217223654, 18.449261576387933, 17.4792273229212, 18.45060344616379, 17.47960824417426, 17.48079170330233, 185.4802854354683, 87.40212106951859, 52.453575570746835, 55.36283204053291, 932.6097731383744, 909.0288995244763, 177.92779373751804, 50.52834078204941, 230.57866349632823, 110.0165124392797, 878.1439641640798, 347.0554017471492, 131.3649370565005, 114.8956742066286, 384.7928354399055, 276.0795420453275, 164.68989894845149, 529.9863957757916, 1835.539393789325, 594.4054280704769, 2621.329750022873, 1284.0453088511963, 1952.8242233558037, 1576.2013671893988, 1158.283591342299, 908.0673793250392, 1277.4427728089343, 1320.5429911077695, 482.48055508032536, 1696.5791447623105, 1454.8165366802368, 3216.031562985926, 946.2178345346952, 2654.5631793156313, 7163.990017499904, 976.4631281250602, 1404.2602720681098, 1269.954685718194, 2747.537316507699, 1120.8128192367708, 1193.7736826192233, 1224.3303968010748, 3926.8627260459502, 2002.672586837087, 1408.835074415481, 1598.1096760798664, 2407.108828130851, 49.245904659697835, 35.16835790420818, 24.111433297345616, 23.106160529479034, 22.10083361045592, 24.107774507387496, 20.090604145682057, 20.09040592758229, 21.09354941140258, 19.084921240696957, 19.084934129466166, 18.07980081933942, 17.07443843780354, 17.07444356957044, 20.08572485687291, 17.074124832547394, 16.068945074398833, 16.068671486241097, 17.07231050251905, 16.06876007940436, 18.077615030928712, 15.063435082893161, 15.062603790825056, 14.058449746037713, 15.062605622552576, 16.06697442670773, 14.05834100823818, 14.057952887524324, 15.061743183266726, 14.057463959322872, 106.45196365370508, 34.1122696901819, 44.183527828454885, 37.11002050542258, 131.27965427079994, 26.10727346159404, 38.14946312497469, 127.27795981234247, 26.102969655053382, 50.06626502049607, 47.169636037753136, 75.21283550044734, 121.17274092738766, 23.07077974245336, 35.035510264110194, 32.109501188365066, 194.87861947420822, 7163.990017499904, 1957.1272650814071, 433.502677642654, 43.12042540041862, 287.9533169836327, 209.44949117932453, 144.76951890551328, 3926.8627260459502, 2002.672586837087, 59.80916535830898, 400.0194210723937, 211.8478011573732, 1174.4332410237753, 2407.108828130851, 58.01699199406484, 175.71447328045315, 138.83079690046407, 4410.3186045989605, 1120.8128192367708, 786.7788484614014, 705.8137456646189, 1835.539393789325, 2654.5631793156313, 1598.1096760798664, 2747.537316507699, 1365.1707323529554, 3216.031562985926, 1040.0196930439224, 697.0876967547301, 725.5878604553775, 1911.7358263528247, 2273.67354614262, 2364.6067782150376, 1320.5429911077695, 2621.329750022873, 1224.3303968010748, 1408.835074415481, 1381.5116378101225, 1115.631180726589, 784.581601780747, 1576.2013671893988], \"Category\": [\"Default\", \"Default\", \"Default\", \"Default\", \"Default\", \"Default\", \"Default\", \"Default\", \"Default\", \"Default\", \"Default\", \"Default\", \"Default\", \"Default\", \"Default\", \"Default\", \"Default\", \"Default\", \"Default\", \"Default\", \"Default\", \"Default\", \"Default\", \"Default\", \"Default\", \"Default\", \"Default\", \"Default\", \"Default\", \"Default\", \"Topic1\", \"Topic1\", \"Topic1\", \"Topic1\", \"Topic1\", \"Topic1\", \"Topic1\", \"Topic1\", \"Topic1\", \"Topic1\", \"Topic1\", \"Topic1\", \"Topic1\", \"Topic1\", \"Topic1\", \"Topic1\", \"Topic1\", \"Topic1\", \"Topic1\", \"Topic1\", \"Topic1\", \"Topic1\", \"Topic1\", \"Topic1\", \"Topic1\", \"Topic1\", \"Topic1\", \"Topic1\", \"Topic1\", \"Topic1\", \"Topic1\", \"Topic1\", \"Topic1\", \"Topic1\", \"Topic1\", \"Topic1\", \"Topic1\", \"Topic1\", \"Topic1\", \"Topic1\", \"Topic1\", \"Topic1\", \"Topic1\", \"Topic1\", \"Topic1\", \"Topic1\", \"Topic1\", \"Topic1\", \"Topic1\", \"Topic1\", \"Topic1\", \"Topic1\", \"Topic1\", \"Topic1\", \"Topic1\", \"Topic1\", \"Topic1\", \"Topic1\", \"Topic1\", \"Topic1\", \"Topic1\", \"Topic1\", \"Topic1\", \"Topic1\", \"Topic1\", \"Topic1\", \"Topic1\", \"Topic1\", \"Topic1\", \"Topic1\", \"Topic1\", \"Topic1\", \"Topic1\", \"Topic1\", \"Topic1\", \"Topic1\", \"Topic1\", \"Topic1\", \"Topic1\", \"Topic1\", \"Topic1\", \"Topic1\", \"Topic1\", \"Topic1\", \"Topic1\", \"Topic1\", \"Topic1\", \"Topic1\", \"Topic1\", \"Topic2\", \"Topic2\", \"Topic2\", \"Topic2\", \"Topic2\", \"Topic2\", \"Topic2\", \"Topic2\", \"Topic2\", \"Topic2\", \"Topic2\", \"Topic2\", \"Topic2\", \"Topic2\", \"Topic2\", \"Topic2\", \"Topic2\", \"Topic2\", \"Topic2\", \"Topic2\", \"Topic2\", \"Topic2\", \"Topic2\", \"Topic2\", \"Topic2\", \"Topic2\", \"Topic2\", \"Topic2\", \"Topic2\", \"Topic2\", \"Topic2\", \"Topic2\", \"Topic2\", \"Topic2\", \"Topic2\", \"Topic2\", \"Topic2\", \"Topic2\", \"Topic2\", \"Topic2\", \"Topic2\", \"Topic2\", \"Topic2\", \"Topic2\", \"Topic2\", \"Topic2\", \"Topic2\", \"Topic2\", \"Topic2\", \"Topic2\", \"Topic2\", \"Topic2\", \"Topic2\", \"Topic2\", \"Topic2\", \"Topic2\", \"Topic2\", \"Topic2\", \"Topic2\", \"Topic2\", \"Topic2\", \"Topic2\", \"Topic2\", \"Topic2\", \"Topic2\", \"Topic2\", \"Topic2\", \"Topic2\", \"Topic2\", \"Topic2\", \"Topic2\", \"Topic2\", \"Topic2\", \"Topic2\", \"Topic2\", \"Topic2\", \"Topic2\", \"Topic3\", \"Topic3\", \"Topic3\", \"Topic3\", \"Topic3\", \"Topic3\", \"Topic3\", \"Topic3\", \"Topic3\", \"Topic3\", \"Topic3\", \"Topic3\", \"Topic3\", \"Topic3\", \"Topic3\", \"Topic3\", \"Topic3\", \"Topic3\", \"Topic3\", \"Topic3\", \"Topic3\", \"Topic3\", \"Topic3\", \"Topic3\", \"Topic3\", \"Topic3\", \"Topic3\", \"Topic3\", \"Topic3\", \"Topic3\", \"Topic3\", \"Topic3\", \"Topic3\", \"Topic3\", \"Topic3\", \"Topic3\", \"Topic3\", \"Topic3\", \"Topic3\", \"Topic3\", \"Topic3\", \"Topic3\", \"Topic3\", \"Topic3\", \"Topic3\", \"Topic3\", \"Topic3\", \"Topic3\", \"Topic3\", \"Topic3\", \"Topic3\", \"Topic3\", \"Topic3\", \"Topic3\", \"Topic3\", \"Topic3\", \"Topic3\", \"Topic3\", \"Topic3\", \"Topic3\", \"Topic3\", \"Topic3\", \"Topic3\", \"Topic3\", \"Topic3\", \"Topic3\", \"Topic3\", \"Topic3\", \"Topic3\", \"Topic3\", \"Topic3\", \"Topic3\", \"Topic3\", \"Topic3\", \"Topic3\", \"Topic3\", \"Topic3\", \"Topic3\", \"Topic3\", \"Topic3\", \"Topic3\", \"Topic3\", \"Topic3\", \"Topic3\", \"Topic3\", \"Topic3\", \"Topic3\", \"Topic3\"], \"logprob\": [30.0, 29.0, 28.0, 27.0, 26.0, 25.0, 24.0, 23.0, 22.0, 21.0, 20.0, 19.0, 18.0, 17.0, 16.0, 15.0, 14.0, 13.0, 12.0, 11.0, 10.0, 9.0, 8.0, 7.0, 6.0, 5.0, 4.0, 3.0, 2.0, 1.0, -6.5925, -7.4324, -6.1761, -7.7594, -7.8559, -7.5339, -7.9854, -7.7097, -8.0092, -6.7476, -7.7861, -7.4993, -8.2494, -8.311, -8.2826, -8.4468, -8.4129, -7.1081, -8.4851, -8.1705, -8.4502, -8.2572, -8.2005, -8.4168, -8.6496, -8.6944, -7.4949, -8.6948, -8.5672, -8.6949, -7.1524, -5.6651, -5.5555, -8.4906, -6.7019, -8.2932, -6.2047, -7.0085, -6.8854, -7.3055, -6.0255, -7.3722, -6.2491, -7.5244, -6.2694, -6.8333, -6.4896, -7.5172, -4.9453, -3.7001, -6.1134, -4.3246, -5.0822, -6.142, -5.7085, -5.8565, -6.6742, -4.9893, -4.8499, -5.4011, -6.754, -4.5212, -6.1915, -6.0544, -6.3492, -5.7102, -4.8176, -6.1715, -4.6939, -5.6343, -4.4325, -4.7263, -5.5156, -5.2451, -5.3963, -4.7652, -4.3358, -5.5981, -5.1398, -5.342, -5.4542, -5.0754, -5.3565, -5.2102, -5.3898, -5.4816, -5.3936, -5.469, -5.5352, -4.4216, -4.4295, -7.2553, -7.643, -7.4639, -7.5415, -7.8854, -7.8856, -7.5437, -6.0391, -7.7827, -8.4223, -8.4231, -8.4242, -8.1858, -8.5483, -8.5065, -8.5501, -8.5947, -8.5505, -8.5521, -8.6925, -8.6437, -8.5988, -8.6951, -8.7465, -8.8024, -8.7494, -8.8035, -8.8057, -6.4522, -7.2062, -7.7181, -7.6674, -4.9251, -4.9589, -6.5476, -7.765, -6.3253, -7.0363, -5.0756, -5.9582, -6.8817, -7.01, -5.8864, -6.2043, -6.6828, -5.6296, -4.5352, -5.5556, -4.2599, -4.8896, -4.5285, -4.7165, -4.9977, -5.2144, -4.9385, -4.9361, -5.7995, -4.7632, -4.9016, -4.2566, -5.2625, -4.4396, -3.6856, -5.3111, -5.05, -5.146, -4.6223, -5.2451, -5.2063, -5.1951, -4.5098, -4.9488, -5.1936, -5.2035, -5.2187, -6.9676, -7.3145, -7.6975, -7.7409, -7.7871, -7.7019, -7.8843, -7.8847, -7.8374, -7.9379, -7.9381, -7.9939, -8.0534, -8.0535, -7.8914, -8.0542, -8.117, -8.117, -8.0572, -8.1179, -8.0008, -8.1849, -8.1864, -8.2557, -8.1874, -8.123, -8.2568, -8.2573, -8.1883, -8.2607, -6.2602, -7.3859, -7.1387, -7.3108, -6.0871, -7.6544, -7.301, -6.1577, -7.6667, -7.0599, -7.1189, -6.6936, -6.3104, -7.787, -7.4303, -7.5081, -5.9707, -2.945, -4.0688, -5.3825, -7.2763, -5.742, -6.0367, -6.3251, -3.7612, -4.3297, -7.0344, -5.6159, -6.0945, -4.8584, -4.3768, -7.0652, -6.269, -6.4723, -4.1234, -5.0586, -5.299, -5.3974, -4.7773, -4.5424, -4.8864, -4.5731, -5.0347, -4.5241, -5.2249, -5.4611, -5.4814, -4.9814, -4.9675, -4.9674, -5.2505, -4.9759, -5.293, -5.275, -5.3113, -5.4262, -5.5379, -5.4785], \"loglift\": [30.0, 29.0, 28.0, 27.0, 26.0, 25.0, 24.0, 23.0, 22.0, 21.0, 20.0, 19.0, 18.0, 17.0, 16.0, 15.0, 14.0, 13.0, 12.0, 11.0, 10.0, 9.0, 8.0, 7.0, 6.0, 5.0, 4.0, 3.0, 2.0, 1.0, 0.8209, 0.8206, 0.8206, 0.8171, 0.8159, 0.8158, 0.8142, 0.8136, 0.8134, 0.8126, 0.8086, 0.8081, 0.8081, 0.8071, 0.8048, 0.8048, 0.8037, 0.8029, 0.8029, 0.8023, 0.8014, 0.8005, 0.7999, 0.7997, 0.7988, 0.7984, 0.7983, 0.7981, 0.7979, 0.7979, 0.7971, 0.7819, 0.7754, 0.7976, 0.7709, 0.7939, 0.7399, 0.7634, 0.7559, 0.7683, 0.7236, 0.7682, 0.7185, 0.7694, 0.7012, 0.7221, 0.6986, 0.7637, 0.5929, 0.4837, 0.6561, 0.4825, 0.5325, 0.646, 0.5925, 0.5908, 0.6866, 0.4764, 0.4167, 0.4781, 0.6929, 0.3251, 0.5948, 0.56, 0.614, 0.4583, 0.2021, 0.5543, 0.0954, 0.3552, -0.1326, -0.0693, 0.2365, 0.0994, 0.162, -0.2657, -0.6371, 0.2182, -0.1436, -0.0138, 0.0364, -0.384, -0.1576, -0.5062, -0.2508, -0.1567, -0.3952, -0.4958, -0.1788, 0.9508, 0.9502, 0.9437, 0.9372, 0.9369, 0.9368, 0.9359, 0.9356, 0.9346, 0.9314, 0.9308, 0.9247, 0.924, 0.9229, 0.9228, 0.9212, 0.9205, 0.9194, 0.9193, 0.9191, 0.9174, 0.9167, 0.9167, 0.915, 0.914, 0.9139, 0.9121, 0.911, 0.9109, 0.9086, 0.9003, 0.8987, 0.8974, 0.8941, 0.8124, 0.8041, 0.8464, 0.8879, 0.8096, 0.8385, 0.722, 0.7677, 0.8158, 0.8214, 0.7363, 0.7505, 0.7885, 0.673, 0.5251, 0.6323, 0.4441, 0.5281, 0.4699, 0.4962, 0.523, 0.5497, 0.4843, 0.4535, 0.597, 0.3759, 0.3912, 0.243, 0.4604, 0.2518, 0.013, 0.3804, 0.2782, 0.2827, 0.0347, 0.3086, 0.2842, 0.2702, -0.21, 0.0244, 0.1314, -0.0047, -0.4294, 1.711, 1.7008, 1.6953, 1.6944, 1.6928, 1.691, 1.6909, 1.6905, 1.6891, 1.6886, 1.6885, 1.6867, 1.6844, 1.6843, 1.684, 1.6837, 1.6816, 1.6815, 1.6807, 1.6806, 1.68, 1.6783, 1.6768, 1.6765, 1.6758, 1.6757, 1.6754, 1.6749, 1.6749, 1.6716, 1.6475, 1.6599, 1.6484, 1.6507, 1.611, 1.6588, 1.633, 1.5713, 1.6467, 1.6022, 1.6028, 1.5615, 1.4678, 1.6498, 1.5888, 1.5982, 1.3323, 0.7536, 0.9274, 1.1211, 1.5352, 1.1706, 1.1943, 1.2752, 0.5387, 0.6435, 1.4498, 0.968, 1.1251, 0.6484, 0.4125, 1.4495, 1.1376, 1.1699, 0.0603, 0.495, 0.6085, 0.6187, 0.2831, 0.149, 0.3125, 0.0839, 0.3217, -0.0246, 0.4036, 0.5674, 0.507, 0.0383, -0.1212, -0.1603, 0.1392, -0.2719, 0.1723, 0.0499, 0.0332, 0.1321, 0.3724, -0.2658]}, \"token.table\": {\"Topic\": [1, 1, 2, 1, 2, 3, 1, 2, 3, 1, 2, 3, 2, 1, 2, 3, 3, 1, 1, 2, 1, 3, 1, 2, 3, 1, 2, 3, 1, 2, 3, 1, 2, 3, 1, 3, 1, 3, 1, 2, 3, 3, 2, 1, 3, 1, 2, 3, 2, 3, 3, 2, 1, 2, 3, 2, 2, 1, 2, 3, 1, 2, 3, 1, 2, 1, 2, 3, 1, 2, 3, 1, 1, 1, 2, 3, 1, 3, 1, 2, 3, 1, 2, 1, 2, 3, 1, 2, 3, 1, 2, 3, 2, 3, 1, 2, 3, 3, 1, 2, 3, 1, 2, 3, 3, 1, 2, 3, 1, 2, 3, 1, 2, 1, 1, 2, 3, 3, 2, 1, 2, 3, 1, 3, 1, 2, 3, 1, 2, 3, 3, 3, 1, 2, 3, 2, 1, 2, 3, 1, 2, 3, 1, 1, 2, 3, 1, 2, 3, 1, 2, 3, 1, 3, 1, 2, 3, 1, 2, 3, 1, 2, 3, 1, 2, 3, 1, 2, 3, 1, 2, 3, 1, 2, 3, 1, 2, 3, 3, 1, 2, 3, 1, 2, 3, 1, 2, 3, 3, 1, 2, 3, 1, 2, 3, 1, 2, 3, 1, 2, 3, 1, 3, 1, 2, 3, 1, 1, 1, 2, 3, 1, 2, 3, 1, 2, 3, 1, 2, 3, 1, 2, 3, 1, 2, 3, 3, 1, 2, 3, 1, 3, 3, 2, 1, 2, 3, 1, 2, 3, 1, 2, 3, 1, 3, 2, 1, 2, 3, 1, 2, 3, 2, 1, 2, 3, 3, 1, 2, 3, 1, 2, 3, 1, 2, 3, 1, 2, 3, 1, 2, 3, 1, 2, 3, 2, 1, 2, 3, 1, 3, 1, 1, 3, 1, 3, 1, 2, 3, 3, 1, 2, 3, 1, 2, 3, 2, 2, 3, 1, 2, 2, 1, 2, 3, 1, 1, 1, 2, 3, 1, 2, 2, 3, 3, 2, 2, 1, 2, 3, 1, 2, 3, 1, 2, 3, 1, 2, 3, 1, 2, 3, 1, 2, 3, 2, 3, 1, 2, 3, 1, 2, 3, 1, 2, 3, 1, 2, 3, 2, 1, 2, 3, 1, 2, 2, 1, 2, 3, 1, 2, 3, 1, 2, 1, 2, 3, 2, 3, 1, 2, 3, 1, 3, 1, 2, 3, 1, 3, 1, 2, 3, 1, 3, 1, 2, 3, 1, 2, 3, 2, 3, 1, 3, 2, 1, 2, 3, 3, 1, 2, 3, 1, 3, 1, 2, 3, 1, 2, 3, 1, 2, 3, 1, 2, 3, 1, 2, 3, 1, 2, 3, 2, 1, 2, 3, 1, 2, 3, 1, 2, 3, 1, 2, 3, 1, 2, 3, 1, 2, 3, 3, 3, 1, 2, 3, 3, 1, 2, 3, 1, 3, 1, 2, 3, 1, 3, 3, 2, 3, 1, 2, 3, 1, 3, 1, 1, 2, 3, 1, 2, 3, 1, 2, 3], \"Freq\": [0.971095435282781, 0.054187979361381, 0.939258308930604, 0.5127142463223979, 0.28414408406328695, 0.2034722620894831, 0.039581746976946365, 0.9301710539582395, 0.039581746976946365, 0.3491045601217787, 0.3099367314251889, 0.34058981475295486, 0.9905333525277017, 0.2826034548386835, 0.50558248134435, 0.211544204633581, 0.9334934759755246, 0.9724215705436258, 0.031216679036616516, 0.967717050135112, 0.9776719944478847, 0.030552249826496396, 0.4317225942961425, 0.30191735993093266, 0.26730263076687666, 0.030469306323346296, 0.07617326580836574, 0.8912272099578792, 0.9143514844387738, 0.010757076287514985, 0.0752995340126049, 0.08642501825310765, 0.05499773888834123, 0.8563933626898849, 0.9710048770541385, 0.01867317071257959, 0.9724041957047037, 0.937072996540556, 0.6034287562203703, 0.23838074771970896, 0.15789425909847882, 0.9481571645400068, 0.9724959995254961, 0.9909685330997506, 0.017385412861399132, 0.04576547972810006, 0.9496337043580763, 0.9457157117937415, 0.09986764536865504, 0.8788352792441644, 0.9370732781802834, 0.9725830373352504, 0.245459238736074, 0.20297590895483042, 0.5475629171804728, 0.9831848882125073, 0.9830840195648634, 0.7895900100350856, 0.03978554314130276, 0.17138387814715034, 0.009089544631329046, 0.8907753738702465, 0.09998499094461952, 0.9820960591107463, 0.013271568366361435, 0.10248888983217294, 0.7937195134780505, 0.10362765527475265, 0.8981911833519417, 0.09906520404617004, 0.006604346936411336, 0.9712102149593431, 0.9626274133009142, 0.4301196950551519, 0.5091648708020424, 0.06053008953590713, 0.9735924241969625, 0.034771158007034376, 0.9806125658712788, 0.014008750941018269, 0.9294541763441783, 0.9789513298777008, 0.029665191814475782, 0.016719845428524695, 0.23407783599934573, 0.7523930442836113, 0.03812895457055158, 0.9532238642637894, 0.01906447728527579, 0.007359190571778197, 0.9787723460465001, 0.014718381143556393, 0.9836421388443056, 0.9247434604462788, 0.18981166740944375, 0.03301072476685978, 0.7757520320212049, 0.9334775824144247, 0.8993737753669195, 0.04128273067257991, 0.05897532953225702, 0.048576142502243125, 0.8500824937892547, 0.10322430281726665, 0.9459454480926338, 0.36707462849795736, 0.3747220165916648, 0.25873663050376855, 0.7872284563889942, 0.17663574783243358, 0.0370717001623626, 0.9896109990059617, 0.007554282435160013, 0.9646042574172072, 0.05433216778350515, 0.8186046612714777, 0.13039720268041236, 0.9371900773266262, 0.9725618424924308, 0.12577052690073295, 0.8673829441429859, 0.008673829441429859, 0.16233606081103372, 0.8348711698853163, 0.04852267710754225, 0.9488879078808263, 0.005391408567504695, 0.8783798236975153, 0.11894726779237186, 0.9403895353958452, 0.9247756236556762, 0.9334883292722622, 0.8795370033162103, 0.04416085372298964, 0.07360142287164939, 0.980884687160027, 0.3726483032215961, 0.4400799009474087, 0.18738886104857402, 0.0739859285066298, 0.868530465077828, 0.056829771171759115, 0.9769095268432869, 0.22274337815751305, 0.6509632059331971, 0.12604857833719732, 0.397480701246315, 0.132493567082105, 0.46997718134784416, 0.2998188046826718, 0.38589118880209916, 0.3141642020359097, 0.07515126753344356, 0.929996935726364, 0.3813015570851581, 0.29106018857500404, 0.327919339093236, 0.7426399859450957, 0.09294855507358797, 0.164082653344191, 0.6615538476708194, 0.2584613210535792, 0.0803506697575894, 0.13295602982473015, 0.013295602982473016, 0.850918590878273, 0.4523470469002148, 0.5126599864869101, 0.03518254809223893, 0.7019253756247888, 0.20265133079737793, 0.09560566815844039, 0.8644249231226461, 0.13047923367888997, 0.005436634736620416, 0.9427237314057696, 0.044363469713212686, 0.011090867428303171, 0.9294028834033444, 0.17924988406719278, 0.7566231948520453, 0.06603943097212366, 0.03481419146212931, 0.879058334418765, 0.08703547865532327, 0.339506707823346, 0.561718563464668, 0.09902278978180926, 0.9295072840940284, 0.27630125666236965, 0.08979790841527013, 0.6354928903234502, 0.24815201647190605, 0.6262511456704254, 0.1260330430661731, 0.23059775292323992, 0.3907040620049325, 0.3786995784992433, 0.3819843230197112, 0.31271783244547025, 0.30533280220042247, 0.09343028975757042, 0.872016037737324, 0.8073067528258251, 0.17168967141544697, 0.021917830393461315, 0.9787666115673961, 0.9626367661771108, 0.18846686976841295, 0.6541825231630862, 0.15731532104636123, 0.001488693755378359, 0.9981691629811896, 0.0007443468776891795, 0.14095870297107424, 0.6684525992456412, 0.19161573685130406, 0.9526409579034439, 0.043599128508166766, 0.0021799564254083386, 0.002249250623060193, 0.9971677762233522, 0.000749750207686731, 0.0307883954442426, 0.2924897567203047, 0.6773446997733372, 0.943152325174071, 0.6897301138062599, 0.20295886123964108, 0.10725468276891602, 0.03830350195209326, 0.9192840468502383, 0.9540490762825066, 0.9871263802391965, 0.8951855621706588, 0.05503189931377001, 0.051363106026185344, 0.9668291548960114, 0.01381184506994302, 0.02762369013988604, 0.310337349754404, 0.10503725683995215, 0.5872537541506415, 0.10600039389742487, 0.8904033087383689, 0.9508768846378514, 0.2187656926819528, 0.6108529969573369, 0.17015109430818554, 0.8396441720322299, 0.05417059174401483, 0.10533170616891772, 0.9755778477664112, 0.01662057852113801, 0.9806141327471427, 0.933592075373312, 0.9501904032282695, 0.262843696026411, 0.6012215746554771, 0.13580893437649103, 0.5430061159849725, 0.26686198007808476, 0.1914444639690608, 0.265645020307694, 0.394972201246966, 0.3390469338137673, 0.5335465214071642, 0.28089655097612465, 0.1851720280177805, 0.8308754798651861, 0.15636402019603132, 0.009197883540943018, 0.406909850971943, 0.39926664267998346, 0.1939919056959263, 0.9851883716204006, 0.9696624131832942, 0.02938370949040285, 0.009794569830134284, 0.984963037154442, 0.9247107778483165, 0.9882296572979232, 0.0766196347170335, 0.919435616604402, 0.07863806602394986, 0.9174441036127483, 0.48135678469861637, 0.3344162925274598, 0.1845804212002213, 0.9950065967637898, 0.18290297584176177, 0.5255114769307204, 0.2926447613468188, 0.3390982514787957, 0.11533954131931827, 0.5467094258535686, 0.9756488044506391, 0.04334487222206298, 0.9102423166633226, 0.9779097748146014, 0.985213082928305, 0.9783520468820142, 0.7030494511754322, 0.07537085504692682, 0.22117021399016232, 0.9854895712686256, 0.9626222533006978, 0.11110757870606126, 0.8613587537311481, 0.027501875917341895, 0.9912604944153116, 0.00572982944748735, 0.05862993046679725, 0.938078887468756, 0.9431529621205114, 0.9852763356219948, 0.9784315316369787, 0.15512696695686504, 0.06894531864749558, 0.7583985051224513, 0.13196583528905806, 0.291713951691602, 0.5730095479656468, 0.5636808749023342, 0.1391974776653686, 0.29631146235697275, 0.7066714074385687, 0.14167260412442878, 0.1518222832258804, 0.7889789827430816, 0.11158166014295254, 0.09928131965475304, 0.8709776570037951, 0.01777505422456725, 0.11257534342225924, 0.9852278167224372, 0.937090489668914, 0.29684733297745547, 0.49612682427831073, 0.2068136875693186, 0.1878015344218057, 0.6073259298640652, 0.20446134795922394, 0.2756587775394546, 0.7005463669799674, 0.02279884626266166, 0.4798287416430903, 0.2509234285302394, 0.26920261868807144, 0.9753270952879096, 0.5527382400006984, 0.3264202204728534, 0.12077548157495575, 0.021028200404418693, 0.9883254190076786, 0.992996526882543, 0.2806045534214043, 0.5642814194715101, 0.15566383985420967, 0.9283588022018942, 0.0071965798620301875, 0.06476921875827168, 0.9413871962406032, 0.05457317079655671, 0.0691532241802865, 0.8298386901634379, 0.10084845192958447, 0.9806330890033563, 0.01662089981361621, 0.15365837256277703, 0.29024359261857885, 0.5577229818945241, 0.9365364118416917, 0.059274456445676686, 0.08992411845224955, 0.8992411845224956, 0.011240514806531194, 0.06789860718337554, 0.9279476315061324, 0.22966608679289485, 0.6331678304400803, 0.13640389132727182, 0.9900636360620887, 0.9539043040851507, 0.6222557580014079, 0.2248950965725709, 0.15314942159236422, 0.09896095785748868, 0.8754238579700921, 0.0304495254946119, 0.11416987992601138, 0.8848165694265882, 0.9791589006333451, 0.01461431194975142, 0.990513925243152, 0.7605579604071865, 0.16997318054554547, 0.07202253412946842, 0.9402758453962395, 0.39616570118395794, 0.02881205099519694, 0.5762410199039388, 0.9682060183769635, 0.9247179302580587, 0.7893127055365673, 0.1695421085878068, 0.04144362654368611, 0.9425737546363478, 0.05473008897888471, 0.006081120997653857, 0.37759424907366007, 0.17168019984945843, 0.4506605246048284, 0.37231487231810273, 0.38357817937982686, 0.2434125803894823, 0.3882043976658347, 0.28194406983759523, 0.331532222824107, 0.939830139917181, 0.041463094408110926, 0.01382103146937031, 0.9836367838701354, 0.9708020765990014, 0.01885052575920391, 0.009425262879601956, 0.9737138914523553, 0.053893799377118544, 0.9161945894110153, 0.292133055464033, 0.5705186730238762, 0.13747437904189788, 0.29393326502966954, 0.6170550250187313, 0.08910172145498693, 0.25908242544134485, 0.7250943205533742, 0.015141180707611062, 0.7074318841152538, 0.10339389075530633, 0.1893287253962298, 0.9667781501942582, 0.945725042514683, 0.19231127293573752, 0.8056283055416031, 0.0025988009856180746, 0.952127030015749, 0.9348372254438471, 0.032801306155924456, 0.032801306155924456, 0.9810512498118448, 0.02725142360588458, 0.9472512869374304, 0.048527217568515905, 0.0038821774054812724, 0.762879121024443, 0.23453378382846055, 0.9294540633154742, 0.9843484434117452, 0.015380444428308519, 0.3342628885774727, 0.4915996528753343, 0.17381670206028582, 0.9804281420567431, 0.02801223263019266, 0.9951074073135737, 0.36478953745343373, 0.38969484723941117, 0.24612306141436494, 0.3582805001760241, 0.5118292859657486, 0.1299258956682285, 0.11168379207421629, 0.6521243859162776, 0.23644275980590182], \"Term\": [\"absoul\", \"air\", \"air\", \"also\", \"also\", \"also\", \"alternative\", \"alternative\", \"alternative\", \"amazing\", \"amazing\", \"amazing\", \"arise\", \"artist\", \"artist\", \"artist\", \"arular\", \"auto\", \"award\", \"award\", \"awkward\", \"awkward\", \"bad\", \"bad\", \"bad\", \"band\", \"band\", \"band\", \"banger\", \"banger\", \"banger\", \"bank\", \"bank\", \"bank\", \"bass\", \"bass\", \"beam\", \"bean\", \"beat\", \"beat\", \"beat\", \"beyonc\", \"bitch\", \"bland\", \"bland\", \"blueprint\", \"blueprint\", \"blurryface\", \"bomb\", \"bomb\", \"bop\", \"bout\", \"boy\", \"boy\", \"boy\", \"castle\", \"cat\", \"catchy\", \"catchy\", \"catchy\", \"cent\", \"cent\", \"cent\", \"chorus\", \"chorus\", \"classic\", \"classic\", \"classic\", \"clever\", \"clever\", \"clever\", \"collaborator\", \"colorful\", \"come\", \"come\", \"come\", \"complement\", \"complement\", \"compliment\", \"compliment\", \"concert\", \"constant\", \"constant\", \"country\", \"country\", \"country\", \"crap\", \"crap\", \"crap\", \"critic\", \"critic\", \"critic\", \"cube\", \"cute\", \"dance\", \"dance\", \"dance\", \"dancehall\", \"dark\", \"dark\", \"dark\", \"decade\", \"decade\", \"decade\", \"definately\", \"definitely\", \"definitely\", \"definitely\", \"deliver\", \"deliver\", \"deliver\", \"delivery\", \"delivery\", \"depart\", \"deserve\", \"deserve\", \"deserve\", \"disturb\", \"doctor\", \"doubt\", \"doubt\", \"doubt\", \"drake\", \"drake\", \"dre\", \"dre\", \"dre\", \"drug\", \"drug\", \"edgy\", \"elevate\", \"emotionless\", \"enjoyable\", \"enjoyable\", \"enjoyable\", \"envelope\", \"even\", \"even\", \"even\", \"ever\", \"ever\", \"ever\", \"fade\", \"fan\", \"fan\", \"fan\", \"fantastic\", \"fantastic\", \"fantastic\", \"far\", \"far\", \"far\", \"fav\", \"fav\", \"favorite\", \"favorite\", \"favorite\", \"feature\", \"feature\", \"feature\", \"feel\", \"feel\", \"feel\", \"female\", \"female\", \"female\", \"first\", \"first\", \"first\", \"flow\", \"flow\", \"flow\", \"focus\", \"focus\", \"focus\", \"forgettable\", \"forgettable\", \"forgettable\", \"freak\", \"game\", \"game\", \"game\", \"generation\", \"generation\", \"generation\", \"get\", \"get\", \"get\", \"gimmick\", \"girl\", \"girl\", \"girl\", \"give\", \"give\", \"give\", \"good\", \"good\", \"good\", \"great\", \"great\", \"great\", \"grime\", \"grime\", \"half\", \"half\", \"half\", \"handful\", \"health\", \"hear\", \"hear\", \"hear\", \"hip\", \"hip\", \"hip\", \"hiphop\", \"hiphop\", \"hiphop\", \"hook\", \"hook\", \"hook\", \"hop\", \"hop\", \"hop\", \"hot\", \"hot\", \"hot\", \"hotline\", \"however\", \"however\", \"however\", \"humor\", \"humor\", \"icon\", \"independent\", \"instrumental\", \"instrumental\", \"instrumental\", \"instrumentation\", \"instrumentation\", \"instrumentation\", \"job\", \"job\", \"job\", \"juice\", \"juice\", \"kamikaze\", \"know\", \"know\", \"know\", \"lack\", \"lack\", \"lack\", \"leak\", \"learn\", \"learn\", \"lemonade\", \"levitate\", \"listen\", \"listen\", \"listen\", \"lot\", \"lot\", \"lot\", \"love\", \"love\", \"love\", \"lyric\", \"lyric\", \"lyric\", \"lyricism\", \"lyricism\", \"lyricism\", \"make\", \"make\", \"make\", \"massacre\", \"memorable\", \"memorable\", \"memorable\", \"mental\", \"meth\", \"migo\", \"mixture\", \"mixture\", \"mode\", \"mode\", \"much\", \"much\", \"much\", \"nelly\", \"new\", \"new\", \"new\", \"nice\", \"nice\", \"nice\", \"offend\", \"okay\", \"okay\", \"opening\", \"outkast\", \"outta\", \"overall\", \"overall\", \"overall\", \"oxymoron\", \"paak\", \"people\", \"people\", \"people\", \"performance\", \"performance\", \"pilot\", \"pilot\", \"pitbull\", \"pitchfork\", \"player\", \"playlist\", \"playlist\", \"playlist\", \"pop\", \"pop\", \"pop\", \"pretty\", \"pretty\", \"pretty\", \"production\", \"production\", \"production\", \"project\", \"project\", \"project\", \"provide\", \"provide\", \"provide\", \"quit\", \"rack\", \"rap\", \"rap\", \"rap\", \"rapper\", \"rapper\", \"rapper\", \"real\", \"real\", \"real\", \"really\", \"really\", \"really\", \"reasonable\", \"record\", \"record\", \"record\", \"recovery\", \"recovery\", \"relapse\", \"release\", \"release\", \"release\", \"repetitive\", \"repetitive\", \"repetitive\", \"replay\", \"replay\", \"review\", \"review\", \"review\", \"revival\", \"revival\", \"rock\", \"rock\", \"rock\", \"rodeo\", \"rodeo\", \"root\", \"root\", \"root\", \"saturation\", \"saturation\", \"say\", \"say\", \"say\", \"schoolboy\", \"scorpion\", \"seem\", \"seem\", \"seem\", \"sell\", \"sell\", \"sell\", \"sexy\", \"sexy\", \"sharp\", \"sharp\", \"shop\", \"short\", \"short\", \"short\", \"sicko\", \"similar\", \"similar\", \"similar\", \"simplistic\", \"skin\", \"solid\", \"solid\", \"solid\", \"sometimes\", \"sometimes\", \"sometimes\", \"sound\", \"sound\", \"sound\", \"still\", \"still\", \"still\", \"style\", \"style\", \"style\", \"super\", \"super\", \"super\", \"swag\", \"switch\", \"switch\", \"switch\", \"tackle\", \"tech\", \"tech\", \"think\", \"think\", \"think\", \"time\", \"time\", \"time\", \"top\", \"top\", \"top\", \"track\", \"track\", \"track\", \"train\", \"trench\", \"true\", \"true\", \"true\", \"ugly\", \"value\", \"value\", \"value\", \"vary\", \"vary\", \"verse\", \"verse\", \"verse\", \"vocal\", \"vocal\", \"vote\", \"walk\", \"walk\", \"well\", \"well\", \"well\", \"wide\", \"wide\", \"wife\", \"work\", \"work\", \"work\", \"would\", \"would\", \"would\", \"year\", \"year\", \"year\"]}, \"R\": 30, \"lambda.step\": 0.01, \"plot.opts\": {\"xlab\": \"PC1\", \"ylab\": \"PC2\"}, \"topic.order\": [3, 2, 1]};\n",
       "\n",
       "function LDAvis_load_lib(url, callback){\n",
       "  var s = document.createElement('script');\n",
       "  s.src = url;\n",
       "  s.async = true;\n",
       "  s.onreadystatechange = s.onload = callback;\n",
       "  s.onerror = function(){console.warn(\"failed to load library \" + url);};\n",
       "  document.getElementsByTagName(\"head\")[0].appendChild(s);\n",
       "}\n",
       "\n",
       "if(typeof(LDAvis) !== \"undefined\"){\n",
       "   // already loaded: just create the visualization\n",
       "   !function(LDAvis){\n",
       "       new LDAvis(\"#\" + \"ldavis_el252121403515888800801009958053\", ldavis_el252121403515888800801009958053_data);\n",
       "   }(LDAvis);\n",
       "}else if(typeof define === \"function\" && define.amd){\n",
       "   // require.js is available: use it to load d3/LDAvis\n",
       "   require.config({paths: {d3: \"https://cdnjs.cloudflare.com/ajax/libs/d3/3.5.5/d3.min\"}});\n",
       "   require([\"d3\"], function(d3){\n",
       "      window.d3 = d3;\n",
       "      LDAvis_load_lib(\"https://cdn.rawgit.com/bmabey/pyLDAvis/files/ldavis.v1.0.0.js\", function(){\n",
       "        new LDAvis(\"#\" + \"ldavis_el252121403515888800801009958053\", ldavis_el252121403515888800801009958053_data);\n",
       "      });\n",
       "    });\n",
       "}else{\n",
       "    // require.js not available: dynamically load d3 & LDAvis\n",
       "    LDAvis_load_lib(\"https://cdnjs.cloudflare.com/ajax/libs/d3/3.5.5/d3.min.js\", function(){\n",
       "         LDAvis_load_lib(\"https://cdn.rawgit.com/bmabey/pyLDAvis/files/ldavis.v1.0.0.js\", function(){\n",
       "                 new LDAvis(\"#\" + \"ldavis_el252121403515888800801009958053\", ldavis_el252121403515888800801009958053_data);\n",
       "            })\n",
       "         });\n",
       "}\n",
       "</script>"
      ],
      "text/plain": [
       "PreparedData(topic_coordinates=                 x            y  topics  cluster       Freq\n",
       "topic                                                      \n",
       "2     -1015.700562  1338.981201       1        1  43.610044\n",
       "1      -387.996002  -373.316162       2        1  38.567523\n",
       "0     -2184.745605   -60.565800       3        1  17.822434, topic_info=            Term         Freq        Total Category  logprob  loglift\n",
       "1644        good  7163.000000  7163.000000  Default  30.0000  30.0000\n",
       "1776         hip  1343.000000  1343.000000  Default  29.0000  29.0000\n",
       "1804         hop  1333.000000  1333.000000  Default  28.0000  28.0000\n",
       "3490       sound  1957.000000  1957.000000  Default  27.0000  27.0000\n",
       "3878       track  4410.000000  4410.000000  Default  26.0000  26.0000\n",
       "...          ...          ...          ...      ...      ...      ...\n",
       "1293        even   263.936563  1408.835074   Topic3  -5.2750   0.0499\n",
       "2412        much   254.527691  1381.511638   Topic3  -5.3113   0.0332\n",
       "123         also   226.902681  1115.631181   Topic3  -5.4262   0.1321\n",
       "963   definitely   202.924359   784.581602   Topic3  -5.5379   0.3724\n",
       "3231         say   215.343087  1576.201367   Topic3  -5.4785  -0.2658\n",
       "\n",
       "[284 rows x 6 columns], token_table=      Topic      Freq    Term\n",
       "term                         \n",
       "14        1  0.971095  absoul\n",
       "101       1  0.054188     air\n",
       "101       2  0.939258     air\n",
       "123       1  0.512714    also\n",
       "123       2  0.284144    also\n",
       "...     ...       ...     ...\n",
       "4212      2  0.511829   would\n",
       "4212      3  0.129926   would\n",
       "4222      1  0.111684    year\n",
       "4222      2  0.652124    year\n",
       "4222      3  0.236443    year\n",
       "\n",
       "[475 rows x 3 columns], R=30, lambda_step=0.01, plot_opts={'xlab': 'PC1', 'ylab': 'PC2'}, topic_order=[3, 2, 1])"
      ]
     },
     "execution_count": 143,
     "metadata": {},
     "output_type": "execute_result"
    }
   ],
   "source": [
    "panel = pyLDAvis.sklearn.prepare(best_lda_model, tv3, vectorizer, mds='tsne')\n",
    "panel"
   ]
  },
  {
   "cell_type": "markdown",
   "metadata": {},
   "source": [
    "Negative User Reviews"
   ]
  },
  {
   "cell_type": "code",
   "execution_count": 45,
   "metadata": {},
   "outputs": [
    {
     "name": "stdout",
     "output_type": "stream",
     "text": [
      "always spit spit ether timing pop could precise reaffirm fact duo indeed gift era gift appreciate take lesson awareness management put rtj term actually anger redirect power anger collectively use change thing well hand fist gun position right\n"
     ]
    }
   ],
   "source": [
    "lemma_review2 = lemmatization(processed_rapu_neg, allowed_postags=['NOUN', 'ADJ', 'VERB', 'ADV'])\n",
    "\n",
    "print(lemma_review2[8])"
   ]
  },
  {
   "cell_type": "code",
   "execution_count": 91,
   "metadata": {},
   "outputs": [],
   "source": [
    "# Storing the entire training text in a list\n",
    "text4 = lemma_review2\n",
    "# Calling our overwritten Count vectorizer\n",
    "\n",
    "vectorizer2 = CountVectorizer(analyzer='word',       \n",
    "                             min_df=5,                         \n",
    "                             stop_words=stopwords_list,             \n",
    "                             lowercase=True,                   \n",
    "                             token_pattern='[a-zA-Z0-9]{3,}',)\n",
    "\n",
    "tv4 = vectorizer2.fit_transform(text4)"
   ]
  },
  {
   "cell_type": "code",
   "execution_count": 124,
   "metadata": {},
   "outputs": [
    {
     "name": "stdout",
     "output_type": "stream",
     "text": [
      "Fitting 5 folds for each of 12 candidates, totalling 60 fits\n"
     ]
    },
    {
     "name": "stderr",
     "output_type": "stream",
     "text": [
      "[Parallel(n_jobs=-1)]: Using backend LokyBackend with 8 concurrent workers.\n",
      "[Parallel(n_jobs=-1)]: Done  34 tasks      | elapsed:  1.7min\n",
      "[Parallel(n_jobs=-1)]: Done  60 out of  60 | elapsed:  2.7min finished\n"
     ]
    },
    {
     "data": {
      "text/plain": [
       "GridSearchCV(estimator=LatentDirichletAllocation(), n_jobs=-1,\n",
       "             param_grid={'learning_decay': [0.5, 0.7, 0.9, 1.0],\n",
       "                         'n_components': [3, 4, 5]},\n",
       "             verbose=1)"
      ]
     },
     "execution_count": 124,
     "metadata": {},
     "output_type": "execute_result"
    }
   ],
   "source": [
    "# Define Search Param\n",
    "\n",
    "# Init the Model\n",
    "lda_cv3 = LatentDirichletAllocation()\n",
    "\n",
    "# Init Grid Search Class\n",
    "model3 = GridSearchCV(lda_cv3, param_grid=search_params, verbose = 1, n_jobs =-1)\n",
    "\n",
    "# Do the Grid Search\n",
    "model3.fit(tv4)"
   ]
  },
  {
   "cell_type": "code",
   "execution_count": 125,
   "metadata": {
    "scrolled": true
   },
   "outputs": [
    {
     "name": "stdout",
     "output_type": "stream",
     "text": [
      "Best Model's Params:  {'learning_decay': 1.0, 'n_components': 3}\n",
      "Best Log Likelihood Score:  -76239.58785567826\n",
      "Model Perplexity:  800.8585343790585\n"
     ]
    }
   ],
   "source": [
    "# Best Model\n",
    "best_lda_model2 = model3.best_estimator_\n",
    "\n",
    "# Model Parameters\n",
    "print(\"Best Model's Params: \", model3.best_params_)\n",
    "\n",
    "# Log Likelihood Score\n",
    "print(\"Best Log Likelihood Score: \", model3.best_score_)\n",
    "\n",
    "# Perplexity\n",
    "print(\"Model Perplexity: \", best_lda_model2.perplexity(tv4))"
   ]
  },
  {
   "cell_type": "code",
   "execution_count": null,
   "metadata": {},
   "outputs": [],
   "source": [
    "n_topics = [2, 3, 4]\n",
    "log_likelyhoods_9 = [round(model.cv_results_['mean_test_score'][index]) for index, gscore in enumerate(model.cv_results_['params']) if gscore['learning_decay']==0.9]\n",
    "log_likelyhoods_11 = [round(model.cv_results_['mean_test_score'][index]) for index, gscore in enumerate(model.cv_results_['params']) if gscore['learning_decay']==0.11]\n",
    "log_likelyhoods_13 = [round(model.cv_results_['mean_test_score'][index]) for index, gscore in enumerate(model.cv_results_['params']) if gscore['learning_decay']==0.13]\n",
    "\n",
    "# Show graph\n",
    "plt.figure(figsize=(12, 8))\n",
    "plt.plot(n_topics, log_likelyhoods_9, label='0.9')\n",
    "plt.plot(n_topics, log_likelyhoods_11, label='0.11')\n",
    "plt.plot(n_topics, log_likelyhoods_13, label='0.13')\n",
    "plt.title(\"Choosing Optimal LDA Model\")\n",
    "plt.xlabel(\"Num Topics\")\n",
    "plt.ylabel(\"Log Likelyhood Scores\")\n",
    "plt.legend(title='Learning decay', loc='best')\n",
    "plt.show()"
   ]
  },
  {
   "cell_type": "code",
   "execution_count": 145,
   "metadata": {},
   "outputs": [
    {
     "data": {
      "text/html": [
       "\n",
       "<link rel=\"stylesheet\" type=\"text/css\" href=\"https://cdn.rawgit.com/bmabey/pyLDAvis/files/ldavis.v1.0.0.css\">\n",
       "\n",
       "\n",
       "<div id=\"ldavis_el252121403515943694884876376280\"></div>\n",
       "<script type=\"text/javascript\">\n",
       "\n",
       "var ldavis_el252121403515943694884876376280_data = {\"mdsDat\": {\"x\": [-1015.7005615234375, -387.9960021972656, -2184.74560546875], \"y\": [1338.981201171875, -373.316162109375, -60.565799713134766], \"topics\": [1, 2, 3], \"cluster\": [1, 1, 1], \"Freq\": [34.42109025346332, 34.362222169391664, 31.216687577145024]}, \"tinfo\": {\"Term\": [\"fire\", \"track\", \"hip\", \"hop\", \"suck\", \"hate\", \"death\", \"bad\", \"production\", \"beat\", \"well\", \"know\", \"people\", \"awful\", \"good\", \"average\", \"lyric\", \"hot\", \"project\", \"listen\", \"shit\", \"buy\", \"vocal\", \"trash\", \"sound\", \"terrible\", \"grip\", \"crap\", \"ass\", \"critic\", \"suck\", \"shit\", \"hot\", \"ass\", \"cent\", \"bomb\", \"lame\", \"dude\", \"shoot\", \"nee\", \"fuck\", \"idiot\", \"seriously\", \"slim\", \"gun\", \"dog\", \"crap\", \"foot\", \"nelly\", \"daddy\", \"alot\", \"insult\", \"nasty\", \"buy\", \"proof\", \"rule\", \"fucking\", \"bullshit\", \"shady\", \"unit\", \"hate\", \"wrong\", \"white\", \"rock\", \"critic\", \"plain\", \"guy\", \"awful\", \"name\", \"know\", \"stop\", \"real\", \"sell\", \"people\", \"listen\", \"back\", \"think\", \"kid\", \"day\", \"say\", \"rap\", \"rapper\", \"good\", \"get\", \"give\", \"bad\", \"make\", \"ever\", \"see\", \"hear\", \"really\", \"never\", \"time\", \"could\", \"would\", \"even\", \"come\", \"want\", \"need\", \"fire\", \"average\", \"worst\", \"schoolboy\", \"flat\", \"logic\", \"savage\", \"sadly\", \"numb\", \"retarded\", \"wordplay\", \"meek\", \"chain\", \"dirty\", \"poorly\", \"nonsense\", \"chief\", \"somehow\", \"lupe\", \"alright\", \"disaster\", \"dangerous\", \"impression\", \"fat\", \"unfinished\", \"account\", \"book\", \"surpass\", \"insane\", \"atrocious\", \"forgettable\", \"decent\", \"direction\", \"lazy\", \"loud\", \"trash\", \"special\", \"weak\", \"bland\", \"beat\", \"well\", \"lyric\", \"production\", \"young\", \"overall\", \"skip\", \"ghost\", \"bad\", \"terrible\", \"hook\", \"thing\", \"place\", \"mediocre\", \"good\", \"flow\", \"verse\", \"sound\", \"even\", \"feature\", \"probably\", \"low\", \"make\", \"try\", \"much\", \"rap\", \"hard\", \"really\", \"get\", \"track\", \"great\", \"hear\", \"ever\", \"time\", \"feel\", \"listen\", \"say\", \"year\", \"death\", \"grip\", \"experimental\", \"title\", \"hip\", \"disappointed\", \"fav\", \"kick\", \"heavy\", \"scene\", \"deal\", \"meet\", \"provide\", \"sleep\", \"theme\", \"melody\", \"avoid\", \"government\", \"blend\", \"hop\", \"expensive\", \"effect\", \"apart\", \"pain\", \"heartbreak\", \"showcase\", \"liquor\", \"soulful\", \"group\", \"percussion\", \"vocal\", \"side\", \"era\", \"sample\", \"ride\", \"power\", \"track\", \"emotion\", \"perhaps\", \"instrumental\", \"release\", \"record\", \"project\", \"feel\", \"black\", \"favorite\", \"long\", \"sound\", \"show\", \"deliver\", \"year\", \"problem\", \"repetitive\", \"time\", \"make\", \"work\", \"production\", \"first\", \"still\", \"artist\", \"feature\", \"least\", \"rap\", \"really\", \"come\", \"say\", \"listen\", \"would\", \"much\", \"bad\", \"even\", \"good\"], \"Freq\": [336.0, 793.0, 239.0, 239.0, 150.0, 181.0, 116.0, 833.0, 371.0, 468.0, 321.0, 251.0, 253.0, 136.0, 705.0, 80.0, 385.0, 77.0, 161.0, 502.0, 74.0, 91.0, 81.0, 126.0, 436.0, 199.0, 63.0, 78.0, 67.0, 118.0, 149.4729498662272, 73.48447239268972, 76.19395367187066, 66.66916257028974, 48.422534985877455, 43.541422344826564, 32.97707733273452, 23.40933510400617, 23.397897384438522, 18.56540147031073, 16.658134017820256, 27.755080448536336, 37.75972784791758, 26.679535144512304, 22.98370510427745, 12.828720745057431, 75.09142779330216, 14.61139114745024, 10.905867995729327, 10.897079795888722, 10.896718805747081, 16.331225749246304, 10.890496574119359, 86.03337611821627, 10.859064841704615, 9.944526116557492, 9.9438886931836, 10.84513615504596, 36.12301042638553, 9.910539406388217, 165.0926863317694, 62.088799456094726, 24.67785903396139, 55.76322675727915, 101.92312958925419, 31.355906479407658, 86.26085524754664, 113.69881276792921, 53.55084125864005, 193.2857246876388, 85.14148057230025, 107.11206683522242, 39.29125172097098, 180.69727599978756, 313.4959258103374, 113.25719706767948, 189.01835942964883, 70.6126836086109, 71.20061435260585, 215.09399189374744, 262.0399164251352, 132.27194228432813, 297.25342394019475, 185.11930404635973, 138.13070086182003, 302.9616704161235, 243.17404022128662, 133.6548364147588, 108.65005576209134, 138.71142680512995, 159.9456912120344, 97.46395616992682, 140.44726245847335, 104.8315239595402, 116.59589420756764, 129.94646962895126, 108.2550546157969, 98.45529858513358, 96.93247352934969, 336.01247693052767, 79.45285887741476, 66.3920238375801, 18.50140212022782, 20.289949158561676, 16.593365810199984, 16.56457409368332, 12.768824803038452, 13.67967599902613, 12.766381663807817, 14.558317416253393, 10.843694057034828, 10.834924589258929, 11.729292416239133, 11.727042680114996, 10.823315997626606, 10.819761511130757, 10.799034638601976, 9.847744322012689, 9.842012458109666, 16.99644597863637, 8.906105953778761, 8.900370830139009, 8.887765733212339, 8.842317777859673, 8.824277803956173, 7.934329286428842, 7.9285143561066365, 13.188273375645572, 7.026670945491946, 31.53952052644451, 82.58296582771838, 22.433066577263844, 35.624725108832116, 34.00073717182103, 102.67964225626226, 32.06450217597083, 83.92433090573215, 30.373071473565016, 316.7945820106498, 216.89391500377843, 252.1646183207376, 243.42359925174134, 53.24616521094252, 94.83660249310661, 22.97679615326553, 27.9505466175585, 448.7904806734371, 129.30019973722366, 67.94576273766295, 126.46600699116057, 44.632433649421266, 43.87397628710928, 335.21160884033907, 115.32970365780191, 53.13432815353211, 212.13876872841865, 194.04947564412043, 100.37358394654176, 55.71120477243326, 48.0117294326753, 225.9636395329742, 91.53071991958709, 127.36367150038957, 189.34096623817035, 78.28843616973234, 149.89251591223476, 139.71914221089312, 196.76445073028552, 84.64751699170448, 108.32620037487312, 96.84589028864445, 97.2363092527931, 89.17802487653582, 102.46628423569376, 93.12014071514997, 88.84369591824553, 115.85159796865995, 62.58268924053272, 36.87648260820684, 45.46467960443189, 233.8729084260088, 26.952769372868165, 24.76836013589935, 20.93478915914539, 19.947724386332734, 17.096506089602425, 18.02135024373019, 16.082641205614202, 23.647538195156617, 16.987979537738106, 51.89647711092977, 23.557099291226063, 14.120766726225442, 12.17332359758098, 13.10343635533019, 227.29529924159183, 11.181928163308223, 11.180324637452955, 11.165505653043994, 22.330334415153274, 11.149790072278243, 10.209014806193618, 10.196476813799588, 12.029085858367631, 48.931190977773134, 9.219884960334099, 76.35503987636177, 41.483319459386806, 14.70448738792474, 56.54384477211234, 37.77791581546721, 22.984157625641505, 557.3855205958222, 36.365903418678315, 21.06667214827993, 32.90558192112528, 110.94212009146513, 99.93719239846202, 101.38619874135394, 134.5614988167558, 43.85440862145368, 42.147191906411564, 75.70680290941088, 179.2893500891896, 81.9945535185053, 37.08866783520408, 105.96644696214265, 44.27992518406938, 45.4558006221376, 108.51056973410009, 149.15187150005238, 76.64984938038158, 110.01279523903186, 73.70154256692858, 78.05895142421313, 72.06219956896186, 67.95509909756908, 57.7826237202264, 103.2777047044053, 90.57357103708546, 72.38592755436444, 83.57604649760943, 86.61118588500746, 73.22905808381837, 72.29564333944019, 81.54018142201669, 72.89545006899887, 72.98239067377565], \"Total\": [336.0, 793.0, 239.0, 239.0, 150.0, 181.0, 116.0, 833.0, 371.0, 468.0, 321.0, 251.0, 253.0, 136.0, 705.0, 80.0, 385.0, 77.0, 161.0, 502.0, 74.0, 91.0, 81.0, 126.0, 436.0, 199.0, 63.0, 78.0, 67.0, 118.0, 150.2311592728926, 74.15643491994173, 77.0452437703066, 67.41580590194526, 49.11916053227905, 44.306486848711266, 33.71193511453161, 24.08177182611132, 24.08189094352564, 19.267128038357384, 17.341525432760516, 28.89469663643529, 39.494901911682874, 27.942070446646156, 24.09222756624714, 13.489063822201533, 78.95899277368873, 15.418468013892475, 11.563055923598696, 11.563086117880083, 11.563055854293502, 17.33940376026178, 11.56338268925335, 91.50145793864515, 11.563780495463913, 10.600063209728422, 10.600070387266216, 11.564611993957065, 38.57154081224797, 10.600638721265895, 181.94575361051358, 68.413218500107, 26.964371144287753, 62.711102428927816, 118.57818967275263, 34.74372439740979, 100.10457480644534, 136.66289655028896, 62.70284112675965, 251.03976351055593, 104.22017341325932, 133.85849014123573, 45.34334188675934, 253.37076863151523, 502.5733959310386, 162.37556008338962, 301.2842090365824, 92.02417007392319, 93.97374482872618, 391.79017910650686, 554.6585873677109, 230.79145410999752, 705.4474234543095, 378.3098415731996, 261.7665286410141, 833.2923325115772, 618.2895512543132, 262.3660331214824, 187.63368720374186, 300.4316776808224, 400.4117781613546, 164.4460217960514, 346.19414144536654, 198.71755507831023, 272.1573350548031, 396.89139534207055, 233.73282516124516, 170.84788971146565, 165.07983169909525, 336.6771784289479, 80.59440477810976, 68.12771616209531, 19.195464641900912, 21.113706294845016, 17.276705685276948, 17.276657580449612, 13.439735505283409, 14.399504864329108, 13.439566646835551, 15.358763613576292, 11.521273691931842, 11.521493099278876, 12.481843004016115, 12.483134491800856, 11.522121094957967, 11.521419759722257, 11.523122657292205, 10.563669696947054, 10.563083161079584, 18.252764769593483, 9.604046514628347, 9.60378016033902, 9.603488040448017, 9.605878545680842, 9.603415959489311, 8.64416883525975, 8.644979640934904, 14.400844888955191, 7.684461093592954, 34.558734559074146, 92.28630353714776, 24.984082660429983, 40.31292324365639, 39.43273706122112, 126.71370994059718, 37.43770531503817, 104.6405837766368, 35.62651193294275, 468.3897630477708, 321.1617572113319, 385.3329603086563, 371.65215624746264, 68.54112168985435, 131.45094071393098, 26.944418376179037, 33.720905245707726, 833.2923325115772, 199.86089489474548, 97.5354353553731, 206.34115947388048, 59.893879292137804, 58.9295298876275, 705.4474234543095, 193.33051470105792, 74.46629155553734, 436.1566183996543, 396.89139534207055, 170.83726598829264, 80.97744274240775, 67.30078238936531, 618.2895512543132, 178.1529113291005, 294.1026930028668, 554.6585873677109, 142.96529962775415, 400.4117781613546, 378.3098415731996, 793.6033345622877, 179.78740488917327, 300.4316776808224, 262.3660331214824, 346.19414144536654, 250.60060619656304, 502.5733959310386, 391.79017910650686, 284.5315052249715, 116.61733893892604, 63.243161470832284, 37.54283089372082, 46.43037892089869, 239.0705440545686, 27.657000877084386, 25.673854979558275, 21.723807364328305, 20.735136921139603, 17.773138971332212, 18.75978578465763, 16.78401422679142, 24.682787290586614, 17.77012173703286, 54.296999119377716, 24.680500782517264, 14.807441799346757, 12.831343297712731, 13.81814199217518, 239.8638444833804, 11.84282345725353, 11.842724398401874, 11.84233702847331, 23.685930209734543, 11.841852934959828, 10.854758396018182, 10.854388936375504, 12.827270669000713, 52.29033134257531, 9.866250222927933, 81.89144605800652, 45.3532430190223, 15.785383163110184, 64.02882796758227, 42.37055773056694, 25.62102237999552, 793.6033345622877, 42.34442178765494, 23.650630865892207, 39.349198167387115, 164.54250476946598, 154.6902220475981, 161.26906527782188, 250.60060619656304, 60.79059352444747, 58.829054948334075, 130.8749344960247, 436.1566183996543, 147.4720318900914, 52.91802727721159, 284.5315052249715, 70.39985863550594, 75.22298572876007, 346.19414144536654, 618.2895512543132, 192.3550085985259, 371.65215624746264, 183.64902159444426, 222.2821808453433, 193.2977004342929, 170.83726598829264, 124.57416909549639, 554.6585873677109, 400.4117781613546, 233.73282516124516, 391.79017910650686, 502.5733959310386, 272.1573350548031, 294.1026930028668, 833.2923325115772, 396.89139534207055, 705.4474234543095], \"Category\": [\"Default\", \"Default\", \"Default\", \"Default\", \"Default\", \"Default\", \"Default\", \"Default\", \"Default\", \"Default\", \"Default\", \"Default\", \"Default\", \"Default\", \"Default\", \"Default\", \"Default\", \"Default\", \"Default\", \"Default\", \"Default\", \"Default\", \"Default\", \"Default\", \"Default\", \"Default\", \"Default\", \"Default\", \"Default\", \"Default\", \"Topic1\", \"Topic1\", \"Topic1\", \"Topic1\", \"Topic1\", \"Topic1\", \"Topic1\", \"Topic1\", \"Topic1\", \"Topic1\", \"Topic1\", \"Topic1\", \"Topic1\", \"Topic1\", \"Topic1\", \"Topic1\", \"Topic1\", \"Topic1\", \"Topic1\", \"Topic1\", \"Topic1\", \"Topic1\", \"Topic1\", \"Topic1\", \"Topic1\", \"Topic1\", \"Topic1\", \"Topic1\", \"Topic1\", \"Topic1\", \"Topic1\", \"Topic1\", \"Topic1\", \"Topic1\", \"Topic1\", \"Topic1\", \"Topic1\", \"Topic1\", \"Topic1\", \"Topic1\", \"Topic1\", \"Topic1\", \"Topic1\", \"Topic1\", \"Topic1\", \"Topic1\", \"Topic1\", \"Topic1\", \"Topic1\", \"Topic1\", \"Topic1\", \"Topic1\", \"Topic1\", \"Topic1\", \"Topic1\", \"Topic1\", \"Topic1\", \"Topic1\", \"Topic1\", \"Topic1\", \"Topic1\", \"Topic1\", \"Topic1\", \"Topic1\", \"Topic1\", \"Topic1\", \"Topic1\", \"Topic1\", \"Topic1\", \"Topic2\", \"Topic2\", \"Topic2\", \"Topic2\", \"Topic2\", \"Topic2\", \"Topic2\", \"Topic2\", \"Topic2\", \"Topic2\", \"Topic2\", \"Topic2\", \"Topic2\", \"Topic2\", \"Topic2\", \"Topic2\", \"Topic2\", \"Topic2\", \"Topic2\", \"Topic2\", \"Topic2\", \"Topic2\", \"Topic2\", \"Topic2\", \"Topic2\", \"Topic2\", \"Topic2\", \"Topic2\", \"Topic2\", \"Topic2\", \"Topic2\", \"Topic2\", \"Topic2\", \"Topic2\", \"Topic2\", \"Topic2\", \"Topic2\", \"Topic2\", \"Topic2\", \"Topic2\", \"Topic2\", \"Topic2\", \"Topic2\", \"Topic2\", \"Topic2\", \"Topic2\", \"Topic2\", \"Topic2\", \"Topic2\", \"Topic2\", \"Topic2\", \"Topic2\", \"Topic2\", \"Topic2\", \"Topic2\", \"Topic2\", \"Topic2\", \"Topic2\", \"Topic2\", \"Topic2\", \"Topic2\", \"Topic2\", \"Topic2\", \"Topic2\", \"Topic2\", \"Topic2\", \"Topic2\", \"Topic2\", \"Topic2\", \"Topic2\", \"Topic2\", \"Topic2\", \"Topic2\", \"Topic2\", \"Topic2\", \"Topic2\", \"Topic2\", \"Topic3\", \"Topic3\", \"Topic3\", \"Topic3\", \"Topic3\", \"Topic3\", \"Topic3\", \"Topic3\", \"Topic3\", \"Topic3\", \"Topic3\", \"Topic3\", \"Topic3\", \"Topic3\", \"Topic3\", \"Topic3\", \"Topic3\", \"Topic3\", \"Topic3\", \"Topic3\", \"Topic3\", \"Topic3\", \"Topic3\", \"Topic3\", \"Topic3\", \"Topic3\", \"Topic3\", \"Topic3\", \"Topic3\", \"Topic3\", \"Topic3\", \"Topic3\", \"Topic3\", \"Topic3\", \"Topic3\", \"Topic3\", \"Topic3\", \"Topic3\", \"Topic3\", \"Topic3\", \"Topic3\", \"Topic3\", \"Topic3\", \"Topic3\", \"Topic3\", \"Topic3\", \"Topic3\", \"Topic3\", \"Topic3\", \"Topic3\", \"Topic3\", \"Topic3\", \"Topic3\", \"Topic3\", \"Topic3\", \"Topic3\", \"Topic3\", \"Topic3\", \"Topic3\", \"Topic3\", \"Topic3\", \"Topic3\", \"Topic3\", \"Topic3\", \"Topic3\", \"Topic3\", \"Topic3\", \"Topic3\", \"Topic3\", \"Topic3\", \"Topic3\", \"Topic3\"], \"logprob\": [30.0, 29.0, 28.0, 27.0, 26.0, 25.0, 24.0, 23.0, 22.0, 21.0, 20.0, 19.0, 18.0, 17.0, 16.0, 15.0, 14.0, 13.0, 12.0, 11.0, 10.0, 9.0, 8.0, 7.0, 6.0, 5.0, 4.0, 3.0, 2.0, 1.0, -4.7864, -5.4964, -5.4602, -5.5938, -5.9136, -6.0198, -6.2977, -6.6404, -6.6409, -6.8722, -6.9806, -6.4701, -6.1623, -6.5096, -6.6587, -7.2418, -5.4748, -7.1117, -7.4042, -7.405, -7.4051, -7.0004, -7.4056, -5.3388, -7.4085, -7.4965, -7.4966, -7.4098, -6.2066, -7.4999, -4.687, -5.665, -6.5876, -5.7724, -5.1693, -6.3481, -5.3361, -5.06, -5.8129, -4.5293, -5.3492, -5.1196, -6.1225, -4.5967, -4.0457, -5.0639, -4.5517, -5.5363, -5.528, -4.4224, -4.225, -4.9087, -4.0989, -4.5725, -4.8653, -4.0799, -4.2997, -4.8983, -5.1054, -4.8611, -4.7187, -5.214, -4.8487, -5.1412, -5.0348, -4.9264, -5.109, -5.2039, -5.2195, -3.9747, -5.4166, -5.5962, -6.874, -6.7817, -6.9828, -6.9845, -7.2448, -7.1759, -7.245, -7.1136, -7.4082, -7.409, -7.3297, -7.3299, -7.4101, -7.4104, -7.4123, -7.5046, -7.5051, -6.9588, -7.6051, -7.6057, -7.6071, -7.6123, -7.6143, -7.7206, -7.7213, -7.2125, -7.8421, -6.3406, -5.378, -6.6813, -6.2188, -6.2654, -5.1602, -6.3241, -5.3619, -6.3782, -4.0336, -4.4124, -4.2617, -4.297, -5.8169, -5.2396, -6.6573, -6.4614, -3.6852, -4.9297, -5.5731, -4.9518, -5.9933, -6.0105, -3.977, -5.044, -5.819, -4.4346, -4.5237, -5.1829, -5.7716, -5.9204, -4.3714, -5.2751, -4.9448, -4.5483, -5.4314, -4.7819, -4.8522, -4.5098, -5.3533, -5.1067, -5.2187, -5.2147, -5.3012, -5.1623, -5.2579, -5.3049, -4.9435, -5.5593, -6.0882, -5.8789, -4.241, -6.4017, -6.4862, -6.6544, -6.7027, -6.8569, -6.8042, -6.9181, -6.5325, -6.8633, -5.7465, -6.5364, -7.0482, -7.1966, -7.1229, -4.2696, -7.2815, -7.2816, -7.283, -6.5899, -7.2844, -7.3725, -7.3738, -7.2085, -5.8054, -7.4744, -5.3604, -5.9705, -7.0076, -5.6608, -6.0641, -6.561, -3.3725, -6.1022, -6.6481, -6.2022, -4.9868, -5.0913, -5.0769, -4.7938, -5.9149, -5.9546, -5.3689, -4.5068, -5.2891, -6.0825, -5.0327, -5.9053, -5.8791, -5.009, -4.6908, -5.3566, -4.9952, -5.3958, -5.3383, -5.4183, -5.477, -5.6391, -5.0584, -5.1896, -5.4138, -5.27, -5.2344, -5.4022, -5.415, -5.2947, -5.4068, -5.4056], \"loglift\": [30.0, 29.0, 28.0, 27.0, 26.0, 25.0, 24.0, 23.0, 22.0, 21.0, 20.0, 19.0, 18.0, 17.0, 16.0, 15.0, 14.0, 13.0, 12.0, 11.0, 10.0, 9.0, 8.0, 7.0, 6.0, 5.0, 4.0, 3.0, 2.0, 1.0, 1.0614, 1.0574, 1.0554, 1.0554, 1.0522, 1.0491, 1.0445, 1.0382, 1.0377, 1.0294, 1.0263, 1.0263, 1.0216, 1.0203, 1.0194, 1.0163, 1.0163, 1.0127, 1.008, 1.0072, 1.0071, 1.0066, 1.0065, 1.0049, 1.0036, 1.0027, 1.0026, 1.0023, 1.0009, 0.9992, 0.9693, 0.9695, 0.9779, 0.9491, 0.9151, 0.9639, 0.9177, 0.8825, 0.9087, 0.8051, 0.8643, 0.8436, 0.9232, 0.7285, 0.5945, 0.7063, 0.6003, 0.8017, 0.789, 0.4668, 0.3166, 0.5098, 0.2023, 0.3518, 0.4272, 0.0547, 0.1333, 0.392, 0.5201, 0.2937, 0.1488, 0.5434, 0.1643, 0.427, 0.2188, -0.05, 0.2968, 0.5153, 0.5341, 1.0662, 1.0539, 1.0424, 1.0314, 1.0284, 1.0279, 1.0261, 1.017, 1.0169, 1.0168, 1.0147, 1.0076, 1.0068, 1.006, 1.0057, 1.0056, 1.0054, 1.0033, 0.998, 0.9975, 0.9969, 0.9928, 0.9921, 0.9908, 0.9854, 0.9836, 0.9825, 0.9817, 0.9803, 0.9787, 0.9768, 0.9571, 0.9605, 0.9446, 0.92, 0.8579, 0.9133, 0.8476, 0.9087, 0.6772, 0.6757, 0.6442, 0.6451, 0.8157, 0.7417, 0.9089, 0.8805, 0.4494, 0.6327, 0.7067, 0.5787, 0.7741, 0.7732, 0.3241, 0.5516, 0.7307, 0.3475, 0.3527, 0.5364, 0.6942, 0.7305, 0.0616, 0.4022, 0.2313, -0.0066, 0.466, 0.0856, 0.0721, -0.3264, 0.3149, 0.0481, 0.0716, -0.2016, 0.035, -0.522, -0.3686, -0.0958, 1.1576, 1.1537, 1.1463, 1.1432, 1.1422, 1.1384, 1.1283, 1.1272, 1.1255, 1.1254, 1.1241, 1.1215, 1.1214, 1.1192, 1.119, 1.1176, 1.1167, 1.1116, 1.1111, 1.1104, 1.1068, 1.1067, 1.1054, 1.1053, 1.104, 1.1029, 1.1017, 1.1, 1.0978, 1.0965, 1.0942, 1.075, 1.0933, 1.0399, 1.0495, 1.0556, 0.8109, 1.012, 1.0485, 0.9854, 0.7701, 0.7273, 0.7001, 0.5424, 0.8377, 0.8307, 0.6168, 0.2752, 0.5772, 0.8088, 0.1765, 0.7006, 0.6605, 0.0041, -0.2578, 0.2441, -0.0531, 0.2512, 0.1177, 0.1775, 0.2424, 0.396, -0.5167, -0.3221, -0.0079, -0.3808, -0.5941, -0.1486, -0.2389, -1.1601, -0.5304, -1.1044]}, \"token.table\": {\"Topic\": [2, 1, 2, 3, 1, 2, 3, 1, 2, 2, 3, 3, 1, 2, 1, 2, 3, 1, 2, 3, 1, 2, 3, 1, 2, 3, 1, 2, 3, 3, 1, 2, 1, 1, 2, 3, 1, 2, 2, 1, 2, 3, 1, 2, 3, 1, 2, 1, 2, 3, 1, 2, 1, 2, 3, 3, 3, 1, 2, 3, 1, 2, 3, 1, 2, 3, 2, 3, 2, 3, 1, 1, 3, 1, 3, 1, 3, 1, 2, 3, 1, 2, 3, 3, 3, 2, 2, 3, 1, 2, 3, 1, 2, 3, 1, 2, 3, 2, 1, 2, 3, 2, 1, 2, 3, 1, 1, 2, 3, 1, 1, 1, 2, 3, 1, 2, 3, 1, 2, 3, 1, 2, 3, 3, 1, 2, 3, 3, 1, 2, 3, 1, 3, 1, 2, 1, 2, 3, 1, 2, 1, 2, 3, 3, 3, 1, 3, 1, 2, 3, 1, 3, 1, 1, 2, 2, 1, 2, 1, 2, 3, 1, 2, 3, 1, 3, 1, 2, 3, 1, 1, 2, 1, 2, 3, 3, 1, 2, 3, 2, 1, 2, 3, 1, 2, 3, 1, 2, 3, 2, 1, 2, 3, 1, 2, 3, 1, 2, 3, 2, 3, 1, 3, 1, 2, 3, 1, 2, 3, 1, 1, 1, 2, 3, 1, 1, 2, 3, 2, 2, 1, 2, 3, 1, 3, 1, 2, 3, 3, 1, 2, 3, 1, 2, 3, 1, 3, 2, 2, 3, 1, 2, 3, 1, 2, 3, 1, 2, 3, 2, 3, 1, 1, 3, 1, 2, 3, 1, 2, 3, 1, 2, 3, 1, 2, 3, 1, 2, 3, 1, 2, 3, 1, 2, 3, 2, 1, 2, 3, 1, 2, 3, 1, 2, 1, 2, 3, 2, 1, 2, 3, 3, 2, 1, 2, 3, 1, 2, 3, 1, 2, 3, 1, 3, 1, 1, 1, 2, 3, 3, 2, 3, 1, 2, 3, 3, 1, 2, 3, 2, 3, 1, 2, 3, 1, 2, 1, 2, 3, 1, 2, 3, 1, 2, 1, 2, 3, 1, 2, 3, 1, 2, 3, 1, 2, 3, 1, 2, 3, 2, 3, 1, 2, 3, 1, 2, 1, 2, 3, 2, 1, 1, 2, 3, 1, 2, 3, 1, 2, 3, 1, 2, 1, 2, 3, 1, 2, 2, 1, 2, 3, 1, 2, 3, 1, 2, 3, 1, 2, 3, 1, 2, 3, 1, 2, 3], \"Freq\": [0.9371665288648603, 0.9513056183946017, 0.9466932947044947, 0.9288707096877903, 0.37765581192112874, 0.2534949970429494, 0.37248244463453795, 0.9938322193678135, 0.9109292004661674, 0.9802169296677675, 0.012407809236300854, 0.9454705404020309, 0.8341693530405342, 0.1682973256134411, 0.6959175379716486, 0.1416469325075037, 0.16628118163924346, 0.3636178903587719, 0.5388265107956719, 0.09840484161524521, 0.18787771839288667, 0.6767867810289213, 0.1366383406493721, 0.0986994804975386, 0.18094904757882077, 0.7237961903152831, 0.028068984184649592, 0.8420695255394878, 0.14034492092324796, 0.9407921851839075, 0.9930825738958317, 0.9254793783490008, 0.9511776102603273, 0.9398757346321841, 0.04371515044800856, 0.01092878761200214, 0.9772153978172412, 0.9547373682572864, 0.954743445634618, 0.4620660359771636, 0.22675462876657104, 0.30804402398477576, 0.5283881434562829, 0.3522587623041887, 0.12077443279000755, 0.9498601408830537, 0.05065920751376286, 0.8601919145628344, 0.08433254064341514, 0.059032778450390594, 0.9513031285817911, 0.9371049990534409, 0.7555301763210834, 0.010641270089029344, 0.2341079419586456, 0.9594992291820833, 0.9947062851498494, 0.03250753237496849, 0.8993750623741282, 0.07585090887492649, 0.11338291143335602, 0.18897151905559337, 0.6991946205056955, 0.04002548396879142, 0.8805606473134112, 0.04002548396879142, 0.9613964857704844, 0.9762446810482349, 0.9313657527828106, 0.054786220751930036, 0.9637436794244693, 0.9550792261498641, 0.9288403267650478, 0.1416951689667241, 0.8501710138003447, 0.06334974511971052, 0.9502461767956578, 0.32754552385283214, 0.4887987048265341, 0.1839294095481288, 0.5107368450318965, 0.3697124922992087, 0.12196700776881111, 0.9288325575150481, 0.9855410239239148, 0.9371594947683338, 0.03895013042631143, 0.9737532606577858, 0.13598722615935113, 0.15298562942927002, 0.7139329373365934, 0.017560571358040743, 0.5853523786013581, 0.3980396174489235, 0.10774115996679622, 0.35514678655721715, 0.538705799833981, 0.9979886417246697, 0.25047778420286226, 0.3484908301952866, 0.40294252241330014, 0.9472519755985744, 0.16551965451227804, 0.5948362584034993, 0.2379345033613997, 0.9728593000604584, 0.057872489415989235, 0.9259598306558278, 0.028936244707994618, 0.9803059174877818, 0.9433899620150564, 0.4890171485644635, 0.3700670313460805, 0.1400968047238733, 0.02965519438797653, 0.8303454428633428, 0.14827597193988262, 0.5271873402472049, 0.30561584941866954, 0.16426851906253487, 0.42100940498967765, 0.47487592818701013, 0.103480426142244, 0.9352099559318218, 0.31147899395132933, 0.472780615818982, 0.21692287078753292, 0.9961551341650681, 0.019123994327911058, 0.038247988655822115, 0.9370757220676419, 0.9546647331283997, 0.04150716230993042, 0.8591015961686378, 0.1298641947696778, 0.2448146514652943, 0.5455869375512273, 0.20284642549981527, 0.9068637037455192, 0.08793829854502004, 0.4626675890938276, 0.35948273109448475, 0.17641282174081196, 0.9289086818098806, 0.9645463194221724, 0.0209143289474371, 0.9787905947400563, 0.08202147220496608, 0.6971825137422116, 0.21530636453803595, 0.05002838183405941, 0.9463702230276239, 0.9864333770761663, 0.9690359567469171, 0.03460842702667561, 0.9371309890211287, 0.06944037018042987, 0.9027248123455883, 0.050826956917704454, 0.12706739229426114, 0.8386447891421235, 0.922753759080724, 0.05767210994254525, 0.9666813762344055, 0.7715364337756653, 0.22820091703223905, 0.7688025088180287, 0.1115361152689368, 0.11950298064528943, 0.9788818081159414, 0.0992237644445553, 0.8930138800009977, 0.17660161941867084, 0.361230585174554, 0.46558608755831404, 0.9212863164031045, 0.6227946057911684, 0.20295543064121144, 0.17310904378220976, 0.9839838861460287, 0.19866294565969578, 0.2215855932358145, 0.5807070719283415, 0.05071927918406752, 0.8622277461291478, 0.07607891877610128, 0.23773869235921807, 0.7132160770776542, 0.04457600481735339, 0.9466407306250822, 0.23096908172275202, 0.6539798718441967, 0.11418696175057404, 0.3930197421370459, 0.3655245338393925, 0.2409874139029623, 0.016969420966142037, 0.7466545225102497, 0.23757189352598854, 0.9547555499617302, 0.9532880384753285, 0.04051781642568462, 0.9724275942164308, 0.319616250501602, 0.4318219554649303, 0.2448124471927164, 0.8612049953340065, 0.06379296261733382, 0.07974120327166727, 0.9512787300746398, 0.9861355549293294, 0.5875944929287908, 0.2725953833174803, 0.13932652925115657, 0.9513056126927855, 0.5898592069335733, 0.20067375081245278, 0.2067547735643453, 0.9546853317496858, 0.9722556526704766, 0.022822202592895285, 0.7227030821083508, 0.25104422852184816, 0.04221915673757309, 0.9288214482266078, 0.7143681213803861, 0.2328603268587999, 0.05130820761295591, 0.9122006635393378, 0.08456434043306231, 0.042282170216531155, 0.8879255745471544, 0.016696196870508415, 0.7513288591728787, 0.23374675618711782, 0.8922474644747961, 0.08634652882014156, 0.9612970210231904, 0.07806089742779225, 0.8977003204196109, 0.1605385346800032, 0.6915506109292446, 0.14818941662769528, 0.09943201784313772, 0.269886905574231, 0.6250012550140086, 0.048432384145821544, 0.6538371859685909, 0.29597568089113163, 0.37204903430572156, 0.6262825410812979, 0.9512460050858743, 0.040514063028099526, 0.9723375126743886, 0.47236264968580954, 0.3407501556893817, 0.1856998202963297, 0.5719449210501854, 0.27730662838796866, 0.15165206239967036, 0.7993516129391792, 0.17182324390281423, 0.02988230328744595, 0.3995886453058444, 0.3746143549742292, 0.22726604201769904, 0.29090397184996947, 0.05818079436999389, 0.6464532707777099, 0.1762462534567026, 0.15193642539370916, 0.6745977287480687, 0.06646904468840228, 0.3323452234420114, 0.5982214021956206, 0.9672930937145171, 0.04720258847471251, 0.07080388271206876, 0.8968491810195377, 0.892983823135087, 0.031892279397681675, 0.0797306984942042, 0.9433906008053139, 0.9672809405281421, 0.031235930181520703, 0.0937077905445621, 0.8902240101733401, 0.9839866259337872, 0.5487631172642359, 0.2373719530491811, 0.21440047372184098, 0.956499582174017, 0.9898171445418288, 0.5809191389051714, 0.21851086876249567, 0.20252226860914233, 0.8601042264903802, 0.04410790905078873, 0.08821581810157746, 0.9621494967875671, 0.02531972359967282, 0.02531972359967282, 0.933330617390545, 0.05185170096614139, 0.9844054676955519, 0.9550745019955958, 0.35260923263575017, 0.08815230815893754, 0.5560376360794522, 0.9212549589006301, 0.06614741968378587, 0.904014735678407, 0.037113437968439425, 0.8536090732741067, 0.11134031390531827, 0.9566619886779993, 0.9662848732542928, 0.03578832863904788, 0.03578832863904788, 0.9546023527779464, 0.935506882925613, 0.10317394738870175, 0.48606392992010605, 0.41040303516839144, 0.1335551940997723, 0.8547532422385427, 0.36440167939668167, 0.2834235284196413, 0.35090532090050824, 0.8155810647421735, 0.08635564214917131, 0.09595071349907924, 0.9918049006687341, 0.9253925783837759, 0.34023664327036784, 0.6454489262040801, 0.015010440144280934, 0.01841722408638816, 0.01841722408638816, 0.9576956524921844, 0.2423171418028656, 0.6106391973432213, 0.14539028508171936, 0.6273146561659039, 0.22901963637802839, 0.14272238209065538, 0.40439736910479646, 0.28018960573689466, 0.3148522373744487, 0.02153762306578747, 0.9691930379604362, 0.049142938671635585, 0.24823484405928742, 0.7018619702590004, 0.18940334089540187, 0.8128560046760996, 0.40414719839742025, 0.5164103090633704, 0.07858417746616506, 0.9369262745932524, 0.9433393838749587, 0.013428894861162718, 0.711731427641624, 0.2685778972232543, 0.04884515041005214, 0.012211287602513035, 0.9280578577909907, 0.5736096604149228, 0.2868048302074614, 0.13462267540350228, 0.19113043217239217, 0.802747815124047, 0.27711892216804607, 0.6756719787692809, 0.046705436320457205, 0.9271493804258849, 0.0741719504340708, 0.9766411136597503, 0.22354499793528915, 0.37950662440176997, 0.40030150793063407, 0.01467831385424273, 0.9687687143800202, 0.01467831385424273, 0.42989838938730135, 0.3012963070919548, 0.26822720021600854, 0.9062576116032756, 0.058468233006662935, 0.029234116503331468, 0.31630943620404844, 0.31279488691289237, 0.37254222486254596, 0.014589781657279513, 0.7732584278358142, 0.2188467248591927], \"Term\": [\"account\", \"alot\", \"alright\", \"apart\", \"artist\", \"artist\", \"artist\", \"ass\", \"atrocious\", \"average\", \"average\", \"avoid\", \"awful\", \"awful\", \"back\", \"back\", \"back\", \"bad\", \"bad\", \"bad\", \"beat\", \"beat\", \"beat\", \"black\", \"black\", \"black\", \"bland\", \"bland\", \"bland\", \"blend\", \"bomb\", \"book\", \"bullshit\", \"buy\", \"buy\", \"buy\", \"cent\", \"chain\", \"chief\", \"come\", \"come\", \"come\", \"could\", \"could\", \"could\", \"crap\", \"crap\", \"critic\", \"critic\", \"critic\", \"daddy\", \"dangerous\", \"day\", \"day\", \"day\", \"deal\", \"death\", \"decent\", \"decent\", \"decent\", \"deliver\", \"deliver\", \"deliver\", \"direction\", \"direction\", \"direction\", \"dirty\", \"disappointed\", \"disaster\", \"disaster\", \"dog\", \"dude\", \"effect\", \"emotion\", \"emotion\", \"era\", \"era\", \"even\", \"even\", \"even\", \"ever\", \"ever\", \"ever\", \"expensive\", \"experimental\", \"fat\", \"fav\", \"fav\", \"favorite\", \"favorite\", \"favorite\", \"feature\", \"feature\", \"feature\", \"feel\", \"feel\", \"feel\", \"fire\", \"first\", \"first\", \"first\", \"flat\", \"flow\", \"flow\", \"flow\", \"foot\", \"forgettable\", \"forgettable\", \"forgettable\", \"fuck\", \"fucking\", \"get\", \"get\", \"get\", \"ghost\", \"ghost\", \"ghost\", \"give\", \"give\", \"give\", \"good\", \"good\", \"good\", \"government\", \"great\", \"great\", \"great\", \"grip\", \"group\", \"group\", \"group\", \"gun\", \"gun\", \"guy\", \"guy\", \"hard\", \"hard\", \"hard\", \"hate\", \"hate\", \"hear\", \"hear\", \"hear\", \"heartbreak\", \"heavy\", \"hip\", \"hip\", \"hook\", \"hook\", \"hook\", \"hop\", \"hop\", \"hot\", \"idiot\", \"idiot\", \"impression\", \"insane\", \"insane\", \"instrumental\", \"instrumental\", \"instrumental\", \"insult\", \"insult\", \"kick\", \"kid\", \"kid\", \"know\", \"know\", \"know\", \"lame\", \"lazy\", \"lazy\", \"least\", \"least\", \"least\", \"liquor\", \"listen\", \"listen\", \"listen\", \"logic\", \"long\", \"long\", \"long\", \"loud\", \"loud\", \"loud\", \"low\", \"low\", \"low\", \"lupe\", \"lyric\", \"lyric\", \"lyric\", \"make\", \"make\", \"make\", \"mediocre\", \"mediocre\", \"mediocre\", \"meek\", \"meet\", \"melody\", \"melody\", \"much\", \"much\", \"much\", \"name\", \"name\", \"name\", \"nasty\", \"nee\", \"need\", \"need\", \"need\", \"nelly\", \"never\", \"never\", \"never\", \"nonsense\", \"numb\", \"overall\", \"overall\", \"overall\", \"pain\", \"pain\", \"people\", \"people\", \"people\", \"percussion\", \"perhaps\", \"perhaps\", \"perhaps\", \"place\", \"place\", \"place\", \"plain\", \"plain\", \"poorly\", \"power\", \"power\", \"probably\", \"probably\", \"probably\", \"problem\", \"problem\", \"problem\", \"production\", \"production\", \"production\", \"project\", \"project\", \"proof\", \"provide\", \"provide\", \"rap\", \"rap\", \"rap\", \"rapper\", \"rapper\", \"rapper\", \"real\", \"real\", \"real\", \"really\", \"really\", \"really\", \"record\", \"record\", \"record\", \"release\", \"release\", \"release\", \"repetitive\", \"repetitive\", \"repetitive\", \"retarded\", \"ride\", \"ride\", \"ride\", \"rock\", \"rock\", \"rock\", \"rule\", \"sadly\", \"sample\", \"sample\", \"sample\", \"savage\", \"say\", \"say\", \"say\", \"scene\", \"schoolboy\", \"see\", \"see\", \"see\", \"sell\", \"sell\", \"sell\", \"seriously\", \"seriously\", \"seriously\", \"shady\", \"shady\", \"shit\", \"shoot\", \"show\", \"show\", \"show\", \"showcase\", \"side\", \"side\", \"skip\", \"skip\", \"skip\", \"sleep\", \"slim\", \"slim\", \"slim\", \"somehow\", \"soulful\", \"sound\", \"sound\", \"sound\", \"special\", \"special\", \"still\", \"still\", \"still\", \"stop\", \"stop\", \"stop\", \"suck\", \"surpass\", \"terrible\", \"terrible\", \"terrible\", \"theme\", \"theme\", \"theme\", \"thing\", \"thing\", \"thing\", \"think\", \"think\", \"think\", \"time\", \"time\", \"time\", \"title\", \"title\", \"track\", \"track\", \"track\", \"trash\", \"trash\", \"try\", \"try\", \"try\", \"unfinished\", \"unit\", \"verse\", \"verse\", \"verse\", \"vocal\", \"vocal\", \"vocal\", \"want\", \"want\", \"want\", \"weak\", \"weak\", \"well\", \"well\", \"well\", \"white\", \"white\", \"wordplay\", \"work\", \"work\", \"work\", \"worst\", \"worst\", \"worst\", \"would\", \"would\", \"would\", \"wrong\", \"wrong\", \"wrong\", \"year\", \"year\", \"year\", \"young\", \"young\", \"young\"]}, \"R\": 30, \"lambda.step\": 0.01, \"plot.opts\": {\"xlab\": \"PC1\", \"ylab\": \"PC2\"}, \"topic.order\": [1, 3, 2]};\n",
       "\n",
       "function LDAvis_load_lib(url, callback){\n",
       "  var s = document.createElement('script');\n",
       "  s.src = url;\n",
       "  s.async = true;\n",
       "  s.onreadystatechange = s.onload = callback;\n",
       "  s.onerror = function(){console.warn(\"failed to load library \" + url);};\n",
       "  document.getElementsByTagName(\"head\")[0].appendChild(s);\n",
       "}\n",
       "\n",
       "if(typeof(LDAvis) !== \"undefined\"){\n",
       "   // already loaded: just create the visualization\n",
       "   !function(LDAvis){\n",
       "       new LDAvis(\"#\" + \"ldavis_el252121403515943694884876376280\", ldavis_el252121403515943694884876376280_data);\n",
       "   }(LDAvis);\n",
       "}else if(typeof define === \"function\" && define.amd){\n",
       "   // require.js is available: use it to load d3/LDAvis\n",
       "   require.config({paths: {d3: \"https://cdnjs.cloudflare.com/ajax/libs/d3/3.5.5/d3.min\"}});\n",
       "   require([\"d3\"], function(d3){\n",
       "      window.d3 = d3;\n",
       "      LDAvis_load_lib(\"https://cdn.rawgit.com/bmabey/pyLDAvis/files/ldavis.v1.0.0.js\", function(){\n",
       "        new LDAvis(\"#\" + \"ldavis_el252121403515943694884876376280\", ldavis_el252121403515943694884876376280_data);\n",
       "      });\n",
       "    });\n",
       "}else{\n",
       "    // require.js not available: dynamically load d3 & LDAvis\n",
       "    LDAvis_load_lib(\"https://cdnjs.cloudflare.com/ajax/libs/d3/3.5.5/d3.min.js\", function(){\n",
       "         LDAvis_load_lib(\"https://cdn.rawgit.com/bmabey/pyLDAvis/files/ldavis.v1.0.0.js\", function(){\n",
       "                 new LDAvis(\"#\" + \"ldavis_el252121403515943694884876376280\", ldavis_el252121403515943694884876376280_data);\n",
       "            })\n",
       "         });\n",
       "}\n",
       "</script>"
      ],
      "text/plain": [
       "PreparedData(topic_coordinates=                 x            y  topics  cluster       Freq\n",
       "topic                                                      \n",
       "0     -1015.700562  1338.981201       1        1  34.421090\n",
       "2      -387.996002  -373.316162       2        1  34.362222\n",
       "1     -2184.745605   -60.565800       3        1  31.216688, topic_info=       Term        Freq       Total Category  logprob  loglift\n",
       "555    fire  336.000000  336.000000  Default  30.0000  30.0000\n",
       "1499  track  793.000000  793.000000  Default  29.0000  29.0000\n",
       "685     hip  239.000000  239.000000  Default  28.0000  28.0000\n",
       "698     hop  239.000000  239.000000  Default  27.0000  27.0000\n",
       "1423   suck  150.000000  150.000000  Default  26.0000  26.0000\n",
       "...     ...         ...         ...      ...      ...      ...\n",
       "1631  would   73.229058  272.157335   Topic3  -5.4022  -0.1486\n",
       "945    much   72.295643  294.102693   Topic3  -5.4150  -0.2389\n",
       "98      bad   81.540181  833.292333   Topic3  -5.2947  -1.1601\n",
       "482    even   72.895450  396.891395   Topic3  -5.4068  -0.5304\n",
       "628    good   72.982391  705.447423   Topic3  -5.4056  -1.1044\n",
       "\n",
       "[248 rows x 6 columns], token_table=      Topic      Freq     Term\n",
       "term                          \n",
       "11        2  0.937167  account\n",
       "34        1  0.951306     alot\n",
       "36        2  0.946693  alright\n",
       "56        3  0.928871    apart\n",
       "69        1  0.377656   artist\n",
       "...     ...       ...      ...\n",
       "1635      2  0.312795     year\n",
       "1635      3  0.372542     year\n",
       "1637      1  0.014590    young\n",
       "1637      2  0.773258    young\n",
       "1637      3  0.218847    young\n",
       "\n",
       "[396 rows x 3 columns], R=30, lambda_step=0.01, plot_opts={'xlab': 'PC1', 'ylab': 'PC2'}, topic_order=[1, 3, 2])"
      ]
     },
     "execution_count": 145,
     "metadata": {},
     "output_type": "execute_result"
    }
   ],
   "source": [
    "panel2 = pyLDAvis.sklearn.prepare(best_lda_model2, tv4, vectorizer2, mds='tsne')\n",
    "panel2"
   ]
  },
  {
   "cell_type": "markdown",
   "metadata": {},
   "source": [
    "Positive Critic Reviews"
   ]
  },
  {
   "cell_type": "code",
   "execution_count": 59,
   "metadata": {},
   "outputs": [
    {
     "name": "stdout",
     "output_type": "stream",
     "text": [
      "grip part legend never die come juice speak heart\n"
     ]
    }
   ],
   "source": [
    "\n",
    "# Do lemmatization keeping only Noun, Adj, Verb, Adverb\n",
    "lemma_review3 = lemmatization(processed_rapc_pos, allowed_postags=['NOUN', 'ADJ', 'VERB', 'ADV'])\n",
    "\n",
    "print(lemma_review3[8])"
   ]
  },
  {
   "cell_type": "code",
   "execution_count": 99,
   "metadata": {},
   "outputs": [],
   "source": [
    "# Storing the entire training text in a list\n",
    "text4 = lemma_review3\n",
    "\n",
    "vectorizer3 = CountVectorizer(analyzer='word',       \n",
    "                             min_df=5,                         \n",
    "                             stop_words=stopwords_list,             \n",
    "                             lowercase=True,                   \n",
    "                             token_pattern='[a-zA-Z0-9]{3,}',)\n",
    "# Calling our overwritten Count vectorizer\n",
    "\n",
    "tv5 = vectorizer3.fit_transform(text4)"
   ]
  },
  {
   "cell_type": "code",
   "execution_count": 130,
   "metadata": {},
   "outputs": [
    {
     "name": "stdout",
     "output_type": "stream",
     "text": [
      "Fitting 5 folds for each of 12 candidates, totalling 60 fits\n"
     ]
    },
    {
     "name": "stderr",
     "output_type": "stream",
     "text": [
      "[Parallel(n_jobs=-1)]: Using backend LokyBackend with 8 concurrent workers.\n",
      "[Parallel(n_jobs=-1)]: Done  34 tasks      | elapsed:  4.8min\n",
      "[Parallel(n_jobs=-1)]: Done  60 out of  60 | elapsed:  7.5min finished\n"
     ]
    },
    {
     "data": {
      "text/plain": [
       "GridSearchCV(estimator=LatentDirichletAllocation(), n_jobs=-1,\n",
       "             param_grid={'learning_decay': [0.5, 0.7, 0.9, 1.0],\n",
       "                         'n_components': [3, 4, 5]},\n",
       "             verbose=1)"
      ]
     },
     "execution_count": 130,
     "metadata": {},
     "output_type": "execute_result"
    }
   ],
   "source": [
    "# Define Search Param\n",
    "search_params2 = {'n_components': [3, 4, 5], 'learning_decay': [.5, .7, .9, 1.0]}\n",
    "\n",
    "lda_cv4 = LatentDirichletAllocation()\n",
    "\n",
    "# Init Grid Search Class\n",
    "model4 = GridSearchCV(lda_cv4, param_grid=search_params2, verbose = 1, n_jobs = -1)\n",
    "\n",
    "# Do the Grid Search\n",
    "model4.fit(tv5)"
   ]
  },
  {
   "cell_type": "code",
   "execution_count": 131,
   "metadata": {},
   "outputs": [
    {
     "name": "stdout",
     "output_type": "stream",
     "text": [
      "Best Model's Params:  {'learning_decay': 1.0, 'n_components': 3}\n",
      "Best Log Likelihood Score:  -152178.10893560818\n",
      "Model Perplexity:  1821.2604442563309\n"
     ]
    }
   ],
   "source": [
    "# Best Model\n",
    "best_lda_model3 = model4.best_estimator_\n",
    "\n",
    "# Model Parameters\n",
    "print(\"Best Model's Params: \", model4.best_params_)\n",
    "\n",
    "# Log Likelihood Score\n",
    "print(\"Best Log Likelihood Score: \", model4.best_score_)\n",
    "\n",
    "# Perplexity\n",
    "print(\"Model Perplexity: \", best_lda_model3.perplexity(tv5))"
   ]
  },
  {
   "cell_type": "code",
   "execution_count": 147,
   "metadata": {},
   "outputs": [
    {
     "data": {
      "text/html": [
       "\n",
       "<link rel=\"stylesheet\" type=\"text/css\" href=\"https://cdn.rawgit.com/bmabey/pyLDAvis/files/ldavis.v1.0.0.css\">\n",
       "\n",
       "\n",
       "<div id=\"ldavis_el252121403515943721761587338039\"></div>\n",
       "<script type=\"text/javascript\">\n",
       "\n",
       "var ldavis_el252121403515943721761587338039_data = {\"mdsDat\": {\"x\": [-1015.7005615234375, -387.9960021972656, -2184.74560546875], \"y\": [1338.981201171875, -373.316162109375, -60.565799713134766], \"topics\": [1, 2, 3], \"cluster\": [1, 1, 1], \"Freq\": [33.711545321035665, 33.662112935819486, 32.62634174314485]}, \"tinfo\": {\"Term\": [\"good\", \"pop\", \"great\", \"solid\", \"time\", \"lot\", \"love\", \"line\", \"future\", \"result\", \"party\", \"brilliant\", \"prove\", \"could\", \"never\", \"bad\", \"return\", \"ever\", \"let\", \"start\", \"beautiful\", \"rhyme\", \"year\", \"enjoy\", \"surprise\", \"really\", \"away\", \"form\", \"last\", \"pretty\", \"lot\", \"bad\", \"none\", \"intelligent\", \"gangster\", \"listening\", \"accomplish\", \"diverse\", \"popular\", \"disappoint\", \"opportunity\", \"though\", \"flawless\", \"elevate\", \"technical\", \"arguably\", \"king\", \"front\", \"hero\", \"legend\", \"butterfly\", \"effectively\", \"pimp\", \"loop\", \"enjoy\", \"bump\", \"straightforward\", \"suffer\", \"crossover\", \"gain\", \"away\", \"tone\", \"appreciate\", \"benefit\", \"memory\", \"good\", \"else\", \"never\", \"occasional\", \"pretty\", \"craft\", \"consistent\", \"story\", \"idea\", \"quality\", \"make\", \"matter\", \"chance\", \"year\", \"rhyme\", \"beat\", \"want\", \"track\", \"rap\", \"produce\", \"even\", \"project\", \"record\", \"great\", \"could\", \"thing\", \"point\", \"love\", \"really\", \"enough\", \"feel\", \"work\", \"still\", \"much\", \"well\", \"little\", \"fan\", \"sound\", \"rapper\", \"may\", \"time\", \"come\", \"hiphop\", \"brilliant\", \"experimental\", \"party\", \"blueprint\", \"modern\", \"stunning\", \"lyrically\", \"finish\", \"month\", \"subtle\", \"public\", \"victory\", \"bag\", \"lap\", \"mixed\", \"willing\", \"scatter\", \"grace\", \"retain\", \"introduction\", \"newcomer\", \"charisma\", \"instrumentation\", \"alternative\", \"diagram\", \"champion\", \"search\", \"freeway\", \"review\", \"adventure\", \"consistently\", \"explore\", \"start\", \"solid\", \"intent\", \"future\", \"return\", \"result\", \"draw\", \"journey\", \"time\", \"form\", \"energy\", \"spend\", \"fascinating\", \"debut\", \"new\", \"prove\", \"strong\", \"date\", \"great\", \"take\", \"create\", \"first\", \"mixtape\", \"hiphop\", \"well\", \"find\", \"less\", \"sound\", \"production\", \"year\", \"make\", \"release\", \"may\", \"track\", \"come\", \"feel\", \"record\", \"rap\", \"artist\", \"work\", \"good\", \"still\", \"much\", \"surprise\", \"beautiful\", \"third\", \"confident\", \"weird\", \"share\", \"watch\", \"pack\", \"fish\", \"bass\", \"ease\", \"clarity\", \"amount\", \"hardcore\", \"theory\", \"genius\", \"throne\", \"smoke\", \"achievement\", \"core\", \"white\", \"sing\", \"forgettable\", \"utterly\", \"undeniable\", \"swagger\", \"list\", \"dance\", \"importantly\", \"player\", \"pop\", \"line\", \"cool\", \"range\", \"depth\", \"let\", \"stick\", \"dark\", \"mature\", \"hold\", \"side\", \"talent\", \"ever\", \"pleasure\", \"big\", \"love\", \"still\", \"even\", \"way\", \"may\", \"fun\", \"flow\", \"sound\", \"could\", \"rap\", \"also\", \"work\", \"get\", \"beat\", \"well\", \"fan\", \"play\", \"moment\", \"make\", \"record\", \"production\", \"hiphop\", \"feel\", \"come\", \"much\", \"track\", \"rapper\", \"good\"], \"Freq\": [1006.0, 175.0, 432.0, 189.0, 484.0, 121.0, 271.0, 111.0, 149.0, 146.0, 93.0, 87.0, 203.0, 261.0, 208.0, 85.0, 123.0, 184.0, 117.0, 91.0, 72.0, 202.0, 443.0, 72.0, 62.0, 167.0, 68.0, 109.0, 150.0, 107.0, 121.18590810743116, 83.9960530084074, 45.662305059986195, 37.98462832203286, 37.01954600840806, 34.143481276911636, 35.077093586254094, 33.158259713432194, 27.378939859983458, 28.289058994236612, 25.417961654414466, 29.143416350214203, 23.47509941955482, 22.518432293149, 21.57504495476893, 19.64166246680863, 20.571240160566155, 25.23302439971045, 29.89835292804627, 19.61385222567621, 19.59529478503368, 18.657342932107497, 19.590025520738102, 18.655869762466182, 69.89006941423426, 16.732215422465345, 16.72325762433679, 16.71853382129157, 16.71375661907763, 16.6908557102885, 65.22862618861804, 33.168913125365734, 49.06141297720132, 23.96603027030726, 26.610927549814406, 725.0915510264895, 72.99754083667271, 154.12349662549428, 32.329055120248356, 84.28887806963098, 81.5198692305302, 50.70768508758125, 77.2626210843285, 80.82631291016746, 76.99893210807889, 405.2649220834895, 59.106994698050855, 48.09319914357286, 213.42632476929913, 117.57575373644914, 221.67897055408008, 83.4998872068582, 255.4952358242609, 268.46093028911986, 63.002930604565734, 199.1859270625993, 112.12272821110638, 223.013257349072, 184.15197197961945, 131.05651653128533, 115.06840642443065, 102.42565887802782, 129.95480298964608, 95.99116091176415, 142.01073103042742, 188.23197743156578, 184.96743921480456, 191.91173718773229, 158.7606818031921, 194.12941913572797, 117.95921715771522, 125.3624692109291, 175.2506872793073, 130.17338263846824, 142.71283348264362, 132.8965755253461, 127.97290122646196, 122.50816110400419, 87.11437740135591, 36.00504993492687, 91.77108532578852, 33.104201692423715, 42.55178923366323, 30.208406995928023, 50.960847230828676, 31.130458649299488, 27.323663632260445, 24.418372388207388, 24.416680962345644, 34.74359094468341, 24.37700177592884, 21.539636323620236, 22.47370510823374, 20.546311287966002, 20.52330280901752, 19.562981162389978, 17.677186840059044, 17.671176934478073, 17.66859174751408, 16.70894665387247, 21.301633563240035, 15.741726514989399, 15.740846006119332, 16.65226550855096, 15.72245811545025, 14.786231490901265, 14.783221560291135, 13.817435597950075, 51.51946475537332, 44.08583117639674, 85.73258750415394, 168.87821541481057, 18.39803577598012, 128.50203422467456, 106.23499678026822, 124.65540273557036, 31.24402031591907, 25.75183816732383, 318.09562210215995, 85.48556948424726, 77.30323372514185, 37.89558362992431, 36.32276736041272, 164.352719433146, 220.08875790701765, 137.05352702160562, 170.2278615926734, 76.85790156244992, 244.34116564593512, 172.85382930490096, 103.54967724278673, 132.99415911444794, 74.6224062108153, 242.9421122137003, 298.2711594185304, 149.46722233835754, 115.84704594841016, 267.91813071450025, 196.65712138954552, 190.72708256174985, 301.024570015199, 144.29415044609945, 199.55072308256916, 205.98005617335622, 166.75019070756682, 180.18241210354776, 181.82339026843295, 183.37672307761025, 130.2306423912535, 142.55980452814137, 170.9721959035001, 144.06436691935454, 128.39980200045588, 61.81974391726818, 71.05128047590048, 40.694921286817355, 42.5823503220665, 44.46277192569919, 39.729803507417216, 34.93473730529892, 43.39691520007865, 31.09778534881677, 29.160078099807517, 29.142584898241342, 26.243726530873115, 29.99087861085336, 24.348361315734014, 24.339841227937747, 23.391906223337145, 23.369680907043744, 23.365559013136796, 21.445207839907685, 21.369944408893925, 19.51037559880276, 18.572720013552114, 18.560641546876514, 18.558158155861925, 27.80889445371911, 35.18591464993192, 45.366291605536674, 28.69413197820328, 16.644624800311398, 16.640070815315962, 167.45638914807762, 105.5702155010274, 54.2237042916319, 42.62982128956287, 46.92448747074484, 103.21812455776019, 54.9932910389886, 73.19001173603688, 43.471981333567975, 70.1962220176744, 53.83274261299028, 116.90602560857825, 116.87340814074697, 45.5567172184642, 122.68714030946002, 140.81036039259155, 238.14618626337534, 199.3460452770181, 140.142514284315, 220.23780011588204, 105.52846503107092, 108.95444099295793, 235.21564051434868, 126.47053420564419, 224.82075464564036, 114.6976562961896, 175.3284308446407, 137.6339316069094, 161.76180065815137, 194.83744878413765, 120.18665211180911, 84.17549507352018, 119.28405491704088, 195.69630594884686, 156.08579490290558, 140.17159220355114, 149.92355365424393, 146.12724946703156, 133.8090695046173, 131.77907923392866, 149.7379258108988, 121.0397834085472, 110.10269222157092], \"Total\": [1006.0, 175.0, 432.0, 189.0, 484.0, 121.0, 271.0, 111.0, 149.0, 146.0, 93.0, 87.0, 203.0, 261.0, 208.0, 85.0, 123.0, 184.0, 117.0, 91.0, 72.0, 202.0, 443.0, 72.0, 62.0, 167.0, 68.0, 109.0, 150.0, 107.0, 121.88680312839412, 85.12583598701362, 46.43137139938005, 38.69249581965216, 37.725226784408825, 34.823129670277055, 35.79046454728285, 33.855711598179774, 28.051562503808594, 29.01878023378806, 26.1167837015723, 29.985979195359903, 24.181947733830167, 23.214595301667156, 22.247297534184714, 20.3125651757672, 21.279869668287592, 26.115785698309896, 30.952188212857067, 20.312412975261253, 20.312483523028693, 19.345138814591053, 20.312450690586743, 19.345137068945288, 72.54089281315778, 17.410420518239974, 17.41035560805268, 17.41031999514649, 17.410374609404187, 17.410207167240003, 68.67604555692435, 34.8211317657337, 52.23127952300896, 25.147560856584327, 28.04771050166277, 1006.1664391515604, 84.10675070157559, 208.6966610234622, 35.78533750710392, 107.26407621278676, 104.38774687322902, 60.89440058823395, 103.44645602538925, 111.1907864703358, 109.25148896277517, 901.9857980475354, 78.32055060587852, 60.90037157940408, 443.47425232745894, 202.72943451175752, 479.79245740782824, 128.44107571482377, 611.2132178085159, 676.6584080123705, 87.93350859554504, 464.1819797999423, 201.8423783387686, 560.9224425204105, 432.90974190370156, 261.51430824476074, 218.18065446663394, 184.55157979602868, 271.1225576661206, 167.96584823385336, 319.6196618636533, 514.5416390021451, 502.85567458758663, 574.1222903704622, 418.93956303757665, 687.238027338396, 257.788040776247, 302.0785171421032, 678.3844585081563, 365.8135542832863, 562.5013566810948, 484.86324947135813, 428.5321614386461, 515.3738269719485, 87.86794716399109, 36.691897635716906, 93.6580703408711, 33.79522494704915, 43.451363266261524, 30.898316450808956, 52.14218384965836, 31.864043367122168, 28.00161439455699, 25.10485254151035, 25.10484067438524, 35.72678536488582, 25.10484286365297, 22.208078717270187, 23.173682752711244, 21.24254377053821, 21.242499795076746, 20.276876950564684, 18.34574132145039, 18.34571169254075, 18.34570815555916, 17.3801774679161, 22.20811881337897, 16.41453483499126, 16.41454265109013, 17.380295112483207, 16.414571197982987, 15.449000002971882, 15.449035572582398, 14.483388921562375, 54.075794386016966, 46.350444755752086, 91.74001989679377, 189.1929878033441, 19.311706230481324, 149.60295322928062, 123.54208546427, 146.8086532097874, 33.79741875335547, 27.996672297673637, 484.86324947135813, 109.03911287175454, 97.55973835854704, 43.46007961006508, 41.50558713587709, 251.064267951734, 358.1813919979296, 203.5310967163103, 264.4762004867826, 103.35028628293244, 432.90974190370156, 302.0172898200463, 158.27576655816515, 221.9044681198897, 105.30094729681917, 515.3738269719485, 687.238027338396, 277.98279326829834, 200.7013148015216, 678.3844585081563, 444.8901811702988, 443.47425232745894, 901.9857980475354, 298.30069495385555, 562.5013566810948, 611.2132178085159, 428.5321614386461, 514.5416390021451, 560.9224425204105, 676.6584080123705, 293.4351262711543, 502.85567458758663, 1006.1664391515604, 574.1222903704622, 418.93956303757665, 62.56730349612281, 72.1938347676202, 41.3915558844334, 43.31676075344096, 45.24207818032549, 40.429032643721655, 35.616302424182976, 44.2798886898247, 31.76614051758615, 29.8411507339197, 29.841212349053823, 26.95366983248573, 30.80409701413597, 25.02850560540463, 25.028552547344606, 24.065948273632817, 24.06602162408979, 24.066040051181613, 22.141007094856757, 22.141402366299754, 20.21596137530087, 19.253327939338913, 19.253416661309142, 19.253382552372234, 28.880593257615615, 36.5810909603909, 47.17229250558366, 29.842908762397222, 17.32830416683607, 17.328336658266387, 175.20525019152595, 111.67323139638326, 57.76880481480281, 45.251298950629156, 50.06212856813876, 117.49421310300639, 60.66435480372159, 82.82264436292407, 48.14222278870294, 91.53196214184776, 66.4771479573874, 179.31187251347578, 184.17930027656882, 55.86783857819418, 223.78882145800247, 271.1225576661206, 574.1222903704622, 464.1819797999423, 280.64100895528435, 562.5013566810948, 190.8900441058274, 202.5761760392753, 678.3844585081563, 261.51430824476074, 676.6584080123705, 234.43336919769584, 502.85567458758663, 339.62139870599964, 479.79245740782824, 687.238027338396, 302.0785171421032, 152.41889172846155, 307.83874065779474, 901.9857980475354, 560.9224425204105, 444.8901811702988, 515.3738269719485, 514.5416390021451, 428.5321614386461, 418.93956303757665, 611.2132178085159, 365.8135542832863, 1006.1664391515604], \"Category\": [\"Default\", \"Default\", \"Default\", \"Default\", \"Default\", \"Default\", \"Default\", \"Default\", \"Default\", \"Default\", \"Default\", \"Default\", \"Default\", \"Default\", \"Default\", \"Default\", \"Default\", \"Default\", \"Default\", \"Default\", \"Default\", \"Default\", \"Default\", \"Default\", \"Default\", \"Default\", \"Default\", \"Default\", \"Default\", \"Default\", \"Topic1\", \"Topic1\", \"Topic1\", \"Topic1\", \"Topic1\", \"Topic1\", \"Topic1\", \"Topic1\", \"Topic1\", \"Topic1\", \"Topic1\", \"Topic1\", \"Topic1\", \"Topic1\", \"Topic1\", \"Topic1\", \"Topic1\", \"Topic1\", \"Topic1\", \"Topic1\", \"Topic1\", \"Topic1\", \"Topic1\", \"Topic1\", \"Topic1\", \"Topic1\", \"Topic1\", \"Topic1\", \"Topic1\", \"Topic1\", \"Topic1\", \"Topic1\", \"Topic1\", \"Topic1\", \"Topic1\", \"Topic1\", \"Topic1\", \"Topic1\", \"Topic1\", \"Topic1\", \"Topic1\", \"Topic1\", \"Topic1\", \"Topic1\", \"Topic1\", \"Topic1\", \"Topic1\", \"Topic1\", \"Topic1\", \"Topic1\", \"Topic1\", \"Topic1\", \"Topic1\", \"Topic1\", \"Topic1\", \"Topic1\", \"Topic1\", \"Topic1\", \"Topic1\", \"Topic1\", \"Topic1\", \"Topic1\", \"Topic1\", \"Topic1\", \"Topic1\", \"Topic1\", \"Topic1\", \"Topic1\", \"Topic1\", \"Topic1\", \"Topic1\", \"Topic1\", \"Topic1\", \"Topic1\", \"Topic1\", \"Topic1\", \"Topic1\", \"Topic1\", \"Topic2\", \"Topic2\", \"Topic2\", \"Topic2\", \"Topic2\", \"Topic2\", \"Topic2\", \"Topic2\", \"Topic2\", \"Topic2\", \"Topic2\", \"Topic2\", \"Topic2\", \"Topic2\", \"Topic2\", \"Topic2\", \"Topic2\", \"Topic2\", \"Topic2\", \"Topic2\", \"Topic2\", \"Topic2\", \"Topic2\", \"Topic2\", \"Topic2\", \"Topic2\", \"Topic2\", \"Topic2\", \"Topic2\", \"Topic2\", \"Topic2\", \"Topic2\", \"Topic2\", \"Topic2\", \"Topic2\", \"Topic2\", \"Topic2\", \"Topic2\", \"Topic2\", \"Topic2\", \"Topic2\", \"Topic2\", \"Topic2\", \"Topic2\", \"Topic2\", \"Topic2\", \"Topic2\", \"Topic2\", \"Topic2\", \"Topic2\", \"Topic2\", \"Topic2\", \"Topic2\", \"Topic2\", \"Topic2\", \"Topic2\", \"Topic2\", \"Topic2\", \"Topic2\", \"Topic2\", \"Topic2\", \"Topic2\", \"Topic2\", \"Topic2\", \"Topic2\", \"Topic2\", \"Topic2\", \"Topic2\", \"Topic2\", \"Topic2\", \"Topic2\", \"Topic2\", \"Topic2\", \"Topic2\", \"Topic2\", \"Topic3\", \"Topic3\", \"Topic3\", \"Topic3\", \"Topic3\", \"Topic3\", \"Topic3\", \"Topic3\", \"Topic3\", \"Topic3\", \"Topic3\", \"Topic3\", \"Topic3\", \"Topic3\", \"Topic3\", \"Topic3\", \"Topic3\", \"Topic3\", \"Topic3\", \"Topic3\", \"Topic3\", \"Topic3\", \"Topic3\", \"Topic3\", \"Topic3\", \"Topic3\", \"Topic3\", \"Topic3\", \"Topic3\", \"Topic3\", \"Topic3\", \"Topic3\", \"Topic3\", \"Topic3\", \"Topic3\", \"Topic3\", \"Topic3\", \"Topic3\", \"Topic3\", \"Topic3\", \"Topic3\", \"Topic3\", \"Topic3\", \"Topic3\", \"Topic3\", \"Topic3\", \"Topic3\", \"Topic3\", \"Topic3\", \"Topic3\", \"Topic3\", \"Topic3\", \"Topic3\", \"Topic3\", \"Topic3\", \"Topic3\", \"Topic3\", \"Topic3\", \"Topic3\", \"Topic3\", \"Topic3\", \"Topic3\", \"Topic3\", \"Topic3\", \"Topic3\", \"Topic3\", \"Topic3\", \"Topic3\", \"Topic3\", \"Topic3\", \"Topic3\", \"Topic3\", \"Topic3\"], \"logprob\": [30.0, 29.0, 28.0, 27.0, 26.0, 25.0, 24.0, 23.0, 22.0, 21.0, 20.0, 19.0, 18.0, 17.0, 16.0, 15.0, 14.0, 13.0, 12.0, 11.0, 10.0, 9.0, 8.0, 7.0, 6.0, 5.0, 4.0, 3.0, 2.0, 1.0, -5.5559, -5.9225, -6.532, -6.7161, -6.7418, -6.8227, -6.7957, -6.8519, -7.0435, -7.0108, -7.1178, -6.981, -7.1973, -7.2389, -7.2817, -7.3756, -7.3293, -7.1251, -6.9554, -7.377, -7.378, -7.427, -7.3782, -7.4271, -6.1063, -7.5359, -7.5364, -7.5367, -7.537, -7.5384, -6.1753, -6.8516, -6.4602, -7.1766, -7.0719, -3.7669, -6.0628, -5.3155, -6.8773, -5.919, -5.9524, -6.4272, -6.006, -5.9609, -6.0094, -4.3487, -6.2739, -6.4801, -4.9899, -5.5862, -4.952, -5.9284, -4.81, -4.7605, -6.2101, -5.059, -5.6336, -4.946, -5.1375, -5.4776, -5.6077, -5.7241, -5.4861, -5.789, -5.3973, -5.1156, -5.1331, -5.0962, -5.2858, -5.0847, -5.5829, -5.522, -5.187, -5.4844, -5.3924, -5.4637, -5.5014, -5.5451, -5.8846, -6.7681, -5.8325, -6.8521, -6.6011, -6.9437, -6.4207, -6.9136, -7.044, -7.1564, -7.1565, -6.8038, -7.1581, -7.2819, -7.2394, -7.3291, -7.3302, -7.3781, -7.4795, -7.4798, -7.48, -7.5358, -7.293, -7.5955, -7.5955, -7.5392, -7.5967, -7.6581, -7.6583, -7.7258, -6.4098, -6.5656, -5.9005, -5.2226, -7.4395, -5.4958, -5.6861, -5.5262, -6.9099, -7.1033, -4.5894, -5.9034, -6.004, -6.7169, -6.7593, -5.2498, -4.9577, -5.4314, -5.2146, -6.0098, -4.8532, -5.1993, -5.7117, -5.4615, -6.0393, -4.8589, -4.6538, -5.3447, -5.5995, -4.7611, -5.0703, -5.1009, -4.6446, -5.3799, -5.0557, -5.024, -5.2353, -5.1578, -5.1487, -5.1402, -5.4825, -5.392, -5.2103, -5.3815, -5.4966, -6.1963, -6.0571, -6.6144, -6.5691, -6.5259, -6.6384, -6.767, -6.5501, -6.8834, -6.9477, -6.9483, -7.0531, -6.9196, -7.1281, -7.1284, -7.1681, -7.1691, -7.1693, -7.255, -7.2585, -7.3496, -7.3988, -7.3995, -7.3996, -6.9952, -6.7599, -6.5058, -6.9638, -7.5084, -7.5087, -5.1998, -5.6611, -6.3274, -6.568, -6.472, -5.6837, -6.3133, -6.0275, -6.5484, -6.0692, -6.3346, -5.5591, -5.5594, -6.5016, -5.5109, -5.3731, -4.8476, -5.0255, -5.3779, -4.9258, -5.6615, -5.6296, -4.86, -5.4805, -4.9052, -5.5782, -5.1539, -5.3959, -5.2344, -5.0484, -5.5315, -5.8876, -5.539, -5.044, -5.2701, -5.3777, -5.3104, -5.336, -5.4241, -5.4394, -5.3116, -5.5244, -5.6191], \"loglift\": [30.0, 29.0, 28.0, 27.0, 26.0, 25.0, 24.0, 23.0, 22.0, 21.0, 20.0, 19.0, 18.0, 17.0, 16.0, 15.0, 14.0, 13.0, 12.0, 11.0, 10.0, 9.0, 8.0, 7.0, 6.0, 5.0, 4.0, 3.0, 2.0, 1.0, 1.0816, 1.074, 1.0706, 1.0689, 1.0684, 1.0676, 1.0672, 1.0665, 1.0631, 1.0619, 1.0602, 1.0588, 1.0577, 1.0569, 1.0566, 1.0537, 1.0535, 1.0529, 1.0527, 1.0523, 1.0514, 1.0511, 1.0511, 1.051, 1.0501, 1.0476, 1.0471, 1.0468, 1.0465, 1.0451, 1.0358, 1.0387, 1.0247, 1.0392, 1.0347, 0.7597, 0.9457, 0.7842, 0.9858, 0.8463, 0.8401, 0.9043, 0.7955, 0.7684, 0.7375, 0.2873, 0.8059, 0.8512, 0.356, 0.5425, 0.3152, 0.6567, 0.2151, 0.1629, 0.7539, 0.2413, 0.4994, 0.165, 0.2326, 0.3965, 0.4475, 0.4985, 0.3519, 0.5278, 0.2761, 0.0817, 0.0872, -0.0085, 0.117, -0.1768, 0.3055, 0.2079, -0.2662, 0.0541, -0.2842, -0.207, -0.1212, -0.3494, 1.0802, 1.0699, 1.0684, 1.0681, 1.0679, 1.0662, 1.0659, 1.0655, 1.0643, 1.0611, 1.061, 1.0609, 1.0594, 1.0582, 1.0581, 1.0555, 1.0544, 1.053, 1.0517, 1.0513, 1.0512, 1.0494, 1.0471, 1.0469, 1.0469, 1.046, 1.0457, 1.0449, 1.0447, 1.0417, 1.0404, 1.0387, 1.0211, 0.9752, 1.0403, 0.9368, 0.9379, 0.9252, 1.0102, 1.0052, 0.6673, 0.8454, 0.8561, 0.9518, 0.9554, 0.6651, 0.6018, 0.6933, 0.6482, 0.7926, 0.5168, 0.5308, 0.6645, 0.5769, 0.7444, 0.3367, 0.2541, 0.4683, 0.5393, 0.1598, 0.2724, 0.245, -0.0086, 0.3625, 0.0525, 0.0011, 0.1449, 0.0395, -0.0377, -0.2168, 0.2764, -0.1717, -0.6836, -0.2938, -0.0938, 1.108, 1.1041, 1.1031, 1.103, 1.1027, 1.1026, 1.1007, 1.0999, 1.0988, 1.097, 1.0964, 1.0934, 1.0933, 1.0925, 1.0921, 1.0916, 1.0907, 1.0905, 1.0881, 1.0846, 1.0845, 1.0841, 1.0834, 1.0833, 1.0822, 1.0812, 1.081, 1.0808, 1.0798, 1.0795, 1.0748, 1.0638, 1.0567, 1.0604, 1.0553, 0.9905, 1.0219, 0.9964, 1.018, 0.8547, 0.9091, 0.6923, 0.6652, 0.916, 0.519, 0.4649, 0.2401, 0.2748, 0.4256, 0.1824, 0.5273, 0.4999, 0.0608, 0.3936, 0.0182, 0.4052, 0.0664, 0.2168, 0.0328, -0.1405, 0.1984, 0.5263, 0.172, -0.408, -0.1591, -0.0349, -0.1147, -0.1387, -0.0439, -0.0365, -0.2865, 0.014, -1.0924]}, \"token.table\": {\"Topic\": [1, 3, 2, 1, 2, 3, 2, 3, 1, 2, 1, 1, 2, 3, 1, 2, 1, 2, 2, 3, 1, 2, 3, 2, 3, 1, 2, 3, 1, 2, 3, 2, 2, 1, 1, 2, 1, 2, 3, 2, 3, 1, 2, 3, 3, 1, 3, 1, 2, 1, 3, 3, 1, 2, 3, 1, 2, 3, 1, 2, 3, 1, 2, 3, 1, 2, 3, 1, 2, 3, 1, 2, 3, 2, 3, 2, 1, 1, 1, 2, 3, 3, 1, 1, 1, 3, 1, 2, 1, 3, 1, 2, 3, 1, 2, 3, 1, 3, 2, 1, 2, 1, 2, 3, 2, 3, 1, 2, 3, 1, 2, 3, 2, 1, 2, 3, 3, 1, 1, 2, 3, 3, 2, 3, 2, 1, 3, 1, 2, 3, 1, 2, 3, 1, 1, 3, 1, 2, 3, 1, 2, 3, 2, 1, 2, 3, 3, 1, 3, 1, 2, 3, 1, 2, 3, 1, 2, 3, 2, 1, 1, 2, 2, 2, 3, 1, 2, 1, 3, 1, 1, 2, 3, 1, 2, 3, 2, 3, 1, 3, 1, 1, 2, 3, 1, 1, 1, 3, 1, 2, 1, 2, 3, 1, 2, 1, 2, 3, 1, 2, 3, 1, 3, 2, 1, 2, 3, 1, 2, 1, 2, 3, 2, 1, 2, 3, 1, 2, 3, 1, 2, 3, 2, 1, 1, 2, 1, 3, 2, 3, 1, 1, 2, 3, 3, 1, 2, 3, 1, 2, 3, 2, 3, 1, 1, 3, 1, 2, 3, 1, 2, 3, 1, 2, 3, 1, 2, 3, 2, 1, 2, 3, 1, 3, 1, 2, 3, 1, 2, 3, 1, 2, 3, 1, 2, 3, 1, 2, 3, 1, 2, 2, 2, 3, 2, 1, 2, 3, 2, 2, 3, 1, 3, 3, 3, 2, 3, 1, 2, 3, 1, 2, 1, 2, 1, 2, 3, 1, 2, 3, 1, 2, 3, 1, 1, 2, 3, 2, 2, 1, 3, 2, 3, 1, 2, 3, 1, 2, 3, 1, 3, 1, 2, 3, 3, 1, 2, 3, 1, 2, 3, 1, 2, 1, 2, 3, 1, 3, 3, 1, 2, 1, 2, 3, 3, 1, 2, 3, 3, 1, 2, 3, 3, 2, 1, 2, 3, 1, 2, 3], \"Freq\": [0.9779141020581454, 0.9484663416633019, 0.9666245984154495, 0.37110757865973243, 0.14076494362955366, 0.49054450052723253, 0.9747458676618975, 0.9738964263822774, 0.9381351643590214, 0.05743684679749111, 0.9846122253362618, 0.2828563882406576, 0.44302807796729504, 0.2760405716565454, 0.946472667039669, 0.043683353863369336, 0.9867744501541769, 0.01174731488278782, 0.9559908472778146, 0.9718123894946321, 0.46270006243824263, 0.20008651348680764, 0.3376459915089879, 0.01385159831471526, 0.9834634803447835, 0.9543669120385541, 0.03976528800160642, 0.03976528800160642, 0.3932278628873096, 0.058090479744716185, 0.5496253083538531, 0.9764693104337929, 0.9901221413267889, 0.9764267314617704, 0.984616183310405, 0.9781191797940149, 0.7881725308919648, 0.0985215663614956, 0.0985215663614956, 0.978125800578394, 0.9646181822952983, 0.29869403400268724, 0.389702372487881, 0.31269531684656315, 0.9926873397749207, 0.8375154284687096, 0.16421871146445288, 0.03698512472554937, 0.9616132428642836, 0.05193114189600255, 0.9347605541280458, 0.948449409508179, 0.5009286141138876, 0.015295530201950765, 0.4818092013614491, 0.7855328087460568, 0.07663734719473725, 0.14369502599013234, 0.12004364542450435, 0.657081006534129, 0.2274511176464293, 0.9764293061688332, 0.03350879795135868, 0.9717551405894017, 0.09659194126843451, 0.024147985317108628, 0.881401464074465, 0.22254413439199427, 0.7450390586166765, 0.02902749579026012, 0.22703350207906925, 0.6532191989643396, 0.11949131688372065, 0.05992553824228125, 0.9388334324624062, 0.9747454035179836, 0.9648923826025657, 0.9747247493026914, 0.059176116809258876, 0.9172298105435126, 0.029588058404629438, 0.9718103829290134, 0.9821588866381908, 0.9907560179758229, 0.8679445988707357, 0.13078617243257662, 0.20500259980707333, 0.7892600092572324, 0.9649729591872779, 0.027570655976779365, 0.4442780496419393, 0.3066144286261271, 0.24716877409657187, 0.42871117074766013, 0.14218561441882197, 0.42871117074766013, 0.36377595038851224, 0.6352505402306856, 0.9811430402813673, 0.04314953201720465, 0.9492897043785022, 0.4137997007618974, 0.18869266354742523, 0.3972477127314215, 0.8673531079598171, 0.12046570943886349, 0.3653737341152603, 0.3498259156422705, 0.28374768713206383, 0.21584069752867868, 0.5360043988628854, 0.2446194571991692, 0.9728834361299639, 0.090128874688519, 0.5993570166786514, 0.31094461767539056, 0.9758818507661638, 0.9511227239906469, 0.3998495853939694, 0.06417339024841485, 0.538069195159786, 0.9868378342521201, 0.7795367897019857, 0.21093348427230202, 0.9709366300158256, 0.957275430607393, 0.03829101722429572, 0.11001097568167476, 0.33527154493462785, 0.5552934962979773, 0.0066843600237450245, 0.8622824430631082, 0.13368720047490049, 0.9764386969494613, 0.9807760788675086, 0.9557071983404579, 0.27383433539329893, 0.32094561890182344, 0.4063348202610242, 0.7205567307644934, 0.1699520013251426, 0.10932584880564727, 0.9863451876124851, 0.42503086022242903, 0.5636278798601776, 0.00923980130918324, 0.9589066314377741, 0.9692368046385315, 0.032307893487951045, 0.23866171226171878, 0.4715024071512005, 0.29105086861185214, 0.14202689088925904, 0.08740116362415941, 0.7647601817113948, 0.7284776245521899, 0.2698065276119222, 0.9810538778823841, 0.945600128334546, 0.9821025807464083, 0.051782063586987157, 0.9320771445657688, 0.9811557219292117, 0.9286817991636974, 0.07143706147413058, 0.98684814932374, 0.9906304944286615, 0.5048677621687302, 0.49822476529808896, 0.9846196030160599, 0.12954573828134625, 0.5779732938706217, 0.29396917533074723, 0.09362163215950367, 0.025533172407137365, 0.8766389193117161, 0.05372818467751728, 0.9491979293028052, 0.0211988849149452, 0.953949821172534, 0.9763625590786681, 0.45774039650823367, 0.24826597776717757, 0.2948158485985234, 0.9821589752651928, 0.9927243712556808, 0.4794879523086056, 0.5200600098116415, 0.019178329831433635, 0.9780948214031154, 0.4490092869274381, 0.33370813670409594, 0.21729832157476014, 0.7533144180369389, 0.24259277868986168, 0.020771787052480263, 0.08308714820992105, 0.8931868432566513, 0.25422160907084285, 0.3555546980011788, 0.39111016780129665, 0.962645418006555, 0.03565353400024278, 0.9493527737806833, 0.28489772191162627, 0.7122443047790656, 0.009496590730387541, 0.023014237640190803, 0.9896122185282046, 0.3443361279788811, 0.26962168511553897, 0.38656603046685706, 0.9642301197193942, 0.3795296840602723, 0.30553333056424437, 0.315081247144377, 0.7379130995425314, 0.028749861021137586, 0.23479053167262362, 0.21497487507794677, 0.6142139287941336, 0.17030477116564613, 0.9811559110922409, 0.9907094839894002, 0.8942209918698553, 0.08383321798779893, 0.9572388501458139, 0.9710954853841172, 0.982296556667925, 0.010677136485520924, 0.9846177748147573, 0.4395780551886071, 0.0065608664953523445, 0.551112785609597, 0.9810520383611224, 0.08949692931116103, 0.10739631517339324, 0.8233717496626816, 0.5526910152312601, 0.3359494406307659, 0.10837078730024707, 0.03995314062990656, 0.9531677835991994, 0.9625132288561173, 0.7831140020575361, 0.2144240719919444, 0.7164504294918099, 0.10235006135597284, 0.1819556646328406, 0.24275653761542304, 0.4428059065762809, 0.3146844006125854, 0.5548884279000182, 0.1734026337187557, 0.2675354920232231, 0.0049132541225080685, 0.6731158147836054, 0.32427477208553257, 0.9559909306450002, 0.7047958863630308, 0.29290218654048034, 0.00915319332939001, 0.044197626286531004, 0.9502489651604166, 0.39606394722446203, 0.2704466505301364, 0.3325163736026267, 0.3553722886367625, 0.3143677937940591, 0.33076959173114046, 0.5715447575172683, 0.011907182448276422, 0.41675138568967474, 0.3975594183716149, 0.32446553427638525, 0.2781133150940445, 0.2815950529816702, 0.48273437654000606, 0.23466254415139184, 0.14985492693378452, 0.8514484484874121, 0.9811541373339796, 0.8580072094594566, 0.13760492981896946, 0.9709343945469769, 0.5820565735024357, 0.014798048478875482, 0.40447999175592986, 0.9885842157271457, 0.9747437083197197, 0.989388006200829, 0.18051315931441786, 0.8123092169148803, 0.9868423817359229, 0.9557035536833459, 0.8932677789076748, 0.10571216318434022, 0.2579658154092219, 0.3950562201695513, 0.34641123783524086, 0.11504810954929846, 0.8743656325746684, 0.0654022094910151, 0.9374316693712165, 0.06593657862087098, 0.03296828931043549, 0.9066279560369759, 0.3344235247792047, 0.2508176435844035, 0.4145458275908891, 0.7443464276930047, 0.21267040791228708, 0.038667346893143106, 0.9764303718263583, 0.1550234006861007, 0.64277995406432, 0.20417716187925458, 0.9709266861759571, 0.9559904787457525, 0.9764323691201037, 0.9909329080138803, 0.027336527526824587, 0.9567784634388605, 0.13244274863811129, 0.5728148878598314, 0.2979961844357504, 0.2565362759041121, 0.09480688457325882, 0.6524944408865461, 0.9888841539605104, 0.9589048329743012, 0.5270861446498538, 0.10541722892997077, 0.3666686223651157, 0.9905401989351007, 0.9671186593929046, 0.03334891928941051, 0.9557042854551949, 0.2743041468806074, 0.6558550278799484, 0.07012286461609513, 0.9477003855593856, 0.028718193501799563, 0.4172030194541502, 0.3370345961080586, 0.24541354085538247, 0.03462532750210409, 0.9695091700589146, 0.9868395825157998, 0.02799020370253779, 0.9796571295888227, 0.6462107198812624, 0.015571342647741264, 0.33478386692643713, 0.9826960582027034, 0.19241664003782155, 0.30644131561578986, 0.4988579556536114, 0.9725459521250366, 0.2822893848749065, 0.43361977676660896, 0.28374448479694214, 0.9893172839375957, 0.988582169199783, 0.36789880148359944, 0.2843758303359714, 0.34801237978178323, 0.48029845900212936, 0.4306901674620033, 0.08794197136658706], \"Term\": [\"accomplish\", \"achievement\", \"adventure\", \"also\", \"also\", \"also\", \"alternative\", \"amount\", \"appreciate\", \"appreciate\", \"arguably\", \"artist\", \"artist\", \"artist\", \"away\", \"away\", \"bad\", \"bad\", \"bag\", \"bass\", \"beat\", \"beat\", \"beat\", \"beautiful\", \"beautiful\", \"benefit\", \"benefit\", \"benefit\", \"big\", \"big\", \"big\", \"blueprint\", \"brilliant\", \"bump\", \"butterfly\", \"champion\", \"chance\", \"chance\", \"chance\", \"charisma\", \"clarity\", \"come\", \"come\", \"come\", \"confident\", \"consistent\", \"consistent\", \"consistently\", \"consistently\", \"cool\", \"cool\", \"core\", \"could\", \"could\", \"could\", \"craft\", \"craft\", \"craft\", \"create\", \"create\", \"create\", \"crossover\", \"dance\", \"dance\", \"dark\", \"dark\", \"dark\", \"date\", \"date\", \"date\", \"debut\", \"debut\", \"debut\", \"depth\", \"depth\", \"diagram\", \"disappoint\", \"diverse\", \"draw\", \"draw\", \"draw\", \"ease\", \"effectively\", \"elevate\", \"else\", \"else\", \"energy\", \"energy\", \"enjoy\", \"enjoy\", \"enough\", \"enough\", \"enough\", \"even\", \"even\", \"even\", \"ever\", \"ever\", \"experimental\", \"explore\", \"explore\", \"fan\", \"fan\", \"fan\", \"fascinating\", \"fascinating\", \"feel\", \"feel\", \"feel\", \"find\", \"find\", \"find\", \"finish\", \"first\", \"first\", \"first\", \"fish\", \"flawless\", \"flow\", \"flow\", \"flow\", \"forgettable\", \"form\", \"form\", \"freeway\", \"front\", \"front\", \"fun\", \"fun\", \"fun\", \"future\", \"future\", \"future\", \"gain\", \"gangster\", \"genius\", \"get\", \"get\", \"get\", \"good\", \"good\", \"good\", \"grace\", \"great\", \"great\", \"great\", \"hardcore\", \"hero\", \"hero\", \"hiphop\", \"hiphop\", \"hiphop\", \"hold\", \"hold\", \"hold\", \"idea\", \"idea\", \"importantly\", \"instrumentation\", \"intelligent\", \"intent\", \"intent\", \"introduction\", \"journey\", \"journey\", \"king\", \"lap\", \"last\", \"last\", \"legend\", \"less\", \"less\", \"less\", \"let\", \"let\", \"let\", \"line\", \"line\", \"list\", \"list\", \"listening\", \"little\", \"little\", \"little\", \"loop\", \"lot\", \"love\", \"love\", \"lyrically\", \"lyrically\", \"make\", \"make\", \"make\", \"matter\", \"matter\", \"mature\", \"mature\", \"mature\", \"may\", \"may\", \"may\", \"memory\", \"memory\", \"mixed\", \"mixtape\", \"mixtape\", \"mixtape\", \"modern\", \"modern\", \"moment\", \"moment\", \"moment\", \"month\", \"much\", \"much\", \"much\", \"never\", \"never\", \"never\", \"new\", \"new\", \"new\", \"newcomer\", \"none\", \"occasional\", \"occasional\", \"opportunity\", \"pack\", \"party\", \"party\", \"pimp\", \"play\", \"play\", \"play\", \"player\", \"pleasure\", \"pleasure\", \"pleasure\", \"point\", \"point\", \"point\", \"pop\", \"pop\", \"popular\", \"pretty\", \"pretty\", \"produce\", \"produce\", \"produce\", \"production\", \"production\", \"production\", \"project\", \"project\", \"project\", \"prove\", \"prove\", \"prove\", \"public\", \"quality\", \"quality\", \"quality\", \"range\", \"range\", \"rap\", \"rap\", \"rap\", \"rapper\", \"rapper\", \"rapper\", \"really\", \"really\", \"really\", \"record\", \"record\", \"record\", \"release\", \"release\", \"release\", \"result\", \"result\", \"retain\", \"return\", \"return\", \"review\", \"rhyme\", \"rhyme\", \"rhyme\", \"scatter\", \"search\", \"share\", \"side\", \"side\", \"sing\", \"smoke\", \"solid\", \"solid\", \"sound\", \"sound\", \"sound\", \"spend\", \"spend\", \"start\", \"start\", \"stick\", \"stick\", \"stick\", \"still\", \"still\", \"still\", \"story\", \"story\", \"story\", \"straightforward\", \"strong\", \"strong\", \"strong\", \"stunning\", \"subtle\", \"suffer\", \"surprise\", \"swagger\", \"swagger\", \"take\", \"take\", \"take\", \"talent\", \"talent\", \"talent\", \"technical\", \"theory\", \"thing\", \"thing\", \"thing\", \"third\", \"though\", \"though\", \"throne\", \"time\", \"time\", \"time\", \"tone\", \"tone\", \"track\", \"track\", \"track\", \"undeniable\", \"undeniable\", \"utterly\", \"victory\", \"victory\", \"want\", \"want\", \"want\", \"watch\", \"way\", \"way\", \"way\", \"weird\", \"well\", \"well\", \"well\", \"white\", \"willing\", \"work\", \"work\", \"work\", \"year\", \"year\", \"year\"]}, \"R\": 30, \"lambda.step\": 0.01, \"plot.opts\": {\"xlab\": \"PC1\", \"ylab\": \"PC2\"}, \"topic.order\": [1, 2, 3]};\n",
       "\n",
       "function LDAvis_load_lib(url, callback){\n",
       "  var s = document.createElement('script');\n",
       "  s.src = url;\n",
       "  s.async = true;\n",
       "  s.onreadystatechange = s.onload = callback;\n",
       "  s.onerror = function(){console.warn(\"failed to load library \" + url);};\n",
       "  document.getElementsByTagName(\"head\")[0].appendChild(s);\n",
       "}\n",
       "\n",
       "if(typeof(LDAvis) !== \"undefined\"){\n",
       "   // already loaded: just create the visualization\n",
       "   !function(LDAvis){\n",
       "       new LDAvis(\"#\" + \"ldavis_el252121403515943721761587338039\", ldavis_el252121403515943721761587338039_data);\n",
       "   }(LDAvis);\n",
       "}else if(typeof define === \"function\" && define.amd){\n",
       "   // require.js is available: use it to load d3/LDAvis\n",
       "   require.config({paths: {d3: \"https://cdnjs.cloudflare.com/ajax/libs/d3/3.5.5/d3.min\"}});\n",
       "   require([\"d3\"], function(d3){\n",
       "      window.d3 = d3;\n",
       "      LDAvis_load_lib(\"https://cdn.rawgit.com/bmabey/pyLDAvis/files/ldavis.v1.0.0.js\", function(){\n",
       "        new LDAvis(\"#\" + \"ldavis_el252121403515943721761587338039\", ldavis_el252121403515943721761587338039_data);\n",
       "      });\n",
       "    });\n",
       "}else{\n",
       "    // require.js not available: dynamically load d3 & LDAvis\n",
       "    LDAvis_load_lib(\"https://cdnjs.cloudflare.com/ajax/libs/d3/3.5.5/d3.min.js\", function(){\n",
       "         LDAvis_load_lib(\"https://cdn.rawgit.com/bmabey/pyLDAvis/files/ldavis.v1.0.0.js\", function(){\n",
       "                 new LDAvis(\"#\" + \"ldavis_el252121403515943721761587338039\", ldavis_el252121403515943721761587338039_data);\n",
       "            })\n",
       "         });\n",
       "}\n",
       "</script>"
      ],
      "text/plain": [
       "PreparedData(topic_coordinates=                 x            y  topics  cluster       Freq\n",
       "topic                                                      \n",
       "0     -1015.700562  1338.981201       1        1  33.711545\n",
       "1      -387.996002  -373.316162       2        1  33.662113\n",
       "2     -2184.745605   -60.565800       3        1  32.626342, topic_info=        Term         Freq        Total Category  logprob  loglift\n",
       "1306    good  1006.000000  1006.000000  Default  30.0000  30.0000\n",
       "2183     pop   175.000000   175.000000  Default  29.0000  29.0000\n",
       "1328   great   432.000000   432.000000  Default  28.0000  28.0000\n",
       "2732   solid   189.000000   189.000000  Default  27.0000  27.0000\n",
       "3042    time   484.000000   484.000000  Default  26.0000  26.0000\n",
       "...      ...          ...          ...      ...      ...      ...\n",
       "532     come   133.809070   428.532161   Topic3  -5.4241  -0.0439\n",
       "1900    much   131.779079   418.939563   Topic3  -5.4394  -0.0365\n",
       "3069   track   149.737926   611.213218   Topic3  -5.3116  -0.2865\n",
       "2331  rapper   121.039783   365.813554   Topic3  -5.5244   0.0140\n",
       "1306    good   110.102692  1006.166439   Topic3  -5.6191  -1.0924\n",
       "\n",
       "[256 rows x 6 columns], token_table=      Topic      Freq         Term\n",
       "term                              \n",
       "19        1  0.977914   accomplish\n",
       "23        3  0.948466  achievement\n",
       "47        2  0.966625    adventure\n",
       "79        1  0.371108         also\n",
       "79        2  0.140765         also\n",
       "...     ...       ...          ...\n",
       "3328      2  0.284376         work\n",
       "3328      3  0.348012         work\n",
       "3345      1  0.480298         year\n",
       "3345      2  0.430690         year\n",
       "3345      3  0.087942         year\n",
       "\n",
       "[370 rows x 3 columns], R=30, lambda_step=0.01, plot_opts={'xlab': 'PC1', 'ylab': 'PC2'}, topic_order=[1, 2, 3])"
      ]
     },
     "execution_count": 147,
     "metadata": {},
     "output_type": "execute_result"
    }
   ],
   "source": [
    "panel3 = pyLDAvis.sklearn.prepare(best_lda_model3, tv5, vectorizer3, mds='tsne')\n",
    "panel3"
   ]
  },
  {
   "cell_type": "markdown",
   "metadata": {},
   "source": [
    "Negative Critic Reviews"
   ]
  },
  {
   "cell_type": "code",
   "execution_count": 69,
   "metadata": {},
   "outputs": [
    {
     "name": "stdout",
     "output_type": "stream",
     "text": [
      "hardly dry academic palpable anger course track latter feature feel cleanse acid bath fury sensation group articulates emotionally complex far\n"
     ]
    }
   ],
   "source": [
    "lemma_review4 = lemmatization(processed_rapc_neg, allowed_postags=['NOUN', 'ADJ', 'VERB', 'ADV'])\n",
    "\n",
    "print(lemma_review4[8])"
   ]
  },
  {
   "cell_type": "code",
   "execution_count": 106,
   "metadata": {},
   "outputs": [],
   "source": [
    "# Storing the entire training text in a list\n",
    "text5 = lemma_review4\n",
    "\n",
    "vectorizer4 = CountVectorizer(analyzer='word',       \n",
    "                             min_df=5,                         \n",
    "                             stop_words=stopwords_list,             \n",
    "                             lowercase=True,                   \n",
    "                             token_pattern='[a-zA-Z0-9]{3,}',)\n",
    "# Calling our overwritten Count vectorizer\n",
    "\n",
    "tv6 = vectorizer4.fit_transform(text5)"
   ]
  },
  {
   "cell_type": "code",
   "execution_count": 132,
   "metadata": {},
   "outputs": [
    {
     "name": "stdout",
     "output_type": "stream",
     "text": [
      "Fitting 5 folds for each of 12 candidates, totalling 60 fits\n"
     ]
    },
    {
     "name": "stderr",
     "output_type": "stream",
     "text": [
      "[Parallel(n_jobs=-1)]: Using backend LokyBackend with 8 concurrent workers.\n",
      "[Parallel(n_jobs=-1)]: Done  34 tasks      | elapsed:  1.6min\n",
      "[Parallel(n_jobs=-1)]: Done  60 out of  60 | elapsed:  2.4min finished\n"
     ]
    },
    {
     "data": {
      "text/plain": [
       "GridSearchCV(estimator=LatentDirichletAllocation(), n_jobs=-1,\n",
       "             param_grid={'learning_decay': [0.5, 0.7, 0.9, 1.0],\n",
       "                         'n_components': [3, 4, 5]},\n",
       "             verbose=1)"
      ]
     },
     "execution_count": 132,
     "metadata": {},
     "output_type": "execute_result"
    }
   ],
   "source": [
    "# Define Search Param\n",
    "\n",
    "lda_cv5 = LatentDirichletAllocation()\n",
    "\n",
    "# Init Grid Search Class\n",
    "model5 = GridSearchCV(lda_cv5, param_grid=search_params2, verbose = 1, n_jobs = -1)\n",
    "\n",
    "# Do the Grid Search\n",
    "model5.fit(tv6)"
   ]
  },
  {
   "cell_type": "code",
   "execution_count": 133,
   "metadata": {},
   "outputs": [
    {
     "name": "stdout",
     "output_type": "stream",
     "text": [
      "Best Model's Params:  {'learning_decay': 0.7, 'n_components': 3}\n",
      "Best Log Likelihood Score:  -46850.528759057066\n",
      "Model Perplexity:  1313.730876994048\n"
     ]
    }
   ],
   "source": [
    "# Best Model\n",
    "best_lda_model4 = model5.best_estimator_\n",
    "\n",
    "# Model Parameters\n",
    "print(\"Best Model's Params: \", model5.best_params_)\n",
    "\n",
    "# Log Likelihood Score\n",
    "print(\"Best Log Likelihood Score: \", model5.best_score_)\n",
    "\n",
    "# Perplexity\n",
    "print(\"Model Perplexity: \", best_lda_model4.perplexity(tv6))"
   ]
  },
  {
   "cell_type": "code",
   "execution_count": 149,
   "metadata": {},
   "outputs": [
    {
     "data": {
      "text/html": [
       "\n",
       "<link rel=\"stylesheet\" type=\"text/css\" href=\"https://cdn.rawgit.com/bmabey/pyLDAvis/files/ldavis.v1.0.0.css\">\n",
       "\n",
       "\n",
       "<div id=\"ldavis_el252121403517002700328750426273\"></div>\n",
       "<script type=\"text/javascript\">\n",
       "\n",
       "var ldavis_el252121403517002700328750426273_data = {\"mdsDat\": {\"x\": [-1015.7005615234375, -387.9960021972656, -2184.74560546875], \"y\": [1338.981201171875, -373.316162109375, -60.565799713134766], \"topics\": [1, 2, 3], \"cluster\": [1, 1, 1], \"Freq\": [33.92185562487497, 33.85593289867905, 32.22221147644598]}, \"tinfo\": {\"Term\": [\"hard\", \"make\", \"release\", \"minute\", \"hit\", \"never\", \"track\", \"often\", \"set\", \"sometimes\", \"seem\", \"work\", \"well\", \"death\", \"almost\", \"young\", \"little\", \"mostly\", \"lose\", \"black\", \"could\", \"feature\", \"pop\", \"classic\", \"future\", \"take\", \"mess\", \"largely\", \"approach\", \"end\", \"black\", \"young\", \"classic\", \"root\", \"consider\", \"damn\", \"personality\", \"weird\", \"likely\", \"unique\", \"messy\", \"craft\", \"modern\", \"fulllength\", \"minor\", \"constant\", \"hide\", \"conscious\", \"impact\", \"major\", \"contradiction\", \"mediocre\", \"lie\", \"soundtrack\", \"sad\", \"brand\", \"remember\", \"disaster\", \"peer\", \"predictable\", \"release\", \"call\", \"set\", \"death\", \"day\", \"never\", \"think\", \"often\", \"high\", \"different\", \"struggle\", \"effort\", \"however\", \"simply\", \"reach\", \"point\", \"less\", \"thing\", \"dark\", \"first\", \"sound\", \"little\", \"good\", \"lack\", \"get\", \"come\", \"big\", \"even\", \"time\", \"may\", \"way\", \"production\", \"rap\", \"bad\", \"still\", \"feel\", \"year\", \"much\", \"beat\", \"find\", \"minute\", \"sometimes\", \"hard\", \"almost\", \"approach\", \"stop\", \"past\", \"carry\", \"third\", \"killer\", \"awkward\", \"hit\", \"rest\", \"poor\", \"feature\", \"weakness\", \"dre\", \"strength\", \"gun\", \"burn\", \"cancer\", \"uncomfortable\", \"cure\", \"tight\", \"wit\", \"art\", \"intensity\", \"chaotic\", \"length\", \"friend\", \"tell\", \"next\", \"punch\", \"mind\", \"track\", \"stuff\", \"write\", \"game\", \"turn\", \"top\", \"word\", \"enough\", \"work\", \"much\", \"seem\", \"guest\", \"long\", \"record\", \"rap\", \"beat\", \"little\", \"fan\", \"year\", \"many\", \"feel\", \"rhyme\", \"even\", \"sound\", \"get\", \"hiphop\", \"still\", \"make\", \"production\", \"come\", \"may\", \"good\", \"mostly\", \"mess\", \"largely\", \"hot\", \"disappointment\", \"grime\", \"nearly\", \"solo\", \"fury\", \"predecessor\", \"dirty\", \"experience\", \"humor\", \"rock\", \"machine\", \"begin\", \"ride\", \"gold\", \"interesting\", \"danger\", \"dream\", \"tension\", \"gangster\", \"pressure\", \"electronic\", \"sonically\", \"shortcoming\", \"bomb\", \"party\", \"jealous\", \"sprawl\", \"trick\", \"future\", \"make\", \"rather\", \"odd\", \"pop\", \"emotional\", \"end\", \"lose\", \"mix\", \"well\", \"could\", \"flow\", \"far\", \"trap\", \"take\", \"prove\", \"record\", \"may\", \"sound\", \"rhyme\", \"work\", \"beat\", \"seem\", \"would\", \"still\", \"track\", \"way\", \"bad\", \"time\", \"rap\", \"feel\", \"moment\", \"new\", \"leave\", \"much\", \"even\", \"production\"], \"Freq\": [122.0, 334.0, 83.0, 65.0, 69.0, 100.0, 262.0, 88.0, 63.0, 44.0, 112.0, 135.0, 86.0, 50.0, 39.0, 38.0, 114.0, 34.0, 76.0, 35.0, 78.0, 38.0, 53.0, 33.0, 48.0, 86.0, 31.0, 31.0, 32.0, 59.0, 35.18782919576408, 37.95739718729681, 33.3005705703986, 29.528572430753453, 19.143200516667115, 19.09102257779523, 16.324628041233748, 17.221820619633895, 15.390508560853439, 15.354200797468852, 18.95197762020799, 14.39797828568174, 14.364668652214517, 12.554545811178222, 12.55386204957098, 12.549057627628445, 12.548780051612814, 12.532856612696673, 13.414952919416507, 11.625817265732055, 11.624743147537396, 11.608754578865865, 23.21585487037129, 11.60477699884002, 11.602818505699542, 11.594057517393605, 10.680608646879309, 10.6669709633486, 10.66695481175149, 10.66126115189983, 77.72373692041414, 22.908648774389547, 57.47808917077411, 46.57079308072187, 28.796768535201977, 80.26217406397244, 25.068859313914306, 69.9049552467207, 36.10738112338577, 15.48688795277015, 29.365183454518085, 44.062449767236814, 30.624591511387845, 31.898945566344068, 18.5301864785011, 41.64448289662403, 43.74290561110975, 53.167994231824935, 27.38057004336604, 48.24749472351786, 104.19158854052057, 57.880945751064054, 55.10185347899013, 55.65683152442829, 57.22795965834497, 63.06792782648413, 42.63354312174344, 69.04576719597581, 61.98151688557222, 69.94369497451163, 51.21146193696239, 57.99632170864682, 72.02520938157606, 58.34128737295175, 61.72574033980601, 62.171100645805694, 50.16650037904117, 51.95447540938577, 44.58431991172419, 40.77129544325155, 64.5029940581458, 43.735866882121535, 120.68752942091628, 38.97053644988333, 31.390382987470595, 23.8950128009706, 22.958818418935962, 17.318481670339736, 17.310244881718177, 16.36671962880707, 16.34825543187969, 67.18146857412678, 18.99341392940484, 14.45040311716849, 36.94580007644005, 13.51156835330535, 16.205954159736134, 12.58260064464731, 12.554353015663093, 12.553281355685877, 11.642868921561554, 13.428489032062878, 11.63215078108053, 11.630898400417896, 11.618438295840534, 17.865552191032876, 12.503866812437687, 11.609703993467225, 10.698574597704217, 10.697923733672058, 19.4882225820652, 25.29453924491104, 15.870341925137748, 24.050394225855587, 161.52006182646062, 17.33318740841329, 21.32522453844378, 30.530044036474106, 40.0795220189064, 21.81801797417288, 28.054379454066495, 62.5028269737464, 73.52186825542879, 90.63198823779797, 61.39189203087861, 39.40662377116597, 43.376900452390025, 81.17539949433795, 92.26828367128665, 78.44663573226431, 54.74643890591173, 37.79509586380224, 54.72669291703435, 42.389418563715964, 65.5401482877224, 48.404072817164646, 61.52966170523093, 77.00583505079128, 49.77666890501934, 44.48039614975844, 51.459298337667065, 63.837162584859676, 47.6798735976148, 44.85067158501733, 44.48926483414247, 39.34848908923435, 34.29774089708995, 30.509025043851576, 30.486358537194103, 27.70695000796422, 25.798112474043393, 24.8466738786881, 22.963562066487558, 21.996099397205676, 20.14821043334645, 20.131230525893187, 23.78847033221497, 21.91113854031997, 18.253711130755892, 19.14914347724195, 17.320626627884657, 18.230548350170608, 17.282632788434906, 15.412787298198085, 22.61923430203373, 14.471060996652131, 14.45927731279603, 13.499350304597302, 12.582459555067746, 12.567183159285708, 12.54674046074815, 12.525270832053161, 11.62449295021338, 11.61942670239253, 16.072869293956266, 10.704341077313847, 11.582391357914258, 19.881068104040253, 40.74110477752403, 236.77383896838757, 26.902107737362662, 28.97188670462771, 43.342838770104215, 18.513825651478587, 43.089048271098086, 51.868389607734706, 24.909646124844876, 55.86300901986686, 48.430841533505756, 48.005620955527554, 40.82449772544765, 28.63020275909045, 48.29584100812495, 36.24090725655087, 75.86360929519883, 72.63702445722032, 89.00519961602767, 50.93641200604232, 57.12247274493017, 68.80874864367773, 50.533177438624996, 40.27264883806174, 61.60727550657906, 73.21690197390656, 47.25293214395162, 55.915167923067905, 55.18145567799206, 66.25588044668513, 60.31441639932073, 42.82524244506042, 40.5889860315518, 38.26717367322907, 45.45316512852143, 41.363012316254064, 38.86659302068113], \"Total\": [122.0, 334.0, 83.0, 65.0, 69.0, 100.0, 262.0, 88.0, 63.0, 44.0, 112.0, 135.0, 86.0, 50.0, 39.0, 38.0, 114.0, 34.0, 76.0, 35.0, 78.0, 38.0, 53.0, 33.0, 48.0, 86.0, 31.0, 31.0, 32.0, 59.0, 35.860979403996346, 38.69212917524094, 33.97362623326504, 30.1989122532796, 19.81847539396674, 19.81858217465915, 16.98741941850447, 17.93118094275047, 16.04372812399829, 16.043795220253845, 19.81880858435573, 15.100144169693316, 15.100208223750245, 13.212705213079245, 13.2127049462014, 13.212712133586873, 13.212717965327725, 13.21274326918408, 14.156529709382172, 12.269000123257898, 12.269001545131074, 12.269033092940093, 24.538145995153336, 12.269042959802185, 12.269040406529644, 12.269058873524216, 11.325326307629268, 11.325349151385577, 11.325351516965263, 11.325362910136796, 83.99966169400982, 24.538516300351997, 63.23751022349795, 50.966271851410724, 32.090918651152826, 100.06433275429926, 28.316692986110642, 88.73851415966912, 43.42226823673266, 16.98887715847573, 36.8181635500443, 62.318930998997054, 40.59566170872571, 43.42924669820689, 21.71017608996484, 61.373375745546404, 67.99068036002811, 93.49475839733745, 37.76758153872675, 85.94469877786878, 270.2026232073395, 114.28326971702235, 110.51051993879923, 112.40569405437353, 118.06808876411651, 143.58782961937328, 75.55512745279718, 171.93844121746082, 149.26662767292407, 187.0699842658744, 105.79868529782127, 144.54278832694274, 230.54937349954784, 152.10910232974325, 174.79231418405215, 188.02566533284883, 126.5909604228065, 188.03962877570515, 191.83970428766622, 109.59367241847673, 65.2263680185217, 44.42942895739293, 122.89129035901783, 39.70289842253639, 32.14029933069331, 24.577783798133087, 23.632458887823407, 17.960576832383655, 17.960570598880953, 17.015249656935286, 17.01525848473633, 69.95309456121169, 19.850840482201676, 15.124605583064804, 38.75603580889697, 14.179280585013558, 17.015007628605865, 13.23398134951335, 13.233961437983872, 13.233940547617054, 12.288651941341621, 14.179180395935251, 12.288653585516094, 12.28865215004589, 12.288658844512728, 18.905965073425474, 13.23398337307494, 12.288653174040899, 11.343339373577992, 11.343352533737026, 20.796660013812122, 27.412675704223897, 17.014410606239043, 26.468859623283993, 262.7685012280528, 19.84801256187452, 25.5170547409467, 39.688130114721076, 55.756781882395536, 26.469258422243406, 36.86897553942907, 103.92473864592745, 135.18725556351455, 188.03962877570515, 112.50482046660659, 62.35225051900971, 72.76242197046685, 188.08378808832796, 230.54937349954784, 191.83970428766622, 114.28326971702235, 66.14351199540033, 126.5909604228065, 83.14261106010518, 188.02566533284883, 108.70836468274146, 171.93844121746082, 270.2026232073395, 118.06808876411651, 105.81768918188993, 174.79231418405215, 334.64415418827184, 144.54278832694274, 143.58782961937328, 187.0699842658744, 110.51051993879923, 34.98499318406423, 31.20271297744209, 31.202692554645527, 28.366079485866702, 26.474922284579225, 25.529390654221352, 23.63824044316503, 22.692680081137937, 20.80160493302872, 20.801565749857712, 24.583793785431496, 22.692476418945937, 18.910470582260345, 19.856027200663547, 17.96492321853656, 18.910421437042487, 17.964842374801695, 16.073790796472483, 23.6381727935442, 15.128226602352283, 15.128216650760487, 14.182640616959079, 13.237105555690443, 13.237084510107847, 13.237073761607284, 13.23707478170619, 12.29151870867024, 12.291546957263845, 17.019259643802688, 11.346003922138284, 12.29147391958269, 21.74685303649154, 48.20929248000655, 334.64415418827184, 31.20176676082417, 34.038313039949244, 53.89367208112979, 20.801171629008717, 59.53811491927324, 76.54233633953541, 30.247957924624718, 86.93015646733573, 78.47322659474762, 78.46242485132173, 66.13930684370811, 38.76467215986182, 86.91618948078971, 56.69348251527493, 188.08378808832796, 187.0699842658744, 270.2026232073395, 108.70836468274146, 135.18725556351455, 191.83970428766622, 112.50482046660659, 72.75483740751457, 174.79231418405215, 262.7685012280528, 105.79868529782127, 152.10910232974325, 149.26662767292407, 230.54937349954784, 188.02566533284883, 89.77295380119193, 96.39144423451594, 81.2524291289181, 188.03962877570515, 171.93844121746082, 144.54278832694274], \"Category\": [\"Default\", \"Default\", \"Default\", \"Default\", \"Default\", \"Default\", \"Default\", \"Default\", \"Default\", \"Default\", \"Default\", \"Default\", \"Default\", \"Default\", \"Default\", \"Default\", \"Default\", \"Default\", \"Default\", \"Default\", \"Default\", \"Default\", \"Default\", \"Default\", \"Default\", \"Default\", \"Default\", \"Default\", \"Default\", \"Default\", \"Topic1\", \"Topic1\", \"Topic1\", \"Topic1\", \"Topic1\", \"Topic1\", \"Topic1\", \"Topic1\", \"Topic1\", \"Topic1\", \"Topic1\", \"Topic1\", \"Topic1\", \"Topic1\", \"Topic1\", \"Topic1\", \"Topic1\", \"Topic1\", \"Topic1\", \"Topic1\", \"Topic1\", \"Topic1\", \"Topic1\", \"Topic1\", \"Topic1\", \"Topic1\", \"Topic1\", \"Topic1\", \"Topic1\", \"Topic1\", \"Topic1\", \"Topic1\", \"Topic1\", \"Topic1\", \"Topic1\", \"Topic1\", \"Topic1\", \"Topic1\", \"Topic1\", \"Topic1\", \"Topic1\", \"Topic1\", \"Topic1\", \"Topic1\", \"Topic1\", \"Topic1\", \"Topic1\", \"Topic1\", \"Topic1\", \"Topic1\", \"Topic1\", \"Topic1\", \"Topic1\", \"Topic1\", \"Topic1\", \"Topic1\", \"Topic1\", \"Topic1\", \"Topic1\", \"Topic1\", \"Topic1\", \"Topic1\", \"Topic1\", \"Topic1\", \"Topic1\", \"Topic1\", \"Topic1\", \"Topic1\", \"Topic1\", \"Topic1\", \"Topic2\", \"Topic2\", \"Topic2\", \"Topic2\", \"Topic2\", \"Topic2\", \"Topic2\", \"Topic2\", \"Topic2\", \"Topic2\", \"Topic2\", \"Topic2\", \"Topic2\", \"Topic2\", \"Topic2\", \"Topic2\", \"Topic2\", \"Topic2\", \"Topic2\", \"Topic2\", \"Topic2\", \"Topic2\", \"Topic2\", \"Topic2\", \"Topic2\", \"Topic2\", \"Topic2\", \"Topic2\", \"Topic2\", \"Topic2\", \"Topic2\", \"Topic2\", \"Topic2\", \"Topic2\", \"Topic2\", \"Topic2\", \"Topic2\", \"Topic2\", \"Topic2\", \"Topic2\", \"Topic2\", \"Topic2\", \"Topic2\", \"Topic2\", \"Topic2\", \"Topic2\", \"Topic2\", \"Topic2\", \"Topic2\", \"Topic2\", \"Topic2\", \"Topic2\", \"Topic2\", \"Topic2\", \"Topic2\", \"Topic2\", \"Topic2\", \"Topic2\", \"Topic2\", \"Topic2\", \"Topic2\", \"Topic2\", \"Topic2\", \"Topic2\", \"Topic2\", \"Topic2\", \"Topic3\", \"Topic3\", \"Topic3\", \"Topic3\", \"Topic3\", \"Topic3\", \"Topic3\", \"Topic3\", \"Topic3\", \"Topic3\", \"Topic3\", \"Topic3\", \"Topic3\", \"Topic3\", \"Topic3\", \"Topic3\", \"Topic3\", \"Topic3\", \"Topic3\", \"Topic3\", \"Topic3\", \"Topic3\", \"Topic3\", \"Topic3\", \"Topic3\", \"Topic3\", \"Topic3\", \"Topic3\", \"Topic3\", \"Topic3\", \"Topic3\", \"Topic3\", \"Topic3\", \"Topic3\", \"Topic3\", \"Topic3\", \"Topic3\", \"Topic3\", \"Topic3\", \"Topic3\", \"Topic3\", \"Topic3\", \"Topic3\", \"Topic3\", \"Topic3\", \"Topic3\", \"Topic3\", \"Topic3\", \"Topic3\", \"Topic3\", \"Topic3\", \"Topic3\", \"Topic3\", \"Topic3\", \"Topic3\", \"Topic3\", \"Topic3\", \"Topic3\", \"Topic3\", \"Topic3\", \"Topic3\", \"Topic3\", \"Topic3\", \"Topic3\", \"Topic3\", \"Topic3\", \"Topic3\", \"Topic3\", \"Topic3\"], \"logprob\": [30.0, 29.0, 28.0, 27.0, 26.0, 25.0, 24.0, 23.0, 22.0, 21.0, 20.0, 19.0, 18.0, 17.0, 16.0, 15.0, 14.0, 13.0, 12.0, 11.0, 10.0, 9.0, 8.0, 7.0, 6.0, 5.0, 4.0, 3.0, 2.0, 1.0, -5.6291, -5.5533, -5.6842, -5.8044, -6.2378, -6.2405, -6.3971, -6.3436, -6.456, -6.4584, -6.2479, -6.5227, -6.525, -6.6597, -6.6597, -6.6601, -6.6601, -6.6614, -6.5934, -6.7365, -6.7366, -6.738, -6.0449, -6.7383, -6.7385, -6.7393, -6.8213, -6.8226, -6.8226, -6.8231, -4.8366, -6.0582, -5.1384, -5.3488, -5.8295, -4.8045, -5.9681, -4.9426, -5.6033, -6.4498, -5.8099, -5.4042, -5.768, -5.7272, -6.2704, -5.4606, -5.4114, -5.2163, -5.8799, -5.3134, -4.5435, -5.1314, -5.1806, -5.1706, -5.1427, -5.0455, -5.4371, -4.955, -5.0629, -4.9421, -5.2538, -5.1294, -4.9127, -5.1234, -5.0671, -5.0599, -5.2744, -5.2394, -5.3924, -5.4818, -5.0211, -5.4096, -4.3946, -5.525, -5.7413, -6.0141, -6.0541, -6.336, -6.3365, -6.3926, -6.3937, -4.9804, -6.2437, -6.5171, -5.5784, -6.5843, -6.4024, -6.6555, -6.6577, -6.6578, -6.7331, -6.5904, -6.734, -6.7341, -6.7352, -6.3049, -6.6618, -6.736, -6.8177, -6.8178, -6.218, -5.9572, -6.4234, -6.0077, -4.1032, -6.3352, -6.1279, -5.7691, -5.4969, -6.1051, -5.8537, -5.0526, -4.8902, -4.681, -5.0705, -5.5139, -5.4179, -4.7912, -4.6631, -4.8254, -5.1851, -5.5556, -5.1855, -5.4409, -5.0052, -5.3082, -5.0683, -4.8439, -5.2803, -5.3928, -5.247, -5.0315, -5.3233, -5.3845, -5.3926, -5.5154, -5.6033, -5.7203, -5.7211, -5.8167, -5.8881, -5.9256, -6.0044, -6.0475, -6.1352, -6.1361, -5.9692, -6.0514, -6.234, -6.1861, -6.2865, -6.2353, -6.2887, -6.4032, -6.0196, -6.4662, -6.467, -6.5357, -6.6061, -6.6073, -6.6089, -6.6106, -6.6852, -6.6857, -6.3612, -6.7677, -6.6889, -6.1486, -5.4311, -3.6713, -5.8462, -5.772, -5.3692, -6.2198, -5.3751, -5.1896, -5.9231, -5.1155, -5.2582, -5.267, -5.4291, -5.7839, -5.261, -5.5482, -4.8094, -4.8529, -4.6497, -5.2078, -5.0932, -4.907, -5.2157, -5.4427, -5.0176, -4.8449, -5.2828, -5.1145, -5.1277, -4.9448, -5.0388, -5.3812, -5.4349, -5.4938, -5.3217, -5.416, -5.4782], \"loglift\": [30.0, 29.0, 28.0, 27.0, 26.0, 25.0, 24.0, 23.0, 22.0, 21.0, 20.0, 19.0, 18.0, 17.0, 16.0, 15.0, 14.0, 13.0, 12.0, 11.0, 10.0, 9.0, 8.0, 7.0, 6.0, 5.0, 4.0, 3.0, 2.0, 1.0, 1.0622, 1.0619, 1.0611, 1.0587, 1.0464, 1.0437, 1.0413, 1.0407, 1.0395, 1.0372, 1.0364, 1.0335, 1.0312, 1.03, 1.03, 1.0296, 1.0296, 1.0283, 1.0273, 1.0273, 1.0272, 1.0258, 1.0257, 1.0254, 1.0253, 1.0245, 1.0225, 1.0212, 1.0212, 1.0207, 1.0035, 1.0124, 0.9856, 0.9909, 0.9728, 0.8606, 0.9593, 0.8426, 0.8966, 0.9885, 0.8549, 0.7345, 0.7993, 0.7726, 0.9227, 0.6933, 0.6401, 0.5167, 0.7595, 0.5038, 0.1282, 0.4008, 0.3852, 0.3782, 0.3569, 0.2584, 0.5089, 0.1687, 0.2022, 0.0973, 0.3555, 0.1679, -0.0823, 0.1228, 0.0402, -0.0256, 0.1555, -0.2052, -0.3782, 0.0923, 1.0719, 1.0673, 1.065, 1.0644, 1.0594, 1.0549, 1.0541, 1.0467, 1.0462, 1.0442, 1.0431, 1.0426, 1.0389, 1.0375, 1.0352, 1.0348, 1.0343, 1.0326, 1.0303, 1.0303, 1.0291, 1.0287, 1.0282, 1.028, 1.027, 1.0265, 1.0263, 1.0262, 1.0245, 1.0245, 1.0181, 1.0026, 1.0134, 0.9872, 0.5964, 0.9476, 0.9036, 0.8207, 0.7529, 0.8898, 0.8098, 0.5746, 0.474, 0.3532, 0.4773, 0.6242, 0.5658, 0.2428, 0.1673, 0.1888, 0.3471, 0.5234, 0.2444, 0.4094, 0.0291, 0.274, 0.0554, -0.1722, 0.2193, 0.2164, -0.1398, -0.5737, -0.026, -0.0806, -0.3532, 0.0504, 1.1127, 1.11, 1.1093, 1.109, 1.1066, 1.1054, 1.1036, 1.1013, 1.1006, 1.0998, 1.0996, 1.0975, 1.0972, 1.0963, 1.096, 1.0959, 1.0938, 1.0905, 1.0885, 1.0881, 1.0873, 1.0831, 1.0818, 1.0806, 1.079, 1.0772, 1.0767, 1.0763, 1.0753, 1.0743, 1.0731, 1.0428, 0.9642, 0.7866, 0.9842, 0.9714, 0.9146, 1.016, 0.8092, 0.7434, 0.9383, 0.6903, 0.6499, 0.6412, 0.65, 0.8295, 0.5449, 0.685, 0.2246, 0.1865, 0.022, 0.3744, 0.2711, 0.1072, 0.3321, 0.5411, 0.0897, -0.1453, 0.3265, 0.1318, 0.1374, -0.1144, -0.0045, 0.3924, 0.2676, 0.3795, -0.2875, -0.2922, -0.1809]}, \"token.table\": {\"Topic\": [2, 2, 2, 3, 2, 1, 2, 3, 1, 2, 3, 3, 1, 2, 3, 1, 3, 1, 2, 1, 2, 2, 2, 2, 1, 1, 2, 3, 1, 1, 1, 1, 2, 3, 1, 2, 1, 3, 1, 2, 3, 1, 2, 3, 1, 2, 1, 2, 3, 3, 1, 2, 3, 1, 3, 3, 2, 3, 1, 3, 1, 2, 3, 1, 2, 3, 3, 1, 2, 3, 1, 3, 1, 2, 3, 1, 2, 3, 1, 2, 3, 1, 2, 3, 1, 2, 3, 2, 1, 3, 1, 3, 1, 2, 3, 1, 2, 3, 3, 1, 2, 3, 3, 1, 2, 3, 2, 2, 3, 1, 1, 2, 3, 1, 2, 3, 1, 2, 3, 3, 1, 2, 3, 3, 1, 2, 2, 3, 3, 2, 1, 2, 3, 3, 1, 2, 3, 2, 1, 2, 3, 1, 3, 1, 1, 2, 3, 1, 2, 3, 1, 2, 3, 3, 1, 1, 2, 3, 1, 2, 3, 1, 2, 3, 1, 3, 1, 2, 2, 3, 1, 2, 1, 3, 1, 1, 2, 3, 3, 1, 2, 3, 3, 1, 2, 3, 1, 2, 3, 1, 2, 3, 2, 3, 1, 2, 3, 2, 3, 2, 1, 1, 1, 2, 2, 2, 3, 3, 1, 3, 1, 2, 3, 1, 3, 1, 2, 1, 2, 3, 2, 3, 1, 2, 1, 2, 3, 1, 3, 1, 1, 2, 1, 2, 3, 3, 3, 1, 1, 1, 2, 3, 1, 2, 3, 3, 1, 2, 3, 2, 3, 1, 2, 3, 1, 3, 1, 2, 3, 2, 2, 1, 3, 1, 2, 1, 2, 3, 2, 3, 3, 1, 2, 3, 1, 3, 2, 2, 1, 2, 3, 2, 3, 1, 2, 3, 2, 3, 2, 3, 1, 2, 3, 2, 1, 1, 2, 3, 2, 1, 1, 3, 2, 2, 3, 1, 2, 3, 1, 2, 3, 1, 2, 1, 2, 3, 1], \"Freq\": [0.9822960425947792, 0.9645211975482646, 0.9520804640277839, 0.05289335911265466, 0.9403324677290636, 0.3813052546603501, 0.24982068408781558, 0.3681567976030966, 0.23457083697607192, 0.40658945075852465, 0.3596752833633103, 0.9518561000835699, 0.5691208717351991, 0.23823664398217634, 0.1985305366518136, 0.9759911910297576, 0.97628069450676, 0.9780701293964098, 0.9823226841033997, 0.9373019834809684, 0.04075226015134645, 0.9765106911059516, 0.9465174843019688, 0.976510593150219, 0.9713417041036462, 0.4387558483682231, 0.3133970345487308, 0.25071762763898464, 0.9838986299173573, 0.958701394648354, 0.9839009484626433, 0.978074699547346, 0.38229599191742636, 0.6116735870678821, 0.9271434658285346, 0.9765105604525859, 0.9586962292536839, 0.9254224151972409, 0.7148988338666665, 0.026477734587654317, 0.26477734587654317, 0.9036824503295486, 0.09348439141340159, 0.031161463804467195, 0.9221784975174531, 0.07848327638446409, 0.8829306292627184, 0.05886204195084789, 0.9762529009750539, 0.9820614285672199, 0.9712724837851227, 0.940346331264676, 0.9254230239554526, 0.7060454872165269, 0.28883679022494285, 0.9820901684256764, 0.09614843027451672, 0.9134100876079089, 0.2687354146447891, 0.7222264268578708, 0.34640452763275487, 0.606207923357321, 0.05773408793879247, 0.40130641822401764, 0.36059417289694334, 0.2384574369157206, 0.9694843169092031, 0.2721355346424867, 0.5745083509119163, 0.15118640813471482, 0.3779900514995837, 0.6199036844593173, 0.025802432553497553, 0.9546900044794094, 0.025802432553497553, 0.32974221838410034, 0.35101590989275194, 0.3191053726297745, 0.37410918983939156, 0.3558599610667383, 0.2737384315897987, 0.5584986704538926, 0.23270777935578857, 0.2094370014202097, 0.07646972434728326, 0.30587889738913304, 0.6117577947782661, 0.969730947467617, 0.983901463807072, 0.9614642747225751, 0.14520022261067309, 0.8504584467196568, 0.22676805316816198, 0.781089960912558, 0.982087809552254, 0.48277227654525695, 0.42348445310987454, 0.0931665796841724, 0.933196169461896, 0.49769017493048645, 0.3529075785870722, 0.14478259634341423, 0.97926348257224, 0.35283409687502343, 0.6254786262784506, 0.016037913494319246, 0.9823211334655729, 0.9846100537028086, 0.016274546342195186, 0.9839005141950407, 0.8290676987146917, 0.13817794978578193, 0.04605931659526065, 0.34965798522022845, 0.415809495937569, 0.22680517960231036, 0.014295293242888075, 0.9577846472735011, 0.02859058648577615, 0.9870944630875373, 0.7636283951330889, 0.2216985663289613, 0.024633174036551252, 0.9518536263653615, 0.9183041512909984, 0.9823195052858394, 0.04230445427123323, 0.9730024482383642, 0.9695043361069916, 0.940332955589548, 0.4981954025648501, 0.16903058301307416, 0.33806116602614833, 0.9614554880948417, 0.38152705503504714, 0.14768789227163115, 0.467678325526832, 0.9697320725166937, 0.6471475173804513, 0.13237108310054685, 0.22061847183424477, 0.9373161283066315, 0.04075287514376659, 0.9349447886469059, 0.5075108556450496, 0.4812602941461677, 0.017500374332587918, 0.23363708270870973, 0.5909643856749717, 0.16492029367673627, 0.3135519654578873, 0.01306466522741197, 0.6793625918254225, 0.9462884863576299, 0.9780748128979179, 0.10160045999450358, 0.19124792469553614, 0.7082149711381573, 0.336770756210174, 0.5051561343152611, 0.1563578510975808, 0.3741915105980447, 0.2352060923759138, 0.3902282896236752, 0.9780721845884578, 0.9935033540965287, 0.9586852771259889, 0.05045711984873626, 0.9067258786958771, 0.0755604898913231, 0.9839014836804819, 0.9965295014056674, 0.16530041507131044, 0.8265020753565523, 0.9271395329489701, 0.27848030995353157, 0.24506267275910779, 0.4789861331200743, 0.9718452658006262, 0.27653745297501053, 0.4839405427062684, 0.23931125738222064, 0.9729996636298038, 0.7994856688490016, 0.18987784635163787, 0.00999357086061252, 0.24898475368424924, 0.331979671578999, 0.4253489542105925, 0.03647947434208017, 0.9119868585520041, 0.03647947434208017, 0.14689329621393762, 0.8519811180408382, 0.7888344836836855, 0.2028431529472334, 0.011269064052624077, 0.05875696246071052, 0.9401113993713683, 0.9732377028211279, 0.9712722809108495, 0.9418734891876003, 0.6843358294992883, 0.30958049429729706, 0.9256439728700074, 0.185550540793478, 0.7978673254119554, 0.9614660857987003, 0.9712713038232462, 0.9820893709693543, 0.4012652631884286, 0.3320815971214581, 0.2698162976611847, 0.35277423634385835, 0.6349936254189451, 0.05877370795514411, 0.9403793272823058, 0.3122975304903234, 0.3990468445154132, 0.2862727362827964, 0.12819786875088937, 0.8653356140685033, 0.8751656329854656, 0.13818404731349457, 0.16482015975476721, 0.430659127101166, 0.4040752303665261, 0.9285751683635928, 0.07142885910489175, 0.971274442890876, 0.05037570076171853, 0.9571383144726521, 0.08279031725172148, 0.44154835867584785, 0.46914513109308836, 0.946292744758227, 0.9568882943192715, 0.9934132643053062, 0.9780716015584675, 0.008888508028834351, 0.5421989897588955, 0.45331390947055195, 0.9013637601883289, 0.015813399301549628, 0.07906699650774815, 0.9762829382129478, 0.7368306483041351, 0.25328553535454645, 0.9694756159844826, 0.9903345830124275, 0.9820900927421042, 0.384896337294978, 0.2849713266510895, 0.32938244249281773, 0.978071398015015, 0.9762864957050987, 0.3547066716830322, 0.29177484283604266, 0.3547066716830322, 0.9764916233750508, 0.9823196554888636, 0.7876547117995816, 0.19012355112403692, 0.10076575645874705, 0.85650892989935, 0.4372027838196794, 0.011505336416307353, 0.552256147982753, 0.9136082422553011, 0.04808464432922638, 0.9166135102129768, 0.5668766988493479, 0.40643989728821167, 0.03208736031222724, 0.8828714572094459, 0.10594457486513352, 0.9465178128059695, 0.9765106745213866, 0.41536411029433584, 0.21438147628094753, 0.3684681623578786, 0.8311528660550735, 0.15111870291910426, 0.10655767289131518, 0.6165122502997521, 0.2778110757523574, 0.2579668404974754, 0.7481038374426787, 0.09196732955540604, 0.9196732955540604, 0.1972854176412413, 0.7174015186954229, 0.08967518983692786, 0.9168371962970944, 0.9349408786434679, 0.4820475779678734, 0.066163393054414, 0.44423992479392255, 0.9873561578855387, 0.9480691792847619, 0.356608123806246, 0.6441953204241864, 0.9765101425497199, 0.759446108559641, 0.2169846024456117, 0.03698573492862178, 0.5473888769436024, 0.4216373781862883, 0.35736455370477616, 0.09621353368974743, 0.549791621084271, 0.15675790331637612, 0.8229789924109746, 0.39497290985867306, 0.43447020084454036, 0.17378808033781615, 0.9821118870944989], \"Term\": [\"almost\", \"approach\", \"art\", \"art\", \"awkward\", \"bad\", \"bad\", \"bad\", \"beat\", \"beat\", \"beat\", \"begin\", \"big\", \"big\", \"big\", \"black\", \"bomb\", \"brand\", \"burn\", \"call\", \"call\", \"cancer\", \"carry\", \"chaotic\", \"classic\", \"come\", \"come\", \"come\", \"conscious\", \"consider\", \"constant\", \"contradiction\", \"could\", \"could\", \"craft\", \"cure\", \"damn\", \"danger\", \"dark\", \"dark\", \"dark\", \"day\", \"day\", \"day\", \"death\", \"death\", \"different\", \"different\", \"dirty\", \"disappointment\", \"disaster\", \"dre\", \"dream\", \"effort\", \"effort\", \"electronic\", \"emotional\", \"emotional\", \"end\", \"end\", \"enough\", \"enough\", \"enough\", \"even\", \"even\", \"even\", \"experience\", \"fan\", \"fan\", \"fan\", \"far\", \"far\", \"feature\", \"feature\", \"feature\", \"feel\", \"feel\", \"feel\", \"find\", \"find\", \"find\", \"first\", \"first\", \"first\", \"flow\", \"flow\", \"flow\", \"friend\", \"fulllength\", \"fury\", \"future\", \"future\", \"game\", \"game\", \"gangster\", \"get\", \"get\", \"get\", \"gold\", \"good\", \"good\", \"good\", \"grime\", \"guest\", \"guest\", \"guest\", \"gun\", \"hard\", \"hard\", \"hide\", \"high\", \"high\", \"high\", \"hiphop\", \"hiphop\", \"hiphop\", \"hit\", \"hit\", \"hit\", \"hot\", \"however\", \"however\", \"however\", \"humor\", \"impact\", \"intensity\", \"interesting\", \"interesting\", \"jealous\", \"killer\", \"lack\", \"lack\", \"lack\", \"largely\", \"leave\", \"leave\", \"leave\", \"length\", \"less\", \"less\", \"less\", \"lie\", \"lie\", \"likely\", \"little\", \"little\", \"little\", \"long\", \"long\", \"long\", \"lose\", \"lose\", \"lose\", \"machine\", \"major\", \"make\", \"make\", \"make\", \"many\", \"many\", \"many\", \"may\", \"may\", \"may\", \"mediocre\", \"mess\", \"messy\", \"messy\", \"mind\", \"mind\", \"minor\", \"minute\", \"mix\", \"mix\", \"modern\", \"moment\", \"moment\", \"moment\", \"mostly\", \"much\", \"much\", \"much\", \"nearly\", \"never\", \"never\", \"never\", \"new\", \"new\", \"new\", \"next\", \"next\", \"next\", \"odd\", \"odd\", \"often\", \"often\", \"often\", \"party\", \"party\", \"past\", \"peer\", \"personality\", \"point\", \"point\", \"poor\", \"pop\", \"pop\", \"predecessor\", \"predictable\", \"pressure\", \"production\", \"production\", \"production\", \"prove\", \"prove\", \"punch\", \"punch\", \"rap\", \"rap\", \"rap\", \"rather\", \"rather\", \"reach\", \"reach\", \"record\", \"record\", \"record\", \"release\", \"release\", \"remember\", \"rest\", \"rest\", \"rhyme\", \"rhyme\", \"rhyme\", \"ride\", \"rock\", \"root\", \"sad\", \"seem\", \"seem\", \"seem\", \"set\", \"set\", \"set\", \"shortcoming\", \"simply\", \"simply\", \"solo\", \"sometimes\", \"sonically\", \"sound\", \"sound\", \"sound\", \"soundtrack\", \"sprawl\", \"still\", \"still\", \"still\", \"stop\", \"strength\", \"struggle\", \"struggle\", \"stuff\", \"stuff\", \"take\", \"take\", \"take\", \"tell\", \"tell\", \"tension\", \"thing\", \"thing\", \"thing\", \"think\", \"think\", \"third\", \"tight\", \"time\", \"time\", \"time\", \"top\", \"top\", \"track\", \"track\", \"track\", \"trap\", \"trap\", \"trick\", \"trick\", \"turn\", \"turn\", \"turn\", \"uncomfortable\", \"unique\", \"way\", \"way\", \"way\", \"weakness\", \"weird\", \"well\", \"well\", \"wit\", \"word\", \"word\", \"work\", \"work\", \"work\", \"would\", \"would\", \"would\", \"write\", \"write\", \"year\", \"year\", \"year\", \"young\"]}, \"R\": 30, \"lambda.step\": 0.01, \"plot.opts\": {\"xlab\": \"PC1\", \"ylab\": \"PC2\"}, \"topic.order\": [1, 3, 2]};\n",
       "\n",
       "function LDAvis_load_lib(url, callback){\n",
       "  var s = document.createElement('script');\n",
       "  s.src = url;\n",
       "  s.async = true;\n",
       "  s.onreadystatechange = s.onload = callback;\n",
       "  s.onerror = function(){console.warn(\"failed to load library \" + url);};\n",
       "  document.getElementsByTagName(\"head\")[0].appendChild(s);\n",
       "}\n",
       "\n",
       "if(typeof(LDAvis) !== \"undefined\"){\n",
       "   // already loaded: just create the visualization\n",
       "   !function(LDAvis){\n",
       "       new LDAvis(\"#\" + \"ldavis_el252121403517002700328750426273\", ldavis_el252121403517002700328750426273_data);\n",
       "   }(LDAvis);\n",
       "}else if(typeof define === \"function\" && define.amd){\n",
       "   // require.js is available: use it to load d3/LDAvis\n",
       "   require.config({paths: {d3: \"https://cdnjs.cloudflare.com/ajax/libs/d3/3.5.5/d3.min\"}});\n",
       "   require([\"d3\"], function(d3){\n",
       "      window.d3 = d3;\n",
       "      LDAvis_load_lib(\"https://cdn.rawgit.com/bmabey/pyLDAvis/files/ldavis.v1.0.0.js\", function(){\n",
       "        new LDAvis(\"#\" + \"ldavis_el252121403517002700328750426273\", ldavis_el252121403517002700328750426273_data);\n",
       "      });\n",
       "    });\n",
       "}else{\n",
       "    // require.js not available: dynamically load d3 & LDAvis\n",
       "    LDAvis_load_lib(\"https://cdnjs.cloudflare.com/ajax/libs/d3/3.5.5/d3.min.js\", function(){\n",
       "         LDAvis_load_lib(\"https://cdn.rawgit.com/bmabey/pyLDAvis/files/ldavis.v1.0.0.js\", function(){\n",
       "                 new LDAvis(\"#\" + \"ldavis_el252121403517002700328750426273\", ldavis_el252121403517002700328750426273_data);\n",
       "            })\n",
       "         });\n",
       "}\n",
       "</script>"
      ],
      "text/plain": [
       "PreparedData(topic_coordinates=                 x            y  topics  cluster       Freq\n",
       "topic                                                      \n",
       "0     -1015.700562  1338.981201       1        1  33.921856\n",
       "2      -387.996002  -373.316162       2        1  33.855933\n",
       "1     -2184.745605   -60.565800       3        1  32.222211, topic_info=            Term        Freq       Total Category  logprob  loglift\n",
       "699         hard  122.000000  122.000000  Default  30.0000  30.0000\n",
       "919         make  334.000000  334.000000  Default  29.0000  29.0000\n",
       "1215     release   83.000000   83.000000  Default  28.0000  28.0000\n",
       "965       minute   65.000000   65.000000  Default  27.0000  27.0000\n",
       "724          hit   69.000000   69.000000  Default  26.0000  26.0000\n",
       "...          ...         ...         ...      ...      ...      ...\n",
       "1007         new   40.588986   96.391444   Topic3  -5.4349   0.2676\n",
       "860        leave   38.267174   81.252429   Topic3  -5.4938   0.3795\n",
       "987         much   45.453165  188.039629   Topic3  -5.3217  -0.2875\n",
       "504         even   41.363012  171.938441   Topic3  -5.4160  -0.2922\n",
       "1144  production   38.866593  144.542788   Topic3  -5.4782  -0.1809\n",
       "\n",
       "[235 rows x 6 columns], token_table=      Topic      Freq      Term\n",
       "term                           \n",
       "35        2  0.982296    almost\n",
       "58        2  0.964521  approach\n",
       "66        2  0.952080       art\n",
       "66        3  0.052893       art\n",
       "88        2  0.940332   awkward\n",
       "...     ...       ...       ...\n",
       "1677      2  0.822979     write\n",
       "1681      1  0.394973      year\n",
       "1681      2  0.434470      year\n",
       "1681      3  0.173788      year\n",
       "1684      1  0.982112     young\n",
       "\n",
       "[317 rows x 3 columns], R=30, lambda_step=0.01, plot_opts={'xlab': 'PC1', 'ylab': 'PC2'}, topic_order=[1, 3, 2])"
      ]
     },
     "execution_count": 149,
     "metadata": {},
     "output_type": "execute_result"
    }
   ],
   "source": [
    "panel4 = pyLDAvis.sklearn.prepare(best_lda_model4, tv6, vectorizer4, mds='tsne')\n",
    "panel4"
   ]
  }
 ],
 "metadata": {
  "kernelspec": {
   "display_name": "Python 3",
   "language": "python",
   "name": "python3"
  },
  "language_info": {
   "codemirror_mode": {
    "name": "ipython",
    "version": 3
   },
   "file_extension": ".py",
   "mimetype": "text/x-python",
   "name": "python",
   "nbconvert_exporter": "python",
   "pygments_lexer": "ipython3",
   "version": "3.7.6"
  }
 },
 "nbformat": 4,
 "nbformat_minor": 4
}
