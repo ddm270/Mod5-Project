{
 "cells": [
  {
   "cell_type": "markdown",
   "metadata": {},
   "source": [
    "## 1. Data Collection and Cleaning"
   ]
  },
  {
   "cell_type": "markdown",
   "metadata": {},
   "source": [
    "### 1.1 Import Libraries and Packages"
   ]
  },
  {
   "cell_type": "code",
   "execution_count": 1,
   "metadata": {},
   "outputs": [],
   "source": [
    "import pandas as pd\n",
    "import numpy as np\n",
    "import sklearn\n",
    "from sklearn.model_selection import train_test_split\n",
    "from sklearn.preprocessing import LabelEncoder\n",
    "from sklearn.naive_bayes import MultinomialNB\n",
    "from sklearn.ensemble import RandomForestClassifier\n",
    "from sklearn.svm import SVC\n",
    "from sklearn.metrics import accuracy_score, confusion_matrix, f1_score, recall_score, precision_score\n",
    "from sklearn.feature_extraction.text import TfidfVectorizer\n",
    "import string\n",
    "import nltk\n",
    "from nltk.corpus import stopwords\n",
    "from nltk import word_tokenize\n",
    "from nltk.stem import WordNetLemmatizer\n",
    "from nltk.stem import PorterStemmer\n",
    "from nltk.tokenize import RegexpTokenizer\n",
    "from nltk.probability import FreqDist\n",
    "import matplotlib.pyplot as plt\n",
    "import seaborn as sns\n",
    "from matplotlib import cm\n",
    "from vaderSentiment.vaderSentiment import SentimentIntensityAnalyzer\n",
    "from textblob import TextBlob, Word\n",
    "from imblearn.over_sampling import ADASYN\n",
    "from sklearn.feature_extraction.text import CountVectorizer\n",
    "from wordcloud import WordCloud\n",
    "from datetime import datetime\n",
    "from sklearn.svm import SVC\n",
    "import spacy\n",
    "from spacy.lemmatizer import Lemmatizer\n",
    "from spacy.lookups import Lookups\n",
    "from tqdm import tqdm\n",
    "\n",
    "%matplotlib inline"
   ]
  },
  {
   "cell_type": "markdown",
   "metadata": {},
   "source": [
    "### 1.2 Load Metacritic Album Review Data\n",
    "\n",
    "__This data set consists of user reviews that were web scraped from the albums listed on www.metacritic.com. Please refer to the \"Metacritic Scraper\" notebook in this respository for the code used to collect this data.__\n",
    "\n"
   ]
  },
  {
   "cell_type": "code",
   "execution_count": 2,
   "metadata": {},
   "outputs": [],
   "source": [
    "df = pd.read_csv('critic_reviews.csv', engine='python')"
   ]
  },
  {
   "cell_type": "code",
   "execution_count": 3,
   "metadata": {},
   "outputs": [
    {
     "data": {
      "text/html": [
       "<div>\n",
       "<style scoped>\n",
       "    .dataframe tbody tr th:only-of-type {\n",
       "        vertical-align: middle;\n",
       "    }\n",
       "\n",
       "    .dataframe tbody tr th {\n",
       "        vertical-align: top;\n",
       "    }\n",
       "\n",
       "    .dataframe thead th {\n",
       "        text-align: right;\n",
       "    }\n",
       "</style>\n",
       "<table border=\"1\" class=\"dataframe\">\n",
       "  <thead>\n",
       "    <tr style=\"text-align: right;\">\n",
       "      <th></th>\n",
       "      <th>Unnamed: 0</th>\n",
       "      <th>title</th>\n",
       "      <th>artist</th>\n",
       "      <th>label</th>\n",
       "      <th>release_date</th>\n",
       "      <th>metascore</th>\n",
       "      <th>user_score</th>\n",
       "      <th>genre</th>\n",
       "      <th>summary</th>\n",
       "      <th>name</th>\n",
       "      <th>date</th>\n",
       "      <th>rating</th>\n",
       "      <th>review</th>\n",
       "    </tr>\n",
       "  </thead>\n",
       "  <tbody>\n",
       "    <tr>\n",
       "      <th>0</th>\n",
       "      <td>0</td>\n",
       "      <td>\\n\\nAgricultural Tragic\\n\\n</td>\n",
       "      <td>Corb Lund</td>\n",
       "      <td>New West</td>\n",
       "      <td>Jun 26, 2020</td>\n",
       "      <td>80</td>\n",
       "      <td>\\ntbd\\n</td>\n",
       "      <td>Country</td>\n",
       "      <td>The latest full-length release for the Canadia...</td>\n",
       "      <td>Exclaim</td>\n",
       "      <td>Jun 30, 2020</td>\n",
       "      <td>90</td>\n",
       "      <td>\\n                                Despite its ...</td>\n",
       "    </tr>\n",
       "    <tr>\n",
       "      <th>1</th>\n",
       "      <td>1</td>\n",
       "      <td>\\n\\nAgricultural Tragic\\n\\n</td>\n",
       "      <td>Corb Lund</td>\n",
       "      <td>New West</td>\n",
       "      <td>Jun 26, 2020</td>\n",
       "      <td>80</td>\n",
       "      <td>\\ntbd\\n</td>\n",
       "      <td>Country</td>\n",
       "      <td>The latest full-length release for the Canadia...</td>\n",
       "      <td>Mojo</td>\n",
       "      <td>Jul 21, 2020</td>\n",
       "      <td>80</td>\n",
       "      <td>\\n                                Highlights i...</td>\n",
       "    </tr>\n",
       "    <tr>\n",
       "      <th>2</th>\n",
       "      <td>2</td>\n",
       "      <td>\\n\\nAgricultural Tragic\\n\\n</td>\n",
       "      <td>Corb Lund</td>\n",
       "      <td>New West</td>\n",
       "      <td>Jun 26, 2020</td>\n",
       "      <td>80</td>\n",
       "      <td>\\ntbd\\n</td>\n",
       "      <td>Country</td>\n",
       "      <td>The latest full-length release for the Canadia...</td>\n",
       "      <td>Glide Magazine</td>\n",
       "      <td>Jun 30, 2020</td>\n",
       "      <td>80</td>\n",
       "      <td>\\n                                Agricultural...</td>\n",
       "    </tr>\n",
       "    <tr>\n",
       "      <th>3</th>\n",
       "      <td>3</td>\n",
       "      <td>\\n\\nAgricultural Tragic\\n\\n</td>\n",
       "      <td>Corb Lund</td>\n",
       "      <td>New West</td>\n",
       "      <td>Jun 26, 2020</td>\n",
       "      <td>80</td>\n",
       "      <td>\\ntbd\\n</td>\n",
       "      <td>Country</td>\n",
       "      <td>The latest full-length release for the Canadia...</td>\n",
       "      <td>AllMusic</td>\n",
       "      <td>Jun 30, 2020</td>\n",
       "      <td>80</td>\n",
       "      <td>\\n                                All of these...</td>\n",
       "    </tr>\n",
       "    <tr>\n",
       "      <th>4</th>\n",
       "      <td>4</td>\n",
       "      <td>\\n\\nAgricultural Tragic\\n\\n</td>\n",
       "      <td>Corb Lund</td>\n",
       "      <td>New West</td>\n",
       "      <td>Jun 26, 2020</td>\n",
       "      <td>80</td>\n",
       "      <td>\\ntbd\\n</td>\n",
       "      <td>Country</td>\n",
       "      <td>The latest full-length release for the Canadia...</td>\n",
       "      <td>PopMatters</td>\n",
       "      <td>Jul 16, 2020</td>\n",
       "      <td>70</td>\n",
       "      <td>\\n                                At times Agr...</td>\n",
       "    </tr>\n",
       "  </tbody>\n",
       "</table>\n",
       "</div>"
      ],
      "text/plain": [
       "   Unnamed: 0                        title     artist     label  release_date  \\\n",
       "0           0  \\n\\nAgricultural Tragic\\n\\n  Corb Lund  New West  Jun 26, 2020   \n",
       "1           1  \\n\\nAgricultural Tragic\\n\\n  Corb Lund  New West  Jun 26, 2020   \n",
       "2           2  \\n\\nAgricultural Tragic\\n\\n  Corb Lund  New West  Jun 26, 2020   \n",
       "3           3  \\n\\nAgricultural Tragic\\n\\n  Corb Lund  New West  Jun 26, 2020   \n",
       "4           4  \\n\\nAgricultural Tragic\\n\\n  Corb Lund  New West  Jun 26, 2020   \n",
       "\n",
       "   metascore user_score    genre  \\\n",
       "0         80    \\ntbd\\n  Country   \n",
       "1         80    \\ntbd\\n  Country   \n",
       "2         80    \\ntbd\\n  Country   \n",
       "3         80    \\ntbd\\n  Country   \n",
       "4         80    \\ntbd\\n  Country   \n",
       "\n",
       "                                             summary            name  \\\n",
       "0  The latest full-length release for the Canadia...         Exclaim   \n",
       "1  The latest full-length release for the Canadia...            Mojo   \n",
       "2  The latest full-length release for the Canadia...  Glide Magazine   \n",
       "3  The latest full-length release for the Canadia...        AllMusic   \n",
       "4  The latest full-length release for the Canadia...      PopMatters   \n",
       "\n",
       "           date  rating                                             review  \n",
       "0  Jun 30, 2020      90  \\n                                Despite its ...  \n",
       "1  Jul 21, 2020      80  \\n                                Highlights i...  \n",
       "2  Jun 30, 2020      80  \\n                                Agricultural...  \n",
       "3  Jun 30, 2020      80  \\n                                All of these...  \n",
       "4  Jul 16, 2020      70  \\n                                At times Agr...  "
      ]
     },
     "execution_count": 3,
     "metadata": {},
     "output_type": "execute_result"
    }
   ],
   "source": [
    "df.head()"
   ]
  },
  {
   "cell_type": "code",
   "execution_count": 4,
   "metadata": {},
   "outputs": [
    {
     "name": "stdout",
     "output_type": "stream",
     "text": [
      "<class 'pandas.core.frame.DataFrame'>\n",
      "RangeIndex: 110836 entries, 0 to 110835\n",
      "Data columns (total 13 columns):\n",
      " #   Column        Non-Null Count   Dtype \n",
      "---  ------        --------------   ----- \n",
      " 0   Unnamed: 0    110836 non-null  int64 \n",
      " 1   title         110836 non-null  object\n",
      " 2   artist        110836 non-null  object\n",
      " 3   label         110423 non-null  object\n",
      " 4   release_date  110836 non-null  object\n",
      " 5   metascore     110836 non-null  int64 \n",
      " 6   user_score    110836 non-null  object\n",
      " 7   genre         110836 non-null  object\n",
      " 8   summary       109147 non-null  object\n",
      " 9   name          110836 non-null  object\n",
      " 10  date          43892 non-null   object\n",
      " 11  rating        110836 non-null  int64 \n",
      " 12  review        110836 non-null  object\n",
      "dtypes: int64(3), object(10)\n",
      "memory usage: 11.0+ MB\n"
     ]
    }
   ],
   "source": [
    "df.info()"
   ]
  },
  {
   "cell_type": "markdown",
   "metadata": {},
   "source": [
    "### 1.3 Data Cleaning"
   ]
  },
  {
   "cell_type": "code",
   "execution_count": 5,
   "metadata": {},
   "outputs": [],
   "source": [
    "df = df[df['title'].notna()]"
   ]
  },
  {
   "cell_type": "code",
   "execution_count": 6,
   "metadata": {},
   "outputs": [],
   "source": [
    "df = df.drop(columns = ['Unnamed: 0'])"
   ]
  },
  {
   "cell_type": "code",
   "execution_count": 7,
   "metadata": {},
   "outputs": [],
   "source": [
    "def dropn(x):\n",
    "    return x.replace('\\n', '')"
   ]
  },
  {
   "cell_type": "code",
   "execution_count": 8,
   "metadata": {},
   "outputs": [],
   "source": [
    "df['title'] = df['title'].apply(dropn)\n",
    "df['user_score'] = df['user_score'].apply(dropn)\n",
    "df['name'] = df['name'].apply(dropn)\n",
    "df['review'] = df['review'].apply(dropn)"
   ]
  },
  {
   "cell_type": "code",
   "execution_count": 9,
   "metadata": {},
   "outputs": [],
   "source": [
    "df['release_date'] = pd.to_datetime(df['release_date'])\n",
    "df['date'] = pd.to_datetime(df['date'])"
   ]
  },
  {
   "cell_type": "code",
   "execution_count": 10,
   "metadata": {},
   "outputs": [],
   "source": [
    "df = df.sort_values(['genre', 'release_date'], ascending = (True,False)).reset_index(drop = True)"
   ]
  },
  {
   "cell_type": "code",
   "execution_count": 11,
   "metadata": {},
   "outputs": [
    {
     "data": {
      "text/html": [
       "<div>\n",
       "<style scoped>\n",
       "    .dataframe tbody tr th:only-of-type {\n",
       "        vertical-align: middle;\n",
       "    }\n",
       "\n",
       "    .dataframe tbody tr th {\n",
       "        vertical-align: top;\n",
       "    }\n",
       "\n",
       "    .dataframe thead th {\n",
       "        text-align: right;\n",
       "    }\n",
       "</style>\n",
       "<table border=\"1\" class=\"dataframe\">\n",
       "  <thead>\n",
       "    <tr style=\"text-align: right;\">\n",
       "      <th></th>\n",
       "      <th>title</th>\n",
       "      <th>artist</th>\n",
       "      <th>label</th>\n",
       "      <th>release_date</th>\n",
       "      <th>metascore</th>\n",
       "      <th>user_score</th>\n",
       "      <th>genre</th>\n",
       "      <th>summary</th>\n",
       "      <th>name</th>\n",
       "      <th>date</th>\n",
       "      <th>rating</th>\n",
       "      <th>review</th>\n",
       "    </tr>\n",
       "  </thead>\n",
       "  <tbody>\n",
       "    <tr>\n",
       "      <th>0</th>\n",
       "      <td>The Wanting</td>\n",
       "      <td>Glenn Jones</td>\n",
       "      <td>Thrill Jockey</td>\n",
       "      <td>2011-09-13</td>\n",
       "      <td>77</td>\n",
       "      <td>tbd</td>\n",
       "      <td>Adult Alternative</td>\n",
       "      <td>The fourth solo acoustic album for the guitari...</td>\n",
       "      <td>Mojo</td>\n",
       "      <td>2011-09-27</td>\n",
       "      <td>80</td>\n",
       "      <td>Like all the b...</td>\n",
       "    </tr>\n",
       "    <tr>\n",
       "      <th>1</th>\n",
       "      <td>The Wanting</td>\n",
       "      <td>Glenn Jones</td>\n",
       "      <td>Thrill Jockey</td>\n",
       "      <td>2011-09-13</td>\n",
       "      <td>77</td>\n",
       "      <td>tbd</td>\n",
       "      <td>Adult Alternative</td>\n",
       "      <td>The fourth solo acoustic album for the guitari...</td>\n",
       "      <td>Boston Globe</td>\n",
       "      <td>2011-09-22</td>\n",
       "      <td>80</td>\n",
       "      <td>Jones furthers...</td>\n",
       "    </tr>\n",
       "    <tr>\n",
       "      <th>2</th>\n",
       "      <td>The Wanting</td>\n",
       "      <td>Glenn Jones</td>\n",
       "      <td>Thrill Jockey</td>\n",
       "      <td>2011-09-13</td>\n",
       "      <td>77</td>\n",
       "      <td>tbd</td>\n",
       "      <td>Adult Alternative</td>\n",
       "      <td>The fourth solo acoustic album for the guitari...</td>\n",
       "      <td>AllMusic</td>\n",
       "      <td>2011-09-22</td>\n",
       "      <td>80</td>\n",
       "      <td>If Jones' perf...</td>\n",
       "    </tr>\n",
       "    <tr>\n",
       "      <th>3</th>\n",
       "      <td>The Wanting</td>\n",
       "      <td>Glenn Jones</td>\n",
       "      <td>Thrill Jockey</td>\n",
       "      <td>2011-09-13</td>\n",
       "      <td>77</td>\n",
       "      <td>tbd</td>\n",
       "      <td>Adult Alternative</td>\n",
       "      <td>The fourth solo acoustic album for the guitari...</td>\n",
       "      <td>Drowned In Sound</td>\n",
       "      <td>2011-09-22</td>\n",
       "      <td>80</td>\n",
       "      <td>The Wanting bo...</td>\n",
       "    </tr>\n",
       "    <tr>\n",
       "      <th>4</th>\n",
       "      <td>The Wanting</td>\n",
       "      <td>Glenn Jones</td>\n",
       "      <td>Thrill Jockey</td>\n",
       "      <td>2011-09-13</td>\n",
       "      <td>77</td>\n",
       "      <td>tbd</td>\n",
       "      <td>Adult Alternative</td>\n",
       "      <td>The fourth solo acoustic album for the guitari...</td>\n",
       "      <td>PopMatters</td>\n",
       "      <td>2011-09-22</td>\n",
       "      <td>80</td>\n",
       "      <td>This is music ...</td>\n",
       "    </tr>\n",
       "  </tbody>\n",
       "</table>\n",
       "</div>"
      ],
      "text/plain": [
       "         title       artist          label release_date  metascore user_score  \\\n",
       "0  The Wanting  Glenn Jones  Thrill Jockey   2011-09-13         77        tbd   \n",
       "1  The Wanting  Glenn Jones  Thrill Jockey   2011-09-13         77        tbd   \n",
       "2  The Wanting  Glenn Jones  Thrill Jockey   2011-09-13         77        tbd   \n",
       "3  The Wanting  Glenn Jones  Thrill Jockey   2011-09-13         77        tbd   \n",
       "4  The Wanting  Glenn Jones  Thrill Jockey   2011-09-13         77        tbd   \n",
       "\n",
       "               genre                                            summary  \\\n",
       "0  Adult Alternative  The fourth solo acoustic album for the guitari...   \n",
       "1  Adult Alternative  The fourth solo acoustic album for the guitari...   \n",
       "2  Adult Alternative  The fourth solo acoustic album for the guitari...   \n",
       "3  Adult Alternative  The fourth solo acoustic album for the guitari...   \n",
       "4  Adult Alternative  The fourth solo acoustic album for the guitari...   \n",
       "\n",
       "               name       date  rating  \\\n",
       "0              Mojo 2011-09-27      80   \n",
       "1      Boston Globe 2011-09-22      80   \n",
       "2          AllMusic 2011-09-22      80   \n",
       "3  Drowned In Sound 2011-09-22      80   \n",
       "4        PopMatters 2011-09-22      80   \n",
       "\n",
       "                                              review  \n",
       "0                                  Like all the b...  \n",
       "1                                  Jones furthers...  \n",
       "2                                  If Jones' perf...  \n",
       "3                                  The Wanting bo...  \n",
       "4                                  This is music ...  "
      ]
     },
     "execution_count": 11,
     "metadata": {},
     "output_type": "execute_result"
    }
   ],
   "source": [
    "df.head()"
   ]
  },
  {
   "cell_type": "code",
   "execution_count": 12,
   "metadata": {},
   "outputs": [],
   "source": [
    "def clean_rev(text):\n",
    "    text = text.str.replace(\"<br/>\", \"\")\n",
    "    text = text.str.replace(\"'\", '')\n",
    "    text = text.str.replace(\"-\", '')\n",
    "    text = text.str.replace('(<a).*(>).*(</a>)', '')\n",
    "    text = text.str.replace('&amp', '')\n",
    "    text = text.str.replace('&gt', '')\n",
    "    text = text.str.replace('&lt', '')\n",
    "    text = text.str.replace('\\xa0', ' ')\n",
    "    text = text.str.replace('[^\\w\\s]', ' ')\n",
    "    text = text.str.replace('[0-9]', ' ')\n",
    "    text = text.str.lower() \n",
    "    return text\n"
   ]
  },
  {
   "cell_type": "code",
   "execution_count": 13,
   "metadata": {},
   "outputs": [],
   "source": [
    "df['clean_review'] = clean_rev(df['review'])"
   ]
  },
  {
   "cell_type": "markdown",
   "metadata": {},
   "source": [
    "## 2. Preprocessing & Feature Engineering"
   ]
  },
  {
   "cell_type": "code",
   "execution_count": 14,
   "metadata": {},
   "outputs": [],
   "source": [
    "stopwords_list=stopwords.words('english')+list(string.punctuation)+['album','albums', 'songs', 'song', 'music', 'like', 'one']"
   ]
  },
  {
   "cell_type": "code",
   "execution_count": 15,
   "metadata": {},
   "outputs": [],
   "source": [
    "df['clean_review'] = df['clean_review'].apply(lambda text_list: ' '.join([x for x in text_list.split() if x not in stopwords_list]))"
   ]
  },
  {
   "cell_type": "code",
   "execution_count": 16,
   "metadata": {},
   "outputs": [],
   "source": [
    "df['length'] = df['review'].astype(str).apply(len)\n",
    "df['word_count'] = df['review'].apply(lambda x: len(str(x).split()))"
   ]
  },
  {
   "cell_type": "markdown",
   "metadata": {},
   "source": [
    "Classifying review sentiment using Vader"
   ]
  },
  {
   "cell_type": "code",
   "execution_count": 17,
   "metadata": {},
   "outputs": [],
   "source": [
    "analyzer = SentimentIntensityAnalyzer()\n"
   ]
  },
  {
   "cell_type": "code",
   "execution_count": 18,
   "metadata": {},
   "outputs": [],
   "source": [
    "df['sentiment'] = [analyzer.polarity_scores(x)['compound'] for x in df['clean_review']]\n",
    "df['negative'] = [analyzer.polarity_scores(x)['neg'] for x in df['clean_review']]\n",
    "df['neutral'] = [analyzer.polarity_scores(x)['neu'] for x in df['clean_review']]\n",
    "df['positive'] = [analyzer.polarity_scores(x)['pos'] for x in df['clean_review']]"
   ]
  },
  {
   "cell_type": "code",
   "execution_count": 19,
   "metadata": {},
   "outputs": [],
   "source": [
    "df['sent_class'] = np.where(df['sentiment'] >= 0.05, 1, df['sentiment'])\n",
    "df['sent_class'] = np.where((df['sentiment'] > -0.05) & (df['sentiment'] < 0.05), 0, df['sent_class'])\n",
    "df['sent_class'] = np.where(df['sentiment'] <= -0.05, -1, df['sent_class'])"
   ]
  },
  {
   "cell_type": "code",
   "execution_count": 20,
   "metadata": {},
   "outputs": [
    {
     "data": {
      "text/plain": [
       "Indie                29214\n",
       "Rock                 21466\n",
       "Electronic           20329\n",
       "Rap                  13763\n",
       "Country               5060\n",
       "Pop                   4718\n",
       "R&B                   4632\n",
       "Folk                  3760\n",
       "Jazz                  2150\n",
       "Dance                 1437\n",
       "Experimental           664\n",
       "Alternative            583\n",
       "Blues                  530\n",
       "Alt-Country            328\n",
       "Bluegrass              315\n",
       "Reggae                 312\n",
       "Punk                   267\n",
       "World                  245\n",
       "Latin                  222\n",
       "Soul                   160\n",
       "Soundtrack             158\n",
       "Metal                  123\n",
       "Adult Alternative      102\n",
       "Comedy                  81\n",
       "House                   55\n",
       "Singer-Songwriter       51\n",
       "Classical               31\n",
       "Electronica             19\n",
       "Avant-Garde             16\n",
       "Psychedelic             12\n",
       "Adult-Alternative       11\n",
       "Trip-Hop                10\n",
       "Live                     8\n",
       "Singer/Songwriter        4\n",
       "Name: genre, dtype: int64"
      ]
     },
     "execution_count": 20,
     "metadata": {},
     "output_type": "execute_result"
    }
   ],
   "source": [
    "df.genre.value_counts()"
   ]
  },
  {
   "cell_type": "markdown",
   "metadata": {},
   "source": [
    "Lemmatizing with spaCy"
   ]
  },
  {
   "cell_type": "code",
   "execution_count": 21,
   "metadata": {},
   "outputs": [],
   "source": [
    "sp = spacy.load('en_core_web_md')\n",
    "lookups = Lookups()\n",
    "lemm = Lemmatizer(lookups)"
   ]
  },
  {
   "cell_type": "code",
   "execution_count": 22,
   "metadata": {},
   "outputs": [],
   "source": [
    "def lem_function(text):\n",
    "    dummy = []\n",
    "    for word in sp(text):\n",
    "        dummy.append(word.lemma_)\n",
    "    return ' '.join(dummy)"
   ]
  },
  {
   "cell_type": "code",
   "execution_count": 23,
   "metadata": {},
   "outputs": [
    {
     "name": "stderr",
     "output_type": "stream",
     "text": [
      "/Users/danielmocombe/anaconda3/lib/python3.7/site-packages/tqdm/std.py:658: FutureWarning: The Panel class is removed from pandas. Accessing it from the top-level namespace will also be removed in the next version\n",
      "  from pandas import Panel\n"
     ]
    }
   ],
   "source": [
    "tqdm.pandas()"
   ]
  },
  {
   "cell_type": "code",
   "execution_count": 24,
   "metadata": {},
   "outputs": [
    {
     "name": "stderr",
     "output_type": "stream",
     "text": [
      "100%|██████████| 110836/110836 [14:20<00:00, 128.74it/s]\n"
     ]
    }
   ],
   "source": [
    "df['sp_lm'] = df['clean_review'].progress_apply(lambda x: lem_function(x))"
   ]
  },
  {
   "cell_type": "code",
   "execution_count": 25,
   "metadata": {},
   "outputs": [
    {
     "name": "stderr",
     "output_type": "stream",
     "text": [
      "100%|██████████| 110836/110836 [00:00<00:00, 820235.37it/s]\n"
     ]
    }
   ],
   "source": [
    "df['sp_lm'] = df['sp_lm'].progress_apply(lambda x: x.replace('-PRON-', ' '))"
   ]
  },
  {
   "cell_type": "code",
   "execution_count": 26,
   "metadata": {
    "scrolled": true
   },
   "outputs": [
    {
     "data": {
      "text/html": [
       "<div>\n",
       "<style scoped>\n",
       "    .dataframe tbody tr th:only-of-type {\n",
       "        vertical-align: middle;\n",
       "    }\n",
       "\n",
       "    .dataframe tbody tr th {\n",
       "        vertical-align: top;\n",
       "    }\n",
       "\n",
       "    .dataframe thead th {\n",
       "        text-align: right;\n",
       "    }\n",
       "</style>\n",
       "<table border=\"1\" class=\"dataframe\">\n",
       "  <thead>\n",
       "    <tr style=\"text-align: right;\">\n",
       "      <th></th>\n",
       "      <th>title</th>\n",
       "      <th>artist</th>\n",
       "      <th>label</th>\n",
       "      <th>release_date</th>\n",
       "      <th>metascore</th>\n",
       "      <th>user_score</th>\n",
       "      <th>genre</th>\n",
       "      <th>summary</th>\n",
       "      <th>name</th>\n",
       "      <th>date</th>\n",
       "      <th>...</th>\n",
       "      <th>review</th>\n",
       "      <th>clean_review</th>\n",
       "      <th>length</th>\n",
       "      <th>word_count</th>\n",
       "      <th>sentiment</th>\n",
       "      <th>negative</th>\n",
       "      <th>neutral</th>\n",
       "      <th>positive</th>\n",
       "      <th>sent_class</th>\n",
       "      <th>sp_lm</th>\n",
       "    </tr>\n",
       "  </thead>\n",
       "  <tbody>\n",
       "    <tr>\n",
       "      <th>0</th>\n",
       "      <td>The Wanting</td>\n",
       "      <td>Glenn Jones</td>\n",
       "      <td>Thrill Jockey</td>\n",
       "      <td>2011-09-13</td>\n",
       "      <td>77</td>\n",
       "      <td>tbd</td>\n",
       "      <td>Adult Alternative</td>\n",
       "      <td>The fourth solo acoustic album for the guitari...</td>\n",
       "      <td>Mojo</td>\n",
       "      <td>2011-09-27</td>\n",
       "      <td>...</td>\n",
       "      <td>Like all the b...</td>\n",
       "      <td>best dreams oct p</td>\n",
       "      <td>103</td>\n",
       "      <td>8</td>\n",
       "      <td>0.7845</td>\n",
       "      <td>0.000</td>\n",
       "      <td>0.225</td>\n",
       "      <td>0.775</td>\n",
       "      <td>1.0</td>\n",
       "      <td>good dream oct p</td>\n",
       "    </tr>\n",
       "    <tr>\n",
       "      <th>1</th>\n",
       "      <td>The Wanting</td>\n",
       "      <td>Glenn Jones</td>\n",
       "      <td>Thrill Jockey</td>\n",
       "      <td>2011-09-13</td>\n",
       "      <td>77</td>\n",
       "      <td>tbd</td>\n",
       "      <td>Adult Alternative</td>\n",
       "      <td>The fourth solo acoustic album for the guitari...</td>\n",
       "      <td>Boston Globe</td>\n",
       "      <td>2011-09-22</td>\n",
       "      <td>...</td>\n",
       "      <td>Jones furthers...</td>\n",
       "      <td>jones furthers exploratory path hes committed ...</td>\n",
       "      <td>351</td>\n",
       "      <td>43</td>\n",
       "      <td>0.9274</td>\n",
       "      <td>0.078</td>\n",
       "      <td>0.493</td>\n",
       "      <td>0.428</td>\n",
       "      <td>1.0</td>\n",
       "      <td>jones further exploratory path   s commit tran...</td>\n",
       "    </tr>\n",
       "    <tr>\n",
       "      <th>2</th>\n",
       "      <td>The Wanting</td>\n",
       "      <td>Glenn Jones</td>\n",
       "      <td>Thrill Jockey</td>\n",
       "      <td>2011-09-13</td>\n",
       "      <td>77</td>\n",
       "      <td>tbd</td>\n",
       "      <td>Adult Alternative</td>\n",
       "      <td>The fourth solo acoustic album for the guitari...</td>\n",
       "      <td>AllMusic</td>\n",
       "      <td>2011-09-22</td>\n",
       "      <td>...</td>\n",
       "      <td>If Jones' perf...</td>\n",
       "      <td>jones performances compositions years touched ...</td>\n",
       "      <td>372</td>\n",
       "      <td>56</td>\n",
       "      <td>0.4767</td>\n",
       "      <td>0.000</td>\n",
       "      <td>0.812</td>\n",
       "      <td>0.188</td>\n",
       "      <td>1.0</td>\n",
       "      <td>jones performances composition year touch them...</td>\n",
       "    </tr>\n",
       "    <tr>\n",
       "      <th>3</th>\n",
       "      <td>The Wanting</td>\n",
       "      <td>Glenn Jones</td>\n",
       "      <td>Thrill Jockey</td>\n",
       "      <td>2011-09-13</td>\n",
       "      <td>77</td>\n",
       "      <td>tbd</td>\n",
       "      <td>Adult Alternative</td>\n",
       "      <td>The fourth solo acoustic album for the guitari...</td>\n",
       "      <td>Drowned In Sound</td>\n",
       "      <td>2011-09-22</td>\n",
       "      <td>...</td>\n",
       "      <td>The Wanting bo...</td>\n",
       "      <td>wanting boasts technical excellence cosy welco...</td>\n",
       "      <td>197</td>\n",
       "      <td>20</td>\n",
       "      <td>0.8932</td>\n",
       "      <td>0.000</td>\n",
       "      <td>0.457</td>\n",
       "      <td>0.543</td>\n",
       "      <td>1.0</td>\n",
       "      <td>want boast technical excellence cosy welcoming...</td>\n",
       "    </tr>\n",
       "    <tr>\n",
       "      <th>4</th>\n",
       "      <td>The Wanting</td>\n",
       "      <td>Glenn Jones</td>\n",
       "      <td>Thrill Jockey</td>\n",
       "      <td>2011-09-13</td>\n",
       "      <td>77</td>\n",
       "      <td>tbd</td>\n",
       "      <td>Adult Alternative</td>\n",
       "      <td>The fourth solo acoustic album for the guitari...</td>\n",
       "      <td>PopMatters</td>\n",
       "      <td>2011-09-22</td>\n",
       "      <td>...</td>\n",
       "      <td>This is music ...</td>\n",
       "      <td>makes space creates landscape invites</td>\n",
       "      <td>151</td>\n",
       "      <td>17</td>\n",
       "      <td>0.2732</td>\n",
       "      <td>0.000</td>\n",
       "      <td>0.656</td>\n",
       "      <td>0.344</td>\n",
       "      <td>1.0</td>\n",
       "      <td>make space create landscape invite</td>\n",
       "    </tr>\n",
       "  </tbody>\n",
       "</table>\n",
       "<p>5 rows × 21 columns</p>\n",
       "</div>"
      ],
      "text/plain": [
       "         title       artist          label release_date  metascore user_score  \\\n",
       "0  The Wanting  Glenn Jones  Thrill Jockey   2011-09-13         77        tbd   \n",
       "1  The Wanting  Glenn Jones  Thrill Jockey   2011-09-13         77        tbd   \n",
       "2  The Wanting  Glenn Jones  Thrill Jockey   2011-09-13         77        tbd   \n",
       "3  The Wanting  Glenn Jones  Thrill Jockey   2011-09-13         77        tbd   \n",
       "4  The Wanting  Glenn Jones  Thrill Jockey   2011-09-13         77        tbd   \n",
       "\n",
       "               genre                                            summary  \\\n",
       "0  Adult Alternative  The fourth solo acoustic album for the guitari...   \n",
       "1  Adult Alternative  The fourth solo acoustic album for the guitari...   \n",
       "2  Adult Alternative  The fourth solo acoustic album for the guitari...   \n",
       "3  Adult Alternative  The fourth solo acoustic album for the guitari...   \n",
       "4  Adult Alternative  The fourth solo acoustic album for the guitari...   \n",
       "\n",
       "               name       date  ...  \\\n",
       "0              Mojo 2011-09-27  ...   \n",
       "1      Boston Globe 2011-09-22  ...   \n",
       "2          AllMusic 2011-09-22  ...   \n",
       "3  Drowned In Sound 2011-09-22  ...   \n",
       "4        PopMatters 2011-09-22  ...   \n",
       "\n",
       "                                              review  \\\n",
       "0                                  Like all the b...   \n",
       "1                                  Jones furthers...   \n",
       "2                                  If Jones' perf...   \n",
       "3                                  The Wanting bo...   \n",
       "4                                  This is music ...   \n",
       "\n",
       "                                        clean_review length  word_count  \\\n",
       "0                                  best dreams oct p    103           8   \n",
       "1  jones furthers exploratory path hes committed ...    351          43   \n",
       "2  jones performances compositions years touched ...    372          56   \n",
       "3  wanting boasts technical excellence cosy welco...    197          20   \n",
       "4              makes space creates landscape invites    151          17   \n",
       "\n",
       "   sentiment  negative  neutral  positive  sent_class  \\\n",
       "0     0.7845     0.000    0.225     0.775         1.0   \n",
       "1     0.9274     0.078    0.493     0.428         1.0   \n",
       "2     0.4767     0.000    0.812     0.188         1.0   \n",
       "3     0.8932     0.000    0.457     0.543         1.0   \n",
       "4     0.2732     0.000    0.656     0.344         1.0   \n",
       "\n",
       "                                               sp_lm  \n",
       "0                                   good dream oct p  \n",
       "1  jones further exploratory path   s commit tran...  \n",
       "2  jones performances composition year touch them...  \n",
       "3  want boast technical excellence cosy welcoming...  \n",
       "4                 make space create landscape invite  \n",
       "\n",
       "[5 rows x 21 columns]"
      ]
     },
     "execution_count": 26,
     "metadata": {},
     "output_type": "execute_result"
    }
   ],
   "source": [
    "df.head()"
   ]
  },
  {
   "cell_type": "code",
   "execution_count": null,
   "metadata": {},
   "outputs": [],
   "source": []
  }
 ],
 "metadata": {
  "kernelspec": {
   "display_name": "Python 3",
   "language": "python",
   "name": "python3"
  },
  "language_info": {
   "codemirror_mode": {
    "name": "ipython",
    "version": 3
   },
   "file_extension": ".py",
   "mimetype": "text/x-python",
   "name": "python",
   "nbconvert_exporter": "python",
   "pygments_lexer": "ipython3",
   "version": "3.7.6"
  }
 },
 "nbformat": 4,
 "nbformat_minor": 4
}
